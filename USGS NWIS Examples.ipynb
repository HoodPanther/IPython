{
 "cells": [
  {
   "cell_type": "markdown",
   "metadata": {},
   "source": [
    "This notebook uses the Scientific Python (scipy) stack tools to generate flow duration curves from current USGS NWIS data.\n",
    "\n",
    "Using recipes from this notebook, you can make:\n",
    "* USGS Station Summaries\n",
    "* Flow duration curves\n",
    "* Iterative import and compilation of USGS station information and data\n",
    "* boxplots using pandas\n",
    "* iterative charts (one monthly summary boxplot per station)\n",
    "* Gantt charts of USGS stations"
   ]
  },
  {
   "cell_type": "markdown",
   "metadata": {},
   "source": [
    "# Background"
   ]
  },
  {
   "cell_type": "code",
   "execution_count": 1,
   "metadata": {
    "collapsed": true
   },
   "outputs": [],
   "source": [
    "%matplotlib inline\n",
    "import pandas as pd\n",
    "import numpy as np\n",
    "\n",
    "import platform\n",
    "import sys\n",
    "\n",
    "from datetime import datetime, date, timedelta\n",
    "import matplotlib.pyplot as plt\n",
    "import matplotlib\n",
    "from pylab import rcParams\n",
    "rcParams['figure.figsize'] = 15, 10"
   ]
  },
  {
   "cell_type": "code",
   "execution_count": 2,
   "metadata": {
    "collapsed": false
   },
   "outputs": [
    {
     "name": "stdout",
     "output_type": "stream",
     "text": [
      "The history saving thread hit an unexpected error (OperationalError('database is locked',)).History will not be written to the database.\n"
     ]
    }
   ],
   "source": [
    "import wellapplication as wa"
   ]
  },
  {
   "cell_type": "code",
   "execution_count": 3,
   "metadata": {
    "collapsed": false
   },
   "outputs": [
    {
     "name": "stdout",
     "output_type": "stream",
     "text": [
      "Operating System Windows 7\n",
      "Python Version 2.7.10 (default, May 23 2015, 09:40:32) [MSC v.1500 32 bit (Intel)]\n",
      "Pandas Version 0.19.1\n",
      "Numpy Version 1.11.2\n",
      "Matplotlib Version 1.5.3\n",
      "Wellapplication Version 0.4.19\n"
     ]
    }
   ],
   "source": [
    "print(\"Operating System {:} {:}\".format(platform.system(),platform.release()))\n",
    "print(\"Python Version {:}\".format(sys.version))\n",
    "print(\"Pandas Version {:}\".format(pd.__version__))\n",
    "print(\"Numpy Version {:}\".format(np.__version__))\n",
    "print(\"Matplotlib Version {:}\".format(matplotlib.__version__))\n",
    "print(\"Wellapplication Version {:}\".format(wa.__version__))"
   ]
  },
  {
   "cell_type": "markdown",
   "metadata": {},
   "source": [
    "The `nwis` class in wellapplication can pull data from the <a href='https://waterdata.usgs.gov/nwis'>USGS NWIS site</a>."
   ]
  },
  {
   "cell_type": "code",
   "execution_count": null,
   "metadata": {
    "collapsed": false
   },
   "outputs": [],
   "source": [
    "logan = wa.nwis('dv','10109000','sites')"
   ]
  },
  {
   "cell_type": "code",
   "execution_count": null,
   "metadata": {
    "collapsed": true
   },
   "outputs": [],
   "source": [
    "q = 2*T*(h/a)*exp((-1*(np.pi()^2)*T*t)/(4*S*a^2))"
   ]
  },
  {
   "cell_type": "code",
   "execution_count": null,
   "metadata": {
    "collapsed": false
   },
   "outputs": [],
   "source": [
    "x.rolling(window=60).apply(my_ols)"
   ]
  },
  {
   "cell_type": "code",
   "execution_count": null,
   "metadata": {
    "collapsed": true
   },
   "outputs": [],
   "source": []
  },
  {
   "cell_type": "code",
   "execution_count": null,
   "metadata": {
    "collapsed": false
   },
   "outputs": [],
   "source": [
    "logan.data.plot()\n",
    "plt.yscale('log')\n",
    "plt.xlim('1/1/1972','1/1/1975')"
   ]
  },
  {
   "cell_type": "code",
   "execution_count": 4,
   "metadata": {
    "collapsed": false
   },
   "outputs": [
    {
     "name": "stdout",
     "output_type": "stream",
     "text": [
      "connection successful\n"
     ]
    },
    {
     "data": {
      "image/png": "[encoded data removed]",
      "text/plain": [
       "<matplotlib.figure.Figure at 0x8da6370>"
      ]
     },
     "metadata": {},
     "output_type": "display_data"
    }
   ],
   "source": [
    "def test_recess():\n",
    "    ashley = wa.nwis('dv', '09265500','sites', startDT='2015-06-02' ,endDT='2015-06-14')\n",
    "    rec = wa.graphs.recess(ashley.data, 'value', st=[2015,6,2])\n",
    "    assert round(rec.rec_results[0],2) == 0.04\n",
    "    \n",
    "test_recess()"
   ]
  },
  {
   "cell_type": "code",
   "execution_count": 12,
   "metadata": {
    "collapsed": false
   },
   "outputs": [
    {
     "name": "stdout",
     "output_type": "stream",
     "text": [
      "connection successful\n"
     ]
    },
    {
     "data": {
      "text/plain": [
       "True"
      ]
     },
     "execution_count": 12,
     "metadata": {},
     "output_type": "execute_result"
    }
   ],
   "source": [
    "def test_get_recess_int():\n",
    "    ashley = wa.nwis('dv', '09265500','sites', startDT='2015-01-02' ,endDT='2015-10-14')\n",
    "    assert type(wa.get_recess_int(ashley.data, 'value')[0]) == pd.DataFrame"
   ]
  },
  {
   "cell_type": "code",
   "execution_count": null,
   "metadata": {
    "collapsed": false
   },
   "outputs": [],
   "source": [
    "ashley = wa.nwis('dv', '09265500','sites', startDT='2014-09-15' ,endDT='2014-10-15')\n",
    "adata = ashley.data\n",
    "adata['roll'] = ashley.data.value.rolling(15,center=True).max()\n",
    "adata['dQ'] = adata.value.diff(1)\n",
    "adata['shiftQ'] = adata.dQ.shift(1)\n",
    "adata['dshift'] = adata['dQ'] - adata['shiftQ']\n",
    "adata[['value','dQ','shiftQ','dshift','roll']]"
   ]
  },
  {
   "cell_type": "code",
   "execution_count": null,
   "metadata": {
    "collapsed": true
   },
   "outputs": [],
   "source": [
    "import numpy as np\n",
    "import pandas as pd\n",
    "from scipy.signal import argrelextrema"
   ]
  },
  {
   "cell_type": "code",
   "execution_count": null,
   "metadata": {
    "collapsed": false
   },
   "outputs": [],
   "source": [
    "maxlist = adata.index[adata['max'].notnull()]\n",
    "firstmin = []\n",
    "for ind in maxlist:\n",
    "    firstmin.append(adata.ix[ind:,'min'].first_valid_index())"
   ]
  },
  {
   "cell_type": "code",
   "execution_count": null,
   "metadata": {
    "collapsed": false
   },
   "outputs": [],
   "source": [
    "print(len(firstmin),len(maxlist))"
   ]
  },
  {
   "cell_type": "code",
   "execution_count": null,
   "metadata": {
    "collapsed": false
   },
   "outputs": [],
   "source": [
    "ashley = wa.nwis('dv', '09265500','sites', startDT='2011-09-15' ,endDT='2016-10-15')\n",
    "\n",
    "\n",
    "def get_recess_int(df, Q, maxper=18, minper=6, thresh=30, inplace=False):\n",
    "    if inplace:\n",
    "        data = df\n",
    "    else:\n",
    "        data = df.copy()\n",
    "    data['max'] = data[Q].rolling(maxper,center=True).max()\n",
    "    data['max'] = data.ix[data['max'] == data['value'],'max']\n",
    "    data['max'] = data.ix[data['max'] > thresh, 'max']\n",
    "    data['min'] = ashley.data.value.rolling(minper,center=True).min()\n",
    "    data['min'] = data.ix[data['min'] == data['value'],'min']\n",
    "\n",
    "    maxlist = data.index[data['max'].notnull()]\n",
    "    firstmin = []\n",
    "    for ind in maxlist:\n",
    "        firstmin.append(data.ix[ind:,'min'].first_valid_index())\n",
    "    data['min'] = data.ix[data.index.isin(firstmin),'min']\n",
    "    return data, maxlist, firstmin\n",
    "\n",
    "adata, maxs, mins = get_recess_int(ashley.data, 'value')\n",
    "    \n",
    "    \n",
    "chngpoint = adata[adata['max'] == adata['value']]\n",
    "chngpoint2 = adata[adata['min'] == adata['value']]\n",
    "plt.figure()\n",
    "x = chngpoint.index\n",
    "y = chngpoint.value\n",
    "\n",
    "x2 = chngpoint2.index\n",
    "y2 = chngpoint2.value\n",
    "\n",
    "ashley.data.value.plot()\n",
    "plt.scatter(x,y,color='red')\n",
    "plt.scatter(x2,y2,color='green')\n",
    "plt.xlim('4/1/2013','11/1/2015')"
   ]
  },
  {
   "cell_type": "code",
   "execution_count": null,
   "metadata": {
    "collapsed": false
   },
   "outputs": [],
   "source": [
    "adata"
   ]
  },
  {
   "cell_type": "code",
   "execution_count": null,
   "metadata": {
    "collapsed": false
   },
   "outputs": [],
   "source": [
    "maxlist[0].year, maxlist[0].month, maxlist[0].day"
   ]
  },
  {
   "cell_type": "code",
   "execution_count": null,
   "metadata": {
    "collapsed": false
   },
   "outputs": [],
   "source": [
    "if firstmin[-1] is None:\n",
    "    firstmin = firstmin[:-1]\n",
    "    maxlist = maxlist[:-1]"
   ]
  },
  {
   "cell_type": "code",
   "execution_count": null,
   "metadata": {
    "collapsed": false
   },
   "outputs": [],
   "source": [
    "rec = []\n",
    "for m in range(len(maxlist)):\n",
    "    rec.append(wa.graphs.recess(ashley.data, 'value', \n",
    "                           st=[maxlist[m].year,maxlist[m].month,maxlist[m].day], \n",
    "                           end=[firstmin[m].year,firstmin[m].month, firstmin[m].day]))"
   ]
  },
  {
   "cell_type": "code",
   "execution_count": null,
   "metadata": {
    "collapsed": false
   },
   "outputs": [],
   "source": [
    "rec[0]"
   ]
  },
  {
   "cell_type": "code",
   "execution_count": null,
   "metadata": {
    "collapsed": false
   },
   "outputs": [],
   "source": [
    "logan.sites"
   ]
  },
  {
   "cell_type": "code",
   "execution_count": null,
   "metadata": {
    "collapsed": false
   },
   "outputs": [],
   "source": [
    "clean_discharge = logan.cleanGWL(discharge)\n",
    "clean_discharge.head()"
   ]
  },
  {
   "cell_type": "code",
   "execution_count": null,
   "metadata": {
    "collapsed": false
   },
   "outputs": [],
   "source": [
    "avg = logan.avg_wl()\n",
    "avg.head()"
   ]
  },
  {
   "cell_type": "code",
   "execution_count": null,
   "metadata": {
    "collapsed": false
   },
   "outputs": [],
   "source": [
    "logan.out_format"
   ]
  },
  {
   "cell_type": "code",
   "execution_count": null,
   "metadata": {
    "collapsed": false
   },
   "outputs": [],
   "source": [
    "#wqq = wa.WQP('16010204','huc')\n",
    "nw = wa.nwis('gwlevels','16010204','huc',siteStatus='all')\n",
    "df = nw.get_info(siteStatus='all')"
   ]
  },
  {
   "cell_type": "code",
   "execution_count": null,
   "metadata": {
    "collapsed": true
   },
   "outputs": [],
   "source": [
    "rec = wa.recess()"
   ]
  },
  {
   "cell_type": "code",
   "execution_count": null,
   "metadata": {
    "collapsed": false
   },
   "outputs": [],
   "source": [
    "df = wa.fdc(logan.data,'value')\n",
    "assert len(df) == 2"
   ]
  },
  {
   "cell_type": "code",
   "execution_count": null,
   "metadata": {
    "collapsed": false
   },
   "outputs": [],
   "source": [
    "x = np.arange(1,100,1)\n",
    "y = np.arange(0.1,10.0,0.1)\n",
    "w = np.arange(5,500,5)\n",
    "out = wa.graphs.scatterColor(x,y,w)\n",
    "assert round(out[0],1) == 0.1"
   ]
  }
 ],
 "metadata": {
  "kernelspec": {
   "display_name": "Python 2",
   "language": "python",
   "name": "python2"
  },
  "language_info": {
   "codemirror_mode": {
    "name": "ipython",
    "version": 2
   },
   "file_extension": ".py",
   "mimetype": "text/x-python",
   "name": "python",
   "nbconvert_exporter": "python",
   "pygments_lexer": "ipython2",
   "version": "2.7.10"
  },
  "widgets": {
   "state": {},
   "version": "1.1.1"
  }
 },
 "nbformat": 4,
 "nbformat_minor": 1
}
