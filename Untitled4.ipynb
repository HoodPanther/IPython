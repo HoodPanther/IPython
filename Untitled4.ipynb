{
 "cells": [
  {
   "cell_type": "code",
   "execution_count": 1,
   "metadata": {
    "collapsed": false
   },
   "outputs": [
    {
     "data": {
      "text/plain": [
       "15"
      ]
     },
     "execution_count": 1,
     "metadata": {},
     "output_type": "execute_result"
    }
   ],
   "source": [
    "len(\"      0     2  \")"
   ]
  },
  {
   "cell_type": "code",
   "execution_count": 5,
   "metadata": {
    "collapsed": false
   },
   "outputs": [
    {
     "data": {
      "text/plain": [
       "7"
      ]
     },
     "execution_count": 5,
     "metadata": {},
     "output_type": "execute_result"
    }
   ],
   "source": [
    "len(\"      0\")"
   ]
  },
  {
   "cell_type": "code",
   "execution_count": 6,
   "metadata": {
    "collapsed": false
   },
   "outputs": [
    {
     "data": {
      "text/plain": [
       "100"
      ]
     },
     "execution_count": 6,
     "metadata": {},
     "output_type": "execute_result"
    }
   ],
   "source": [
    "len(\"     55    75  OTHER                                                                           BROWN\")"
   ]
  },
  {
   "cell_type": "code",
   "execution_count": 14,
   "metadata": {
    "collapsed": false
   },
   "outputs": [],
   "source": [
    "import re\n",
    "import numpy as np\n",
    "import glob\n",
    "import os"
   ]
  },
  {
   "cell_type": "code",
   "execution_count": 12,
   "metadata": {
    "collapsed": true
   },
   "outputs": [],
   "source": [
    "path = 'E:\\\\PROJECTS\\\\WR_DATA\\\\RawWellogs\\\\'"
   ]
  },
  {
   "cell_type": "code",
   "execution_count": 30,
   "metadata": {
    "collapsed": false
   },
   "outputs": [],
   "source": [
    "def tparser(blurb):\n",
    "    '''\n",
    "    parses a snippet of text from gettext by removing and replaces extra spaces and return characters\n",
    "    '''\n",
    "    blurb = re.sub('\\r\\n      +', '\\n',str(blurb))\n",
    "    blurb = re.sub('\\r\\n +','\\r\\n',blurb)\n",
    "    blurb = re.sub(',',';',blurb)\n",
    "    blurb = re.sub(' +',',',blurb)\n",
    "    blurb = re.sub('\\r\\n','\\n',blurb)\n",
    "    blurb = re.sub('\\n\\n','\\n',blurb)\n",
    "    return blurb\n",
    "\n",
    "def gettext(strttext,endtext,snip):\n",
    "    '''\n",
    "    selects a subset of text by searching the text for a beginning string and an ending string\n",
    "    \n",
    "    INPUT\n",
    "    -----\n",
    "    strttext = string to find that begins text subset\n",
    "    endtext = string to find that ends the text subset\n",
    "    snip = text to subset\n",
    "    \n",
    "    OUTPUT\n",
    "    ------\n",
    "    b = subset of text; returns np.nan if no strttext is found\n",
    "    '''\n",
    "    \n",
    "    b = snip[snip.find(strttext)+len(strttext):snip.find(endtext,snip.find(strttext))].strip()\n",
    "    if snip.find(strttext) == -1:\n",
    "        return np.nan\n",
    "    else:\n",
    "        return b\n",
    "\n",
    "def raises(exception_types, func, *args, **kw):\n",
    "    try:\n",
    "        func(*args, **kw)\n",
    "    except exception_types:\n",
    "        return True\n",
    "    else:\n",
    "        return False"
   ]
  },
  {
   "cell_type": "code",
   "execution_count": 76,
   "metadata": {
    "collapsed": false
   },
   "outputs": [
    {
     "name": "stdout",
     "output_type": "stream",
     "text": [
      "('00001', '0,2,OTHER,,,')\n",
      "('00001', 'SOIL')\n",
      "('00001', '2,8,CLAY,,,')\n",
      "('00001', '8,16,SAND,,,')\n",
      "('00001', '16,30,CLAY;SAND,,,')\n",
      "('00001', '30,90,SAND,,,')\n",
      "('00001', '90,98,CLAY,,,')\n",
      "('00001', '98,130,SAND,,,')\n",
      "('00001', '130,140,SILT,,,')\n",
      "('00001', '140,147,CLAY,,,')\n",
      "('00001', '147,165,SILT;SAND,,,')\n",
      "('00001', '165,170,SAND,,,')\n",
      "('00001', 'COARSE')\n",
      "('00001', '170,182,SAND;GRAVEL,,,')\n",
      "('00001', 'COARSE SAND FINE GRAVEL')\n",
      "('00001', '182,208,CLAY,,,')\n",
      "('00001', '208,218,SAND,,,')\n",
      "('00001', '218,228,CLAY,TAN,,')\n",
      "('00001', '228,251,SAND,GREY,,')\n",
      "('00001', '251,278,CLAY,,,')\n",
      "('00001', '278,281,SAND,,,')\n",
      "('00001', 'COARSE')\n",
      "('00001', '281,325,CLAY,,,')\n",
      "('00001', '325,341,SAND,,,')\n",
      "('00001', '341,345,GRAVEL,,,')\n",
      "('00001', 'FINE GRAVEL')\n",
      "('00001', '345,347,CLAY,,,')\n",
      "('00001', '347,364,SAND;GRAVEL,,,')\n",
      "('00001', 'FINE GRAVEL')\n",
      "('00001', '364,367,CLAY,,,')\n",
      "('00001', '367,380,SAND;GRAVEL,,,')\n",
      "('00001', 'FINE GRAVEL LAYERS')\n",
      "('00001', '380,398,CLAY,,,')\n",
      "('00001', '398,404,SAND,,,')\n",
      "('00001', '404,414,CLAY;SAND,,,')\n",
      "('00001', 'WOOD AND SEASHELLS')\n",
      "('00001', '414,435,SAND;GRAVEL,,,')\n",
      "('00001', \"COARSE AT 430'\")\n",
      "('00001', '435,442,CLAY,,,')\n",
      "('00001', '442,446,SAND,,,')\n",
      "('00001', '446,462,CLAY,,,')\n",
      "('00001', '462,463,SAND,,,')\n",
      "('00001', 'COARSE SAND - MARGINAL FOR PERFORATING')\n",
      "('00001', '463,480,CLAY;SAND,,,')\n",
      "('00001', 'CLAY WITH SAND STRINGERS')\n",
      "('00001', '480,493,SAND;GRAVEL,,,')\n",
      "('00001', \"COARSE SAND - FINE GRAVEL (COULD PERFORATE) BEST 485'\")\n",
      "('00001', '493,498,SAND;GRAVEL,,,')\n",
      "('00001', '498,501,CLAY,,,')\n",
      "('00001', '501,515,CLAY;SAND;BOULDERS,,,')\n",
      "('00001', 'CLAY WITH SAND STRINGERS')\n",
      "('00001', '515,524,SAND;GRAVEL,,,')\n",
      "('00001', 'SAND WITH FINE GRAVEL')\n",
      "('00001', '524,526,CLAY,,,')\n",
      "('00002', '0,86,SILT,,,')\n",
      "('00002', 'THIS WAS HEAVING SAND SO NO BAIL TEST WAS TRIED')\n",
      "('00002', '86,101,SAND,,,')\n",
      "('00003', '0,1,,,SALT,')\n",
      "('00003', '1,17,CLAY;SILT,GREY,,')\n",
      "('00003', '17,21,SAND,GREY,,')\n",
      "('00003', '21,46,CLAY;SILT;SAND,,,')\n",
      "('00003', '46,60,CLAY;SAND;GRAVEL,,,')\n",
      "('00003', 'GRAVELS SMALL')\n",
      "('00005', '0,65,CLAY,,,')\n",
      "('00005', '65,72,SAND,,,')\n",
      "('00005', '72,91,CLAY,,,')\n",
      "('00005', '91,95,SAND,,,')\n",
      "('00005', '95,103,CLAY,,,')\n",
      "('00005', '103,109,SAND;GRAVEL,,,')\n",
      "('00005', '109,136,CLAY,,,')\n",
      "('00005', '136,141,SAND,,,')\n",
      "('00005', '141,161,CLAY,,,')\n",
      "('00005', '161,170,SAND;GRAVEL,,,')\n",
      "('00005', '170,207,CLAY,,,')\n",
      "('00005', '207,211,SAND,,,')\n",
      "('00005', '211,226,CLAY,,,')\n",
      "('00005', '226,229,SAND,,,')\n",
      "('00005', '229,287,CLAY,,,')\n",
      "('00005', '287,294,SAND,,,')\n",
      "('00005', '294,339,CLAY,,,')\n",
      "('00005', '339,345,SAND,,,')\n",
      "('00005', '345,375,CLAY,,,')\n",
      "('00005', '375,390,SAND;GRAVEL,,,')\n",
      "('00005', '390,475,CLAY,,,')\n",
      "('00005', '475,479,OTHER,,CEMENTED SAND,')\n",
      "('00005', '479,524,CLAY,,,')\n",
      "('00005', '524,535,WATER-BEARING;SAND;GRAVEL,,,')\n",
      "('00006', '0,2,OTHER,,TOP SOIL,')\n",
      "('00006', '2,21,,,NONE GIVEN,')\n",
      "('00006', '21,52,SAND;GRAVEL,,,')\n",
      "('00006', '52,71,CLAY,,,')\n",
      "('00006', '71,210,SAND;GRAVEL,,,')\n",
      "('00006', '210,299,CLAY,,,')\n",
      "('00006', '299,325,CLAY;SAND;BOULDERS,,,')\n",
      "('00006', '325,401,SAND;GRAVEL,,,')\n",
      "('00006', 'CEMENTED')\n",
      "('00006', '401,439,CLAY;SAND,,,')\n",
      "('00006', '439,474,SAND;GRAVEL,,,')\n",
      "('00006', 'CEMENTED')\n",
      "('00006', '474,496,CLAY;SAND,,,')\n",
      "('00006', '496,509,,,NOT GIVEN,')\n",
      "('00006', '509,528,SAND;GRAVEL,,,')\n",
      "('00006', 'CEMENTED')\n",
      "('00006', '528,534,CLAY;SAND,,,')\n",
      "('00006', '534,574,CLAY;SAND;GRAVEL,,,')\n",
      "('00006', 'CEMENTED')\n",
      "('00006', '574,611,SILT;SAND;GRAVEL,,,')\n",
      "('00006', '611,645,CLAY;SAND,,,')\n",
      "('00006', '645,800,CLAY;SAND;GRAVEL,,,')\n",
      "('00006', 'CEMENTED')\n",
      "('00007', '0,2,OTHER,,,')\n",
      "('00007', '2,50,CLAY,,,')\n",
      "('00007', '50,61,SAND,,,')\n",
      "('00007', '61,85,CLAY,,,')\n",
      "('00007', '85,103,SAND,,,')\n",
      "('00007', '103,106,CLAY,,,')\n",
      "('00007', '106,115,SAND,,,')\n",
      "('00007', '115,117,GRAVEL,,,')\n",
      "('00008', '0,200,CLAY;SAND,,,')\n",
      "('00008', '200,468,,,SANDSTONE,')\n",
      "('00008', '468,484,GRAVEL,,SANDSTONE,')\n",
      "('00008', '484,490,WATER-BEARING;GRAVEL,,,')\n",
      "('00009', '0,29,SAND,,,')\n",
      "('00009', '29,97,CLAY,,,')\n",
      "('00009', '97,103,SAND,,,')\n",
      "('00009', '103,148,CLAY,,,')\n",
      "('00009', '148,168,WATER-BEARING;SAND;GRAVEL,,,')\n",
      "('00011', '0,10,CLAY,,,')\n",
      "('00011', '10,118,SAND,,,')\n",
      "('00011', '118,152,CLAY,,,')\n",
      "('00011', '152,173,SAND;GRAVEL,,,')\n",
      "('00011', '173,210,CLAY,,,')\n",
      "('00011', '210,220,WATER-BEARING;SAND,,,')\n",
      "('00013', '0,6,OTHER,,,')\n",
      "('00013', '6,21,SAND,,,')\n",
      "('00013', '21,60,CLAY,,,')\n",
      "('00013', '60,75,SAND,,,')\n",
      "('00013', '75,100,CLAY,,,')\n",
      "('00013', '100,110,GRAVEL,,,')\n",
      "('00013', '110,147,CLAY,,,')\n",
      "('00013', '147,160,SAND,,,')\n",
      "('00013', '160,168,WATER-BEARING;GRAVEL,,,')\n",
      "('00014', '0,9,CLAY,,,')\n",
      "('00014', '9,22,SAND,,,')\n",
      "('00014', '22,90,CLAY,,,')\n",
      "('00014', '90,103,SAND,,,')\n",
      "('00014', '103,147,CLAY,,,')\n",
      "('00014', '147,165,SAND,,,')\n",
      "('00014', '165,178,CLAY,,,')\n",
      "('00014', '178,189,WATER-BEARING;GRAVEL,,,')\n",
      "('00015', '0,5,SILT;SAND,,,')\n",
      "('00015', 'FILL LIGHT SILT')\n",
      "('00015', '5,10,CLAY;SILT,LIGHT GREY,,')\n",
      "('00015', '10,20,CLAY;SILT,GREY,,')\n",
      "('00015', '20,30,CLAY;SILT;SAND,LIGHT GREY,,')\n",
      "('00015', '30,50,CLAY,LIGHT GREEN,,')\n",
      "('00016', '0,11,CLAY,,,')\n",
      "('00016', '11,22,SAND,,,')\n",
      "('00016', '22,75,CLAY,,,')\n",
      "('00016', '75,80,SAND,,,')\n",
      "('00016', '80,100,CLAY,,,')\n",
      "('00016', '100,107,SAND,,,')\n",
      "('00016', '107,139,CLAY,,,')\n",
      "('00016', '139,165,SAND,,,')\n",
      "('00016', '165,175,CLAY,,,')\n",
      "('00016', '175,184,WATER-BEARING;GRAVEL,,,')\n",
      "('00017', '168,210,CLAY,,,')\n",
      "('00017', '210,211,WATER-BEARING,,,')\n",
      "('00017', '210,220,SAND,,,')\n",
      "('00019', '0,7,OTHER,,,')\n",
      "('00019', 'SOIL')\n",
      "('00019', '7,42,CLAY,GRAY,,')\n",
      "('00019', '42,55,CLAY;GRAVEL,,,')\n",
      "('00019', '55,108,CLAY;SAND,,,')\n",
      "('00019', '108,130,CLAY;SAND,REDISH,,')\n",
      "('00019', '130,145,CLAY;GRAVEL,TAN,,')\n",
      "('00019', '145,178,CLAY,,,')\n",
      "('00019', '178,183,CLAY;GRAVEL,,,')\n",
      "('00019', '183,195,WATER-BEARING;GRAVEL,,,')\n",
      "('00019', '195,230,CLAY;GRAVEL,GRAY,,')\n",
      "('00019', '230,235,WATER-BEARING;GRAVEL,,,')\n",
      "('00020', '0,5,SAND;OTHER,RED,,')\n",
      "('00020', 'OVERBURDEN')\n",
      "('00020', '5,40,CLAY;SAND;OTHER,RED,SANDSTONE,')\n",
      "('00020', '40,60,GRAVEL,RED,CONGLOMERATE,')\n",
      "('00020', '60,110,GRAVEL,,,')\n",
      "('00020', 'RIVER GRAVEL')\n",
      "('00022', '0,6,CLAY,DARK BROWN,,')\n",
      "('00022', '6,30,GRAVEL;OTHER,LIGHT BROWN,,')\n",
      "('00022', '30,45,CLAY,BROWN,,')\n",
      "('00022', '45,65,GRAVEL;OTHER,BROWN,,')\n",
      "('00022', '65,80,CLAY;GRAVEL;OTHER,BROWN,,')\n",
      "('00022', '80,130,CLAY;GRAVEL;OTHER,BROWN,,')\n",
      "('00022', '130,177,CLAY,GREEN,SANDSTONE,')\n",
      "('00022', '177,307,CLAY,GREEN,SANDSTONE,')\n",
      "('00023', '0,2,OTHER,,TOP SOIL,')\n",
      "('00023', '2,81,CLAY,,,')\n",
      "('00023', '81,132,GRAVEL,,,')\n",
      "('00023', '132,140,CLAY,,,')\n",
      "('00023', '140,245,CLAY;SILT,,,')\n",
      "('00023', '245,310,GRAVEL,,,')\n",
      "('00023', '310,343,SAND,,,')\n",
      "('00023', '343,364,GRAVEL,,,')\n",
      "('00023', '364,368,CLAY,,,')\n",
      "('00023', '368,376,GRAVEL,,,')\n",
      "('00023', '376,430,GRAVEL,,,')\n",
      "('00023', '430,475,CLAY,,,')\n",
      "('00023', '475,551,CLAY,,,')\n",
      "('00023', '551,555,SAND;GRAVEL,,,')\n",
      "('00023', '555,580,GRAVEL,,,')\n",
      "('00023', '580,685,WATER-BEARING;CLAY,,,')\n",
      "('00023', 'STREAKS OF WATER')\n",
      "('00024', '0,125,CLAY;OTHER,,ANDESITE,')\n",
      "('00024', '125,200,CLAY,,ANDESITE,')\n",
      "('00024', '200,300,SAND;OTHER,,MARL,')\n",
      "('00024', '300,350,GRAVEL;OTHER,,ANDESITE,')\n",
      "('00024', '350,375,CLAY;GRAVEL;OTHER,,ANDESITE,')\n",
      "('00024', '375,400,CLAY,,,')\n",
      "('00024', '400,500,CLAY;SAND;OTHER,,ANDESITE,')\n",
      "('00024', '500,538,OTHER,,BRECCIA,')\n",
      "('00024', '538,620,CLAY;OTHER,,ANDESITE,')\n",
      "('00024', '620,750,OTHER,,MARL,')\n",
      "('00024', '750,800,OTHER,,MARL,')\n",
      "('00024', '800,900,CLAY,,,')\n",
      "('00024', '900,1018,CLAY,LT TAN,,')\n",
      "('00024', '1018,1035,CLAY;SAND,,,')\n",
      "('00024', '1035,1050,CLAY;OTHER,TAN/LT GRN,VOLCANIC ASH,')\n",
      "('00024', '1050,1105,CLAY;SAND;OTHER,WHITE,VOLCANIC ASH,')\n",
      "('00024', '1105,1120,CLAY,TAN TO BRN,,')\n",
      "('00024', '1120,1160,CLAY;OTHER,,MARL,')\n",
      "('00024', '1160,1275,CLAY,BRN/LT CRM,,')\n",
      "('00025', '0,40,SAND,,,')\n",
      "('00025', '40,44,SAND;GRAVEL,,,')\n",
      "('00025', '44,52,SAND;GRAVEL;BOULDERS,,,')\n",
      "('00025', '52,58,GRAVEL;BOULDERS,,,')\n",
      "('00025', '58,69,SILT,,,')\n",
      "('00025', '69,73,GRAVEL;BOULDERS,,,')\n",
      "('00025', '73,96,SAND;GRAVEL,,,')\n",
      "('00025', '96,195,GRAVEL;BOULDERS,,,')\n",
      "('00025', '195,211,SAND;GRAVEL,,,')\n",
      "('00025', '211,214,GRAVEL;BOULDERS,,,')\n",
      "('00025', '214,226,CLAY;SAND;GRAVEL,,,')\n",
      "('00025', '226,230,GRAVEL;BOULDERS,,,')\n",
      "('00025', '230,255,BOULDERS,,,')\n",
      "('00025', '255,265,CLAY,,,')\n",
      "('00025', '265,330,GRAVEL;BOULDERS,,,')\n",
      "('00025', '330,362,SAND;GRAVEL,,,')\n",
      "('00025', '362,408,GRAVEL;BOULDERS,,,')\n",
      "('00025', '408,492,CLAY;GRAVEL;BOULDERS,,,')\n",
      "('00025', '492,757,,,,')\n",
      "('00027', '0,20,CLAY;GRAVEL,,,')\n",
      "('00027', '20,60,CLAY,,,')\n",
      "('00027', '60,70,,,BEDROCK,')\n",
      "('00027', 'VOLCANIC INTRUSIVE')\n",
      "('00027', '70,80,,,BEDROCK,')\n",
      "('00027', '80,180,CLAY,,,')\n",
      "('00027', '180,190,WATER-BEARING;SAND;OTHER,,BEDROCK,')\n",
      "('00027', '190,200,CLAY,,,')\n",
      "('00027', '200,205,WATER-BEARING;SAND;OTHER,,BEDROCK,')\n",
      "('00028', '0,60,SAND;GRAVEL;BOULDERS,,,')\n",
      "('00028', '60,180,,,,')\n",
      "('00028', '180,200,SAND;GRAVEL;BOULDERS,,,')\n",
      "('00028', '200,240,CLAY;GRAVEL;BOULDERS,,,')\n",
      "('00028', '240,245,WATER-BEARING;SAND;GRAVEL,,,')\n",
      "('00028', '245,255,SAND;GRAVEL,,,')\n",
      "('00028', '255,260,WATER-BEARING;SAND;GRAVEL,,,')\n",
      "('00028', '260,270,CLAY;GRAVEL,,,')\n",
      "('00028', '270,286,CLAY;GRAVEL,,,')\n",
      "('00028', '286,290,WATER-BEARING;SAND;GRAVEL,,,')\n",
      "('00028', '290,305,CLAY;SAND;GRAVEL,,,')\n",
      "('00029', '0,60,SILT;SAND,RED,,')\n",
      "('00029', '60,80,CLAY,,,')\n",
      "('00029', '80,100,WATER-BEARING;SAND,WHITE,,')\n",
      "('00029', '100,120,SAND,RED,,')\n",
      "('00029', '120,145,WATER-BEARING,,CONGLOMERATE,')\n",
      "('00030', '0,4,OTHER,,,')\n",
      "('00030', 'TOPSOIL')\n",
      "('00030', '4,98,WATER-BEARING;CLAY,RED,,')\n",
      "('00030', 'SAND STRINGERS')\n",
      "('00030', \"10GPM AT 80'\")\n",
      "('00030', '98,102,CLAY,BLACK,,')\n",
      "('00030', '102,115,,RED,CONGLOMERATE,')\n",
      "('00030', '115,121,,RED,SANDSTONE,')\n"
     ]
    }
   ],
   "source": [
    "filepath = path +'*.txt'\n",
    "\n",
    "const = []\n",
    "for f in glob.glob(filepath)[0:30]: \n",
    "    text = open(f).read()    \n",
    "\n",
    "    # grab section out of each text file for parsing\n",
    "\n",
    "    rev = []\n",
    "    win1 = []\n",
    "\n",
    "    wellcon = gettext(' LITHOLOGY:','\\r\\n\\r\\n',text)\n",
    "    #print wellcon\n",
    "    if wellcon is not np.nan:\n",
    "        if len(wellcon) > 10:    \n",
    "            win = str(int(os.path.split(f)[1][3:8])).zfill(5)\n",
    "            rv = wellcon.split('\\n')\n",
    "            \n",
    "            for j in range(2,len(rv)):\n",
    "                if len(rv[j][0:7].strip(' ')) < 1: \n",
    "                    pass\n",
    "                else:\n",
    "                    rv[j] = rv[j][0:7] + ',' + rv[j][7:13].strip(' ') + ',' + rv[j][13:95].replace(',',';').strip(' ') + ',' + rv[j][95:108].strip(' ') +','+rv[j][108:] +','\n",
    "                rv[j] = rv[j].replace('\\r','').replace('  ',' ').strip(' ')\n",
    "                print(win, rv[j])\n",
    "\n",
    "\n",
    "                "
   ]
  },
  {
   "cell_type": "code",
   "execution_count": 3,
   "metadata": {
    "collapsed": false
   },
   "outputs": [
    {
     "data": {
      "text/plain": [
       "15"
      ]
     },
     "execution_count": 3,
     "metadata": {},
     "output_type": "execute_result"
    }
   ],
   "source": [
    "len(\"      0    70  \")"
   ]
  },
  {
   "cell_type": "code",
   "execution_count": 4,
   "metadata": {
    "collapsed": false
   },
   "outputs": [
    {
     "data": {
      "text/plain": [
       "15"
      ]
     },
     "execution_count": 4,
     "metadata": {},
     "output_type": "execute_result"
    }
   ],
   "source": [
    "len(\"      0    53  \")"
   ]
  }
 ],
 "metadata": {
  "kernelspec": {
   "display_name": "Python 2",
   "language": "python",
   "name": "python2"
  },
  "language_info": {
   "codemirror_mode": {
    "name": "ipython",
    "version": 2
   },
   "file_extension": ".py",
   "mimetype": "text/x-python",
   "name": "python",
   "nbconvert_exporter": "python",
   "pygments_lexer": "ipython2",
   "version": "2.7.10"
  }
 },
 "nbformat": 4,
 "nbformat_minor": 0
}
