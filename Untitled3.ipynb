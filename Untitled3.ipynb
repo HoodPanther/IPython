{
 "cells": [
  {
   "cell_type": "code",
   "execution_count": 2,
   "metadata": {
    "collapsed": true
   },
   "outputs": [],
   "source": [
    "import mechanize\n",
    "import numpy as np\n",
    "import robobrowser "
   ]
  },
  {
   "cell_type": "code",
   "execution_count": 22,
   "metadata": {
    "collapsed": false
   },
   "outputs": [
    {
     "name": "stdout",
     "output_type": "stream",
     "text": [
      "200\n"
     ]
    }
   ],
   "source": [
    "request = mechanize.Request(\"http://linux3.ogm.utah.gov/cgi-bin/appx-ogm.cgi\")\n",
    "response = mechanize.urlopen(request)\n",
    "forms = mechanize.ParseResponse(response, backwards_compat=False)\n",
    "print(response.code)\n",
    "\n"
   ]
  },
  {
   "cell_type": "code",
   "execution_count": 17,
   "metadata": {
    "collapsed": true
   },
   "outputs": [],
   "source": [
    "request = mechanize.Request(\"http://waterrights.utah.gov/wellinfo/wellsearch.asp\")\n",
    "response = mechanize.urlopen(request)\n",
    "forms = mechanize.ParseResponse(response, backwards_compat=False)\n",
    "\n",
    "response.close()\n",
    "form = forms[0] "
   ]
  },
  {
   "cell_type": "code",
   "execution_count": 32,
   "metadata": {
    "collapsed": false
   },
   "outputs": [
    {
     "ename": "AttributeError",
     "evalue": "'NoneType' object has no attribute 'click'",
     "output_type": "error",
     "traceback": [
      "\u001b[1;31m---------------------------------------------------------------------------\u001b[0m",
      "\u001b[1;31mAttributeError\u001b[0m                            Traceback (most recent call last)",
      "\u001b[1;32m<ipython-input-32-bc9515515527>\u001b[0m in \u001b[0;36m<module>\u001b[1;34m()\u001b[0m\n\u001b[0;32m      3\u001b[0m \u001b[1;31m#<input type=\"submit\" name=\"runwhat\" value=\"Query the Database\">\u001b[0m\u001b[1;33m\u001b[0m\u001b[1;33m\u001b[0m\u001b[0m\n\u001b[0;32m      4\u001b[0m \u001b[1;31m#browser.select_form(name='runwhat')\u001b[0m\u001b[1;33m\u001b[0m\u001b[1;33m\u001b[0m\u001b[0m\n\u001b[1;32m----> 5\u001b[1;33m \u001b[0msubmit_response\u001b[0m \u001b[1;33m=\u001b[0m \u001b[0mbrowser\u001b[0m\u001b[1;33m.\u001b[0m\u001b[0msubmit\u001b[0m\u001b[1;33m(\u001b[0m\u001b[0mname\u001b[0m\u001b[1;33m=\u001b[0m\u001b[1;34m'runwhat'\u001b[0m\u001b[1;33m,\u001b[0m \u001b[0mlabel\u001b[0m\u001b[1;33m=\u001b[0m\u001b[1;34m'Query the Database'\u001b[0m\u001b[1;33m)\u001b[0m\u001b[1;33m\u001b[0m\u001b[0m\n\u001b[0m",
      "\u001b[1;32mc:\\python27\\arcgis10.3\\lib\\site-packages\\mechanize\\_mechanize.pyc\u001b[0m in \u001b[0;36msubmit\u001b[1;34m(self, *args, **kwds)\u001b[0m\n\u001b[0;32m    539\u001b[0m \u001b[1;33m\u001b[0m\u001b[0m\n\u001b[0;32m    540\u001b[0m         \"\"\"\n\u001b[1;32m--> 541\u001b[1;33m         \u001b[1;32mreturn\u001b[0m \u001b[0mself\u001b[0m\u001b[1;33m.\u001b[0m\u001b[0mopen\u001b[0m\u001b[1;33m(\u001b[0m\u001b[0mself\u001b[0m\u001b[1;33m.\u001b[0m\u001b[0mclick\u001b[0m\u001b[1;33m(\u001b[0m\u001b[1;33m*\u001b[0m\u001b[0margs\u001b[0m\u001b[1;33m,\u001b[0m \u001b[1;33m**\u001b[0m\u001b[0mkwds\u001b[0m\u001b[1;33m)\u001b[0m\u001b[1;33m)\u001b[0m\u001b[1;33m\u001b[0m\u001b[0m\n\u001b[0m\u001b[0;32m    542\u001b[0m \u001b[1;33m\u001b[0m\u001b[0m\n\u001b[0;32m    543\u001b[0m     \u001b[1;32mdef\u001b[0m \u001b[0mclick_link\u001b[0m\u001b[1;33m(\u001b[0m\u001b[0mself\u001b[0m\u001b[1;33m,\u001b[0m \u001b[0mlink\u001b[0m\u001b[1;33m=\u001b[0m\u001b[0mNone\u001b[0m\u001b[1;33m,\u001b[0m \u001b[1;33m**\u001b[0m\u001b[0mkwds\u001b[0m\u001b[1;33m)\u001b[0m\u001b[1;33m:\u001b[0m\u001b[1;33m\u001b[0m\u001b[0m\n",
      "\u001b[1;32mc:\\python27\\arcgis10.3\\lib\\site-packages\\mechanize\\_mechanize.pyc\u001b[0m in \u001b[0;36mclick\u001b[1;34m(self, *args, **kwds)\u001b[0m\n\u001b[0;32m    528\u001b[0m         \u001b[1;32mif\u001b[0m \u001b[1;32mnot\u001b[0m \u001b[0mself\u001b[0m\u001b[1;33m.\u001b[0m\u001b[0mviewing_html\u001b[0m\u001b[1;33m(\u001b[0m\u001b[1;33m)\u001b[0m\u001b[1;33m:\u001b[0m\u001b[1;33m\u001b[0m\u001b[0m\n\u001b[0;32m    529\u001b[0m             \u001b[1;32mraise\u001b[0m \u001b[0mBrowserStateError\u001b[0m\u001b[1;33m(\u001b[0m\u001b[1;34m\"not viewing HTML\"\u001b[0m\u001b[1;33m)\u001b[0m\u001b[1;33m\u001b[0m\u001b[0m\n\u001b[1;32m--> 530\u001b[1;33m         \u001b[0mrequest\u001b[0m \u001b[1;33m=\u001b[0m \u001b[0mself\u001b[0m\u001b[1;33m.\u001b[0m\u001b[0mform\u001b[0m\u001b[1;33m.\u001b[0m\u001b[0mclick\u001b[0m\u001b[1;33m(\u001b[0m\u001b[1;33m*\u001b[0m\u001b[0margs\u001b[0m\u001b[1;33m,\u001b[0m \u001b[1;33m**\u001b[0m\u001b[0mkwds\u001b[0m\u001b[1;33m)\u001b[0m\u001b[1;33m\u001b[0m\u001b[0m\n\u001b[0m\u001b[0;32m    531\u001b[0m         \u001b[1;32mreturn\u001b[0m \u001b[0mself\u001b[0m\u001b[1;33m.\u001b[0m\u001b[0m_add_referer_header\u001b[0m\u001b[1;33m(\u001b[0m\u001b[0mrequest\u001b[0m\u001b[1;33m)\u001b[0m\u001b[1;33m\u001b[0m\u001b[0m\n\u001b[0;32m    532\u001b[0m \u001b[1;33m\u001b[0m\u001b[0m\n",
      "\u001b[1;31mAttributeError\u001b[0m: 'NoneType' object has no attribute 'click'"
     ]
    }
   ],
   "source": [
    "browser = mechanize.Browser()\n",
    "response = browser.open(\"http://linux3.ogm.utah.gov/cgi-bin/appx-ogm.cgi\")\n",
    "#<input type=\"submit\" name=\"runwhat\" value=\"Query the Database\">\n",
    "#browser.select_form(name='runwhat')\n",
    "\n",
    "submit_response = browser.submit(name='runwhat', label='Query the Database')"
   ]
  },
  {
   "cell_type": "code",
   "execution_count": null,
   "metadata": {
    "collapsed": true
   },
   "outputs": [],
   "source": [
    "browser.select_form(nr = 0)"
   ]
  },
  {
   "cell_type": "code",
   "execution_count": 34,
   "metadata": {
    "collapsed": true
   },
   "outputs": [],
   "source": [
    "from robobrowser import RoboBrowser\n"
   ]
  },
  {
   "cell_type": "code",
   "execution_count": 89,
   "metadata": {
    "collapsed": false
   },
   "outputs": [
    {
     "ename": "TypeError",
     "evalue": "expected string or buffer",
     "output_type": "error",
     "traceback": [
      "\u001b[1;31m---------------------------------------------------------------------------\u001b[0m",
      "\u001b[1;31mTypeError\u001b[0m                                 Traceback (most recent call last)",
      "\u001b[1;32m<ipython-input-89-3efdaddd277e>\u001b[0m in \u001b[0;36m<module>\u001b[1;34m()\u001b[0m\n\u001b[0;32m      3\u001b[0m \u001b[0mform\u001b[0m \u001b[1;33m=\u001b[0m \u001b[0mbrowser\u001b[0m\u001b[1;33m.\u001b[0m\u001b[0mget_form\u001b[0m\u001b[1;33m(\u001b[0m\u001b[1;33m)\u001b[0m\u001b[1;31m#runwhat=\"Query the Database\")\u001b[0m\u001b[1;33m\u001b[0m\u001b[0m\n\u001b[0;32m      4\u001b[0m \u001b[0mform\u001b[0m\u001b[1;33m[\u001b[0m\u001b[1;34m\"runwhat\"\u001b[0m\u001b[1;33m]\u001b[0m\u001b[1;33m.\u001b[0m\u001b[0mvalue\u001b[0m \u001b[1;33m=\u001b[0m \u001b[1;34m\"Query the Database\"\u001b[0m\u001b[1;33m\u001b[0m\u001b[0m\n\u001b[1;32m----> 5\u001b[1;33m \u001b[0mbrowser\u001b[0m\u001b[1;33m.\u001b[0m\u001b[0mselect\u001b[0m\u001b[1;33m(\u001b[0m\u001b[0mform\u001b[0m\u001b[1;33m)\u001b[0m\u001b[1;33m\u001b[0m\u001b[0m\n\u001b[0m",
      "\u001b[1;32mc:\\python27\\arcgis10.3\\lib\\site-packages\\bs4\\element.pyc\u001b[0m in \u001b[0;36mselect\u001b[1;34m(self, selector, _candidate_generator, limit)\u001b[0m\n\u001b[0;32m   1289\u001b[0m         \u001b[1;31m# Remove whitespace directly after the grouping operator ','\u001b[0m\u001b[1;33m\u001b[0m\u001b[1;33m\u001b[0m\u001b[0m\n\u001b[0;32m   1290\u001b[0m         \u001b[1;31m# then split into tokens.\u001b[0m\u001b[1;33m\u001b[0m\u001b[1;33m\u001b[0m\u001b[0m\n\u001b[1;32m-> 1291\u001b[1;33m         \u001b[0mtokens\u001b[0m \u001b[1;33m=\u001b[0m \u001b[0mre\u001b[0m\u001b[1;33m.\u001b[0m\u001b[0msub\u001b[0m\u001b[1;33m(\u001b[0m\u001b[1;34m',[\\s]*'\u001b[0m\u001b[1;33m,\u001b[0m\u001b[1;34m','\u001b[0m\u001b[1;33m,\u001b[0m \u001b[0mselector\u001b[0m\u001b[1;33m)\u001b[0m\u001b[1;33m.\u001b[0m\u001b[0msplit\u001b[0m\u001b[1;33m(\u001b[0m\u001b[1;33m)\u001b[0m\u001b[1;33m\u001b[0m\u001b[0m\n\u001b[0m\u001b[0;32m   1292\u001b[0m         \u001b[0mcurrent_context\u001b[0m \u001b[1;33m=\u001b[0m \u001b[1;33m[\u001b[0m\u001b[0mself\u001b[0m\u001b[1;33m]\u001b[0m\u001b[1;33m\u001b[0m\u001b[0m\n\u001b[0;32m   1293\u001b[0m \u001b[1;33m\u001b[0m\u001b[0m\n",
      "\u001b[1;32mc:\\python27\\arcgis10.3\\lib\\re.pyc\u001b[0m in \u001b[0;36msub\u001b[1;34m(pattern, repl, string, count, flags)\u001b[0m\n\u001b[0;32m    149\u001b[0m     \u001b[0ma\u001b[0m \u001b[0mcallable\u001b[0m\u001b[1;33m,\u001b[0m \u001b[0mit\u001b[0m\u001b[0;31m'\u001b[0m\u001b[0ms\u001b[0m \u001b[0mpassed\u001b[0m \u001b[0mthe\u001b[0m \u001b[0mmatch\u001b[0m \u001b[0mobject\u001b[0m \u001b[1;32mand\u001b[0m \u001b[0mmust\u001b[0m \u001b[1;32mreturn\u001b[0m\u001b[1;33m\u001b[0m\u001b[0m\n\u001b[0;32m    150\u001b[0m     a replacement string to be used.\"\"\"\n\u001b[1;32m--> 151\u001b[1;33m     \u001b[1;32mreturn\u001b[0m \u001b[0m_compile\u001b[0m\u001b[1;33m(\u001b[0m\u001b[0mpattern\u001b[0m\u001b[1;33m,\u001b[0m \u001b[0mflags\u001b[0m\u001b[1;33m)\u001b[0m\u001b[1;33m.\u001b[0m\u001b[0msub\u001b[0m\u001b[1;33m(\u001b[0m\u001b[0mrepl\u001b[0m\u001b[1;33m,\u001b[0m \u001b[0mstring\u001b[0m\u001b[1;33m,\u001b[0m \u001b[0mcount\u001b[0m\u001b[1;33m)\u001b[0m\u001b[1;33m\u001b[0m\u001b[0m\n\u001b[0m\u001b[0;32m    152\u001b[0m \u001b[1;33m\u001b[0m\u001b[0m\n\u001b[0;32m    153\u001b[0m \u001b[1;32mdef\u001b[0m \u001b[0msubn\u001b[0m\u001b[1;33m(\u001b[0m\u001b[0mpattern\u001b[0m\u001b[1;33m,\u001b[0m \u001b[0mrepl\u001b[0m\u001b[1;33m,\u001b[0m \u001b[0mstring\u001b[0m\u001b[1;33m,\u001b[0m \u001b[0mcount\u001b[0m\u001b[1;33m=\u001b[0m\u001b[1;36m0\u001b[0m\u001b[1;33m,\u001b[0m \u001b[0mflags\u001b[0m\u001b[1;33m=\u001b[0m\u001b[1;36m0\u001b[0m\u001b[1;33m)\u001b[0m\u001b[1;33m:\u001b[0m\u001b[1;33m\u001b[0m\u001b[0m\n",
      "\u001b[1;31mTypeError\u001b[0m: expected string or buffer"
     ]
    }
   ],
   "source": [
    "browser = RoboBrowser()\n",
    "browser.open(\"http://linux3.ogm.utah.gov/cgi-bin/appx-ogm.cgi\")\n",
    "form = browser.get_form()#runwhat=\"Query the Database\")\n",
    "form[\"runwhat\"].value = \"Query the Database\"\n",
    "browser."
   ]
  },
  {
   "cell_type": "code",
   "execution_count": 86,
   "metadata": {
    "collapsed": false
   },
   "outputs": [],
   "source": [
    "form['describe'] = 'Instructions'"
   ]
  },
  {
   "cell_type": "code",
   "execution_count": 87,
   "metadata": {
    "collapsed": false
   },
   "outputs": [
    {
     "data": {
      "text/plain": [
       "<RoboForm runwhat=MINES and SITES, describe=Instructions, runwhat=Query the Database, describe=Instructions, WEB-RUNWHAT=QUICK-QUERY, runwhat=EDI LOGIN, describe=Instructions, runwhat=DOWNLOAD SITE FILE, describe=Instructions>"
      ]
     },
     "execution_count": 87,
     "metadata": {},
     "output_type": "execute_result"
    }
   ],
   "source": [
    "form"
   ]
  },
  {
   "cell_type": "code",
   "execution_count": 67,
   "metadata": {
    "collapsed": false
   },
   "outputs": [
    {
     "data": {
      "text/plain": [
       "OrderedMultiDict([('runwhat', <robobrowser.forms.fields.Submit object at 0x063850B0>), ('describe', <robobrowser.forms.fields.Input object at 0x06450F70>), ('runwhat', <robobrowser.forms.fields.Submit object at 0x06450F50>), ('describe', <robobrowser.forms.fields.Input object at 0x06450F10>), ('WEB-RUNWHAT', <robobrowser.forms.fields.Submit object at 0x06450ED0>), ('runwhat', <robobrowser.forms.fields.Submit object at 0x06456230>), ('describe', <robobrowser.forms.fields.Input object at 0x06456250>), ('runwhat', <robobrowser.forms.fields.Submit object at 0x06456270>), ('describe', <robobrowser.forms.fields.Input object at 0x06456290>)])"
      ]
     },
     "execution_count": 67,
     "metadata": {},
     "output_type": "execute_result"
    }
   ],
   "source": []
  },
  {
   "cell_type": "code",
   "execution_count": 68,
   "metadata": {
    "collapsed": false
   },
   "outputs": [
    {
     "data": {
      "text/plain": [
       "<form action=\"http://linux3.ogm.utah.gov/cgi-bin/appx-ogm.cgi\" method=\"post\"> <center> <table bgcolor=\"#ccddf2\" border=\"4\" bordercolor=\"#4169E1\" cellpadding=\"10\" width=\"50%\"> <tr><td> <center><font size=\"+2\"> <input name=\"runwhat\" type=\"submit\" value=\"MINES and SITES\"/></font><br/> <font size=\"-1\"> <input name=\"describe\" onclick=\"MINES()\" type=\"button\" value=\"Instructions\"/></font><br/></center></td></tr> <tr><td> <br/></td></tr> <tr><td> <center><font size=\"+2\"> <input name=\"runwhat\" type=\"submit\" value=\"Query the Database\"/></font><br/> <font size=\"-1\"> <input name=\"describe\" onclick=\"QUERY()\" type=\"button\" value=\"Instructions\"/></font><br/></center></td></tr> <form action=\"http://linux3.ogm.utah.gov/cgi-bin/OGMOGMPOST.cgi\" method=\"post\"> <tr><td> <br/></td></tr> <tr><td> <center> <center><font size=\"+2\"> <input name=\"WEB-RUNWHAT\" type=\"submit\" value=\"QUICK-QUERY\"/></font><br/></center></center></td></tr> </form> <form action=\"http://linux3.ogm.utah.gov/cgi-bin/appx-ogm.cgi\" method=\"post\"> <tr><td> <br/></td></tr> <tr><td> <center><font size=\"+2\"> <input name=\"runwhat\" type=\"submit\" value=\"EDI LOGIN\"/></font><br/> <font size=\"-1\"> <input name=\"describe\" onclick=\"EDILOGIN()\" type=\"button\" value=\"Instructions\"/></font><br/></center></td></tr> <tr><td> <br/></td></tr> <tr><td> <center><font size=\"+2\"> <input name=\"runwhat\" type=\"submit\" value=\"DOWNLOAD SITE FILE\"/></font><br/> <font size=\"-1\"> <input name=\"describe\" onclick=\"DOWNLOAD SITE FILE{}\" type=\"button\" value=\"Instructions\"/></font><br/></center></td></tr> </form></table></center></form>"
      ]
     },
     "execution_count": 68,
     "metadata": {},
     "output_type": "execute_result"
    }
   ],
   "source": [
    "form[\"runwhat\"] = \"Query the Database\"\n"
   ]
  },
  {
   "cell_type": "code",
   "execution_count": 72,
   "metadata": {
    "collapsed": false
   },
   "outputs": [
    {
     "data": {
      "text/plain": [
       "<bound method Form.keys of <RoboForm runwhat=MINES and SITES, describe=Instructions, runwhat=Query the Database, describe=Instructions, WEB-RUNWHAT=QUICK-QUERY, runwhat=EDI LOGIN, describe=Instructions, runwhat=DOWNLOAD SITE FILE, describe=Instructions>>"
      ]
     },
     "execution_count": 72,
     "metadata": {},
     "output_type": "execute_result"
    }
   ],
   "source": [
    "form.keys"
   ]
  },
  {
   "cell_type": "code",
   "execution_count": 21,
   "metadata": {
    "collapsed": false
   },
   "outputs": [
    {
     "name": "stdout",
     "output_type": "stream",
     "text": [
      "<POST http://linux3.ogm.utah.gov/cgi-bin/appx-ogm.cgi application/x-www-form-urlencoded\n",
      "  <SubmitControl(runwhat=MINES and SITES) (readonly)>\n",
      "  <IgnoreControl(describe=<None>)>\n",
      "  <SubmitControl(runwhat=Query the Database) (readonly)>\n",
      "  <IgnoreControl(describe=<None>)>>\n"
     ]
    },
    {
     "ename": "ControlNotFoundError",
     "evalue": "no control matching name 'SubmitControl'",
     "output_type": "error",
     "traceback": [
      "\u001b[1;31m---------------------------------------------------------------------------\u001b[0m",
      "\u001b[1;31mControlNotFoundError\u001b[0m                      Traceback (most recent call last)",
      "\u001b[1;32m<ipython-input-21-ee56c1a95d74>\u001b[0m in \u001b[0;36m<module>\u001b[1;34m()\u001b[0m\n\u001b[0;32m      1\u001b[0m \u001b[1;32mprint\u001b[0m\u001b[1;33m(\u001b[0m\u001b[0mforms\u001b[0m\u001b[1;33m[\u001b[0m\u001b[1;36m0\u001b[0m\u001b[1;33m]\u001b[0m\u001b[1;33m)\u001b[0m\u001b[1;33m\u001b[0m\u001b[0m\n\u001b[1;32m----> 2\u001b[1;33m \u001b[0mform\u001b[0m\u001b[1;33m[\u001b[0m\u001b[1;34m'SubmitControl'\u001b[0m\u001b[1;33m]\u001b[0m\u001b[1;33m\u001b[0m\u001b[0m\n\u001b[0m",
      "\u001b[1;32mc:\\python27\\arcgis10.3\\lib\\site-packages\\mechanize\\_form.pyc\u001b[0m in \u001b[0;36m__getitem__\u001b[1;34m(self, name)\u001b[0m\n\u001b[0;32m   2774\u001b[0m \u001b[1;33m\u001b[0m\u001b[0m\n\u001b[0;32m   2775\u001b[0m     \u001b[1;32mdef\u001b[0m \u001b[0m__getitem__\u001b[0m\u001b[1;33m(\u001b[0m\u001b[0mself\u001b[0m\u001b[1;33m,\u001b[0m \u001b[0mname\u001b[0m\u001b[1;33m)\u001b[0m\u001b[1;33m:\u001b[0m\u001b[1;33m\u001b[0m\u001b[0m\n\u001b[1;32m-> 2776\u001b[1;33m         \u001b[1;32mreturn\u001b[0m \u001b[0mself\u001b[0m\u001b[1;33m.\u001b[0m\u001b[0mfind_control\u001b[0m\u001b[1;33m(\u001b[0m\u001b[0mname\u001b[0m\u001b[1;33m)\u001b[0m\u001b[1;33m.\u001b[0m\u001b[0mvalue\u001b[0m\u001b[1;33m\u001b[0m\u001b[0m\n\u001b[0m\u001b[0;32m   2777\u001b[0m     \u001b[1;32mdef\u001b[0m \u001b[0m__contains__\u001b[0m\u001b[1;33m(\u001b[0m\u001b[0mself\u001b[0m\u001b[1;33m,\u001b[0m \u001b[0mname\u001b[0m\u001b[1;33m)\u001b[0m\u001b[1;33m:\u001b[0m\u001b[1;33m\u001b[0m\u001b[0m\n\u001b[0;32m   2778\u001b[0m         \u001b[1;32mreturn\u001b[0m \u001b[0mbool\u001b[0m\u001b[1;33m(\u001b[0m\u001b[0mself\u001b[0m\u001b[1;33m.\u001b[0m\u001b[0mfind_control\u001b[0m\u001b[1;33m(\u001b[0m\u001b[0mname\u001b[0m\u001b[1;33m)\u001b[0m\u001b[1;33m)\u001b[0m\u001b[1;33m\u001b[0m\u001b[0m\n",
      "\u001b[1;32mc:\\python27\\arcgis10.3\\lib\\site-packages\\mechanize\\_form.pyc\u001b[0m in \u001b[0;36mfind_control\u001b[1;34m(self, name, type, kind, id, predicate, nr, label)\u001b[0m\n\u001b[0;32m   3099\u001b[0m             raise ValueError(\n\u001b[0;32m   3100\u001b[0m                 \"at least one argument must be supplied to specify control\")\n\u001b[1;32m-> 3101\u001b[1;33m         \u001b[1;32mreturn\u001b[0m \u001b[0mself\u001b[0m\u001b[1;33m.\u001b[0m\u001b[0m_find_control\u001b[0m\u001b[1;33m(\u001b[0m\u001b[0mname\u001b[0m\u001b[1;33m,\u001b[0m \u001b[0mtype\u001b[0m\u001b[1;33m,\u001b[0m \u001b[0mkind\u001b[0m\u001b[1;33m,\u001b[0m \u001b[0mid\u001b[0m\u001b[1;33m,\u001b[0m \u001b[0mlabel\u001b[0m\u001b[1;33m,\u001b[0m \u001b[0mpredicate\u001b[0m\u001b[1;33m,\u001b[0m \u001b[0mnr\u001b[0m\u001b[1;33m)\u001b[0m\u001b[1;33m\u001b[0m\u001b[0m\n\u001b[0m\u001b[0;32m   3102\u001b[0m \u001b[1;33m\u001b[0m\u001b[0m\n\u001b[0;32m   3103\u001b[0m \u001b[1;31m#---------------------------------------------------\u001b[0m\u001b[1;33m\u001b[0m\u001b[1;33m\u001b[0m\u001b[0m\n",
      "\u001b[1;32mc:\\python27\\arcgis10.3\\lib\\site-packages\\mechanize\\_form.pyc\u001b[0m in \u001b[0;36m_find_control\u001b[1;34m(self, name, type, kind, id, label, predicate, nr)\u001b[0m\n\u001b[0;32m   3183\u001b[0m             \u001b[1;32mraise\u001b[0m \u001b[0mAmbiguityError\u001b[0m\u001b[1;33m(\u001b[0m\u001b[1;34m\"more than one control matching \"\u001b[0m\u001b[1;33m+\u001b[0m\u001b[0mdescription\u001b[0m\u001b[1;33m)\u001b[0m\u001b[1;33m\u001b[0m\u001b[0m\n\u001b[0;32m   3184\u001b[0m         \u001b[1;32melif\u001b[0m \u001b[1;32mnot\u001b[0m \u001b[0mfound\u001b[0m\u001b[1;33m:\u001b[0m\u001b[1;33m\u001b[0m\u001b[0m\n\u001b[1;32m-> 3185\u001b[1;33m             \u001b[1;32mraise\u001b[0m \u001b[0mControlNotFoundError\u001b[0m\u001b[1;33m(\u001b[0m\u001b[1;34m\"no control matching \"\u001b[0m\u001b[1;33m+\u001b[0m\u001b[0mdescription\u001b[0m\u001b[1;33m)\u001b[0m\u001b[1;33m\u001b[0m\u001b[0m\n\u001b[0m\u001b[0;32m   3186\u001b[0m         \u001b[1;32massert\u001b[0m \u001b[0mFalse\u001b[0m\u001b[1;33m\u001b[0m\u001b[0m\n\u001b[0;32m   3187\u001b[0m \u001b[1;33m\u001b[0m\u001b[0m\n",
      "\u001b[1;31mControlNotFoundError\u001b[0m: no control matching name 'SubmitControl'"
     ]
    }
   ],
   "source": [
    "print(forms[0])\n",
    "form['']"
   ]
  },
  {
   "cell_type": "code",
   "execution_count": null,
   "metadata": {
    "collapsed": true
   },
   "outputs": [],
   "source": [
    "    form = forms[0] \n",
    "    #print form\n",
    "    form[\"mainoption\"]=[\"radius\"]\n",
    "    form[\"SearchRadius\"]=\"2000\"\n",
    "    form[\"option\"]=[\"UTM\"]\n",
    "    form[\"xUTM\"]=str(x[0])\n",
    "    form[\"yUTM\"]=str(x[1])\n",
    "    if np.isfinite(x[2]):\n",
    "        form[\"DateRange\"]=[\"on\"]\n",
    "        form[\"edtDrillBef\"]=str(int(str(x[2])[:4])+5)\n",
    "        form[\"edtDrillAft\"]=str(int(str(x[2])[:4])-5)\n",
    "        #print str(int(str(x[2])[:4]))\n",
    "    if np.isfinite(x[3]):\n",
    "        form[\"DepthRange\"]=[\"on\"]\n",
    "        form[\"edtDrillBel\"]=str(int(x[3])-10)\n",
    "        form[\"edtDrillAbo\"]=str(int(x[3])+30)\n",
    "        #print str(str(int(x[3])))\n",
    "    win =  mechanize.urlopen(form.click()).read()\n",
    "    winbeg = win.find('WIN=')"
   ]
  }
 ],
 "metadata": {
  "kernelspec": {
   "display_name": "Python 2",
   "language": "python",
   "name": "python2"
  },
  "language_info": {
   "codemirror_mode": {
    "name": "ipython",
    "version": 2
   },
   "file_extension": ".py",
   "mimetype": "text/x-python",
   "name": "python",
   "nbconvert_exporter": "python",
   "pygments_lexer": "ipython2",
   "version": "2.7.10"
  }
 },
 "nbformat": 4,
 "nbformat_minor": 0
}
