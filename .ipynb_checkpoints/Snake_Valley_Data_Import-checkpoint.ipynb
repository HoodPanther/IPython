{
 "metadata": {
  "name": "",
  "signature": "sha256:8e05a29508370bd250f46e0eabb3dd0732c8a8401b9c43fe1af72472922e7164"
 },
 "nbformat": 3,
 "nbformat_minor": 0,
 "worksheets": [
  {
   "cells": [
    {
     "cell_type": "code",
     "collapsed": false,
     "input": [
      "%matplotlib inline\n",
      "import pandas as pd\n",
      "import numpy as np\n",
      "import os\n",
      "import glob\n",
      "import xmltodict\n",
      "import matplotlib.pyplot as plt\n",
      "import matplotlib.dates as dates\n",
      "import matplotlib.ticker as tick\n",
      "import seaborn as sns\n",
      "import scipy.stats as sp\n",
      "import statsmodels.api as sm\n",
      "import statsmodels.tsa.tsatools as tools\n",
      "from pandas.stats.api import ols\n",
      "from datetime import datetime\n",
      "from pylab import rcParams\n",
      "rcParams['figure.figsize'] = 15, 10"
     ],
     "language": "python",
     "metadata": {},
     "outputs": [],
     "prompt_number": 57
    },
    {
     "cell_type": "code",
     "collapsed": false,
     "input": [
      "Drive = 'E'"
     ],
     "language": "python",
     "metadata": {},
     "outputs": [],
     "prompt_number": 58
    },
    {
     "cell_type": "heading",
     "level": 2,
     "metadata": {},
     "source": [
      "Functions"
     ]
    },
    {
     "cell_type": "code",
     "collapsed": false,
     "input": [
      "def getfilename(path):\n",
      "    # this function extracts the file name without file path or extension\n",
      "    return path.split('\\\\').pop().split('/').pop().rsplit('.', 1)[0]"
     ],
     "language": "python",
     "metadata": {},
     "outputs": [],
     "prompt_number": 59
    },
    {
     "cell_type": "heading",
     "level": 3,
     "metadata": {},
     "source": [
      "Compilation"
     ]
    },
    {
     "cell_type": "markdown",
     "metadata": {},
     "source": [
      "The script below uses a complete file path with wildcard ending to find all of the relevant files in a directory (folder) to generate a Pandas dataframe of all of the compiled data, with duplicates removed and datetimes sorted."
     ]
    },
    {
     "cell_type": "code",
     "collapsed": false,
     "input": [
      "def compilation(inputfile):\n",
      "    \"\"\"\n",
      "    This function reads multiple Solinst transducer files in a directory and generates a compiled Pandas dataframe.\n",
      "    \n",
      "    inputfile = complete file path to input files; use * for wildcard in file name\n",
      "        example -> 'O:\\\\Snake Valley Water\\\\Transducer Data\\\\Raw_data_archive\\\\all\\\\LEV\\\\*baro*' picks any file containing 'baro'\n",
      "    \n",
      "    packages required:\n",
      "        pandas as pd\n",
      "        glob\n",
      "        os\n",
      "        xmltodict\n",
      "    \"\"\"\n",
      "        \n",
      "    # create empty dictionary to hold dataframes\n",
      "    f={}\n",
      "\n",
      "    # generate list of relevant files\n",
      "    filelist = glob.glob(inputfile)\n",
      "\n",
      "    # iterate through list of relevant files\n",
      "    for infile in filelist:\n",
      "        # get the extension of the input file\n",
      "        filetype = os.path.splitext(infile)[1]\n",
      "        # run computations using lev files\n",
      "        if filetype=='.lev':\n",
      "            # open text file\n",
      "            with open(infile) as fd:\n",
      "                # find beginning of data\n",
      "                indices = fd.readlines().index('[Data]\\n')\n",
      "\n",
      "            # convert data to pandas dataframe starting at the indexed data line\n",
      "            f[getfilename(infile)] = pd.read_table(infile, parse_dates=True, sep='     ', index_col=0,\n",
      "                                           skiprows=indices+2, names=['DateTime','Level','Temperature'], skipfooter=1,engine='python')\n",
      "            # add extension-free file name to dataframe\n",
      "            f[getfilename(infile)]['name'] = getfilename(infile)\n",
      "            \n",
      "        # run computations using xle files\n",
      "        elif filetype=='.xle':\n",
      "            # open text file\n",
      "            with open(infile) as fd:\n",
      "                # parse xml\n",
      "                obj = xmltodict.parse(fd.read(),encoding=\"ISO-8859-1\")\n",
      "            # navigate through xml to the data\n",
      "            wellrawdata = obj['Body_xle']['Data']['Log']\n",
      "            # convert xml data to pandas dataframe\n",
      "            f[getfilename(infile)] = pd.DataFrame(wellrawdata)\n",
      "            # get header names and apply to the pandas dataframe          \n",
      "            f[getfilename(infile)][str(obj['Body_xle']['Ch1_data_header']['Identification']).title()] = f[getfilename(infile)]['ch1']\n",
      "            f[getfilename(infile)][str(obj['Body_xle']['Ch2_data_header']['Identification']).title()] = f[getfilename(infile)]['ch2']\n",
      "  \n",
      "            # add extension-free file name to dataframe\n",
      "            f[getfilename(infile)]['name'] = getfilename(infile)\n",
      "            # combine Date and Time fields into one field\n",
      "            f[getfilename(infile)]['DateTime'] = pd.to_datetime(f[getfilename(infile)].apply(lambda x: x['Date'] + ' ' + x['Time'], 1))\n",
      "            f[getfilename(infile)] = f[getfilename(infile)].reset_index()\n",
      "            f[getfilename(infile)] = f[getfilename(infile)].set_index('DateTime')\n",
      "            f[getfilename(infile)] = f[getfilename(infile)].drop(['Date','Time','@id','ch1','ch2','index','ms'],axis=1)\n",
      "        # run computations using csv files\n",
      "\n",
      "        else:\n",
      "            pass\n",
      "    # concatonate all of the dataframes in dictionary f to one dataframe: g\n",
      "    g = pd.concat(f)\n",
      "    # remove multiindex and replace with index=Datetime\n",
      "    g = g.reset_index()\n",
      "    g = g.set_index(['DateTime'])\n",
      "    # drop old indexes\n",
      "    g = g.drop(['level_0'],axis=1)\n",
      "    # remove duplicates based on index then sort by index\n",
      "    g['ind']=g.index\n",
      "    g.drop_duplicates(subset='ind',inplace=True)\n",
      "    g.drop('ind',axis=1,inplace=True)\n",
      "    g = g.sort()\n",
      "    # ensure that the Level and Temperature data are in a float format\n",
      "    g['Level'] = g['Level'].convert_objects(convert_numeric=True)\n",
      "    g['Temperature'] = g['Temperature'].convert_objects(convert_numeric=True)\n",
      "    outfile = g\n",
      "    return outfile"
     ],
     "language": "python",
     "metadata": {},
     "outputs": [],
     "prompt_number": 60
    },
    {
     "cell_type": "heading",
     "level": 3,
     "metadata": {},
     "source": [
      "Appendomatic"
     ]
    },
    {
     "cell_type": "markdown",
     "metadata": {},
     "source": [
      "The appendomatic function below appends new data (infile) onto existing data by parsing the new data and making it the same format as the existing data, then merging the datasets, then overwriting the existing data."
     ]
    },
    {
     "cell_type": "code",
     "collapsed": false,
     "input": [
      "def appendomatic(infile,existingfile):\n",
      "    '''\n",
      "    appends data from one table to an existing compilation\n",
      "    this tool will delete and replace the existing file\n",
      "\n",
      "    infile = input file\n",
      "    existingfile = file you wish to append to\n",
      "    '''\n",
      "\n",
      "    # get the extension of the input file\n",
      "    filetype = os.path.splitext(infile)[1]\n",
      "    \n",
      "    # run computations using lev files\n",
      "    if filetype=='.lev':\n",
      "        # open text file\n",
      "        with open(infile) as fd:\n",
      "            # find beginning of data\n",
      "            indices = fd.readlines().index('[Data]\\n')\n",
      "\n",
      "        # convert data to pandas dataframe starting at the indexed data line\n",
      "        f = pd.read_table(infile, parse_dates=True, sep='     ', index_col=0,\n",
      "                                       skiprows=indices+2, names=['DateTime','Level','Temperature'], skipfooter=1,engine='python')\n",
      "        # add extension-free file name to dataframe\n",
      "        f['name'] = getfilename(infile)\n",
      "\n",
      "    # run computations using xle files\n",
      "    elif filetype=='.xle':\n",
      "        # open text file\n",
      "        with open(infile) as fd:\n",
      "            # parse xml\n",
      "            obj = xmltodict.parse(fd.read(),encoding=\"ISO-8859-1\")\n",
      "        # navigate through xml to the data\n",
      "        wellrawdata = obj['Body_xle']['Data']['Log']\n",
      "        # convert xml data to pandas dataframe\n",
      "        f = pd.DataFrame(wellrawdata)\n",
      "        # get header names and apply to the pandas dataframe\n",
      "        f[str(obj['Body_xle']['Ch1_data_header']['Identification']).title()] = f['ch1']\n",
      "        f[str(obj['Body_xle']['Ch2_data_header']['Identification']).title()] = f['ch2']\n",
      "\n",
      "        # add extension-free file name to dataframe\n",
      "        f['name'] = getfilename(infile)\n",
      "        # combine Date and Time fields into one field\n",
      "        f['DateTime'] = pd.to_datetime(f.apply(lambda x: x['Date'] + ' ' + x['Time'], 1))\n",
      "        f = f.reset_index()\n",
      "        f = f.set_index('DateTime')\n",
      "        f = f.drop(['Date','Time','@id','ch1','ch2','index','ms'],axis=1)\n",
      "    \n",
      "    # run computations using csv files\n",
      "    elif filetype=='.csv':\n",
      "        with open(infile) as fd:\n",
      "        # find beginning of data\n",
      "            try:\n",
      "                indices = fd.readlines().index('Date,Time,ms,Level,Temperature\\n')\n",
      "            except ValueError:\n",
      "                indices = fd.readlines().index(',Date,Time,100 ms,Level,Temperature\\n')\n",
      "        f = pd.read_csv(infile, skiprows=indices, skipfooter=1, engine='python')\n",
      "        # add extension-free file name to dataframe\n",
      "        f['name'] = getfilename(infile)\n",
      "        # combine Date and Time fields into one field\n",
      "        f['DateTime'] = pd.to_datetime(f.apply(lambda x: x['Date'] + ' ' + x['Time'], 1))\n",
      "        f = f.reset_index()\n",
      "        f = f.set_index('DateTime')\n",
      "        f = f.drop(['Date','Time','ms','index'],axis=1)\n",
      "            # skip other file types\n",
      "    else:\n",
      "        pass\n",
      "\n",
      "    # ensure that the Level and Temperature data are in a float format\n",
      "    f['Level'] = f['Level'].convert_objects(convert_numeric=True)\n",
      "    f['Temperature'] = f['Temperature'].convert_objects(convert_numeric=True)\n",
      "    h = pd.read_csv(existingfile,index_col=0,header=0,parse_dates=True)\n",
      "    g = pd.concat([h,f])\n",
      "    # remove duplicates based on index then sort by index\n",
      "    g['ind']=g.index\n",
      "    g.drop_duplicates(subset='ind',inplace=True)\n",
      "    g.drop('ind',axis=1,inplace=True)\n",
      "    g = g.sort()    \n",
      "    os.remove(existingfile)\n",
      "    g.to_csv(existingfile)"
     ],
     "language": "python",
     "metadata": {},
     "outputs": [],
     "prompt_number": 61
    },
    {
     "cell_type": "heading",
     "level": 3,
     "metadata": {},
     "source": [
      "Make Files Table "
     ]
    },
    {
     "cell_type": "code",
     "collapsed": false,
     "input": [
      "def make_files_table(folder, wellinfofile):\n",
      "    '''\n",
      "    This tool will make a descriptive table (Pandas DataFrame) containing filename, date, and site id.\n",
      "    For it to work properly, files must be named in the following fashion:\n",
      "    siteid YYYY-MM-DD\n",
      "    example: pw03a 2015-03-15.csv\n",
      "\n",
      "    This tool assumes that if there are two files with the same name but different extensions, \n",
      "    then the datalogger for those data is a Solinst datalogger.\n",
      "\n",
      "    folder = directory containing the newly downloaded transducer data\n",
      "    '''\n",
      "\n",
      "    filenames = next(os.walk(folder))[2]\n",
      "    site_id, exten, dates, fullfilename = [],[],[],[]\n",
      "    # parse filename into relevant pieces\n",
      "    for i in filenames:\n",
      "        site_id.append(i[:-15].lower())\n",
      "        exten.append(i[-4:])\n",
      "        dates.append(i[-14:-4])\n",
      "        fullfilename.append(i)\n",
      "    files = {'siteid':site_id,'extensions':exten,'date':dates,'full_file_name':fullfilename}\n",
      "    files = pd.DataFrame(files)\n",
      "    files['filedups'] = files.duplicated(subset='siteid')\n",
      "    files['LoggerTypeID'] = files['filedups'].astype('int')+1\n",
      "    files['LoggerTypeName']=files['LoggerTypeID'].apply(lambda x: 'Solinst' if x==2 else 'Global Water')\n",
      "    files.drop_duplicates(subset='siteid',take_last=True,inplace=True)\n",
      "\n",
      "    #wellinfo = pd.read_csv(wellinfofile,header=0,index_col=0)\n",
      "    wellinfo[\"G_Elev_m\"] = wellinfo[\"GroundElevation\"]/3.2808\n",
      "    wellinfo['Well'] = wellinfo['Well'].apply(lambda x: str(x).lower().strip())\n",
      "    files = pd.merge(files,wellinfo,left_on='siteid',right_on='Well')\n",
      "    \n",
      "    return files"
     ],
     "language": "python",
     "metadata": {},
     "outputs": [],
     "prompt_number": 62
    },
    {
     "cell_type": "heading",
     "level": 3,
     "metadata": {},
     "source": [
      "Barodistance"
     ]
    },
    {
     "cell_type": "code",
     "collapsed": false,
     "input": [
      "def barodistance(wellinfo):\n",
      "    '''\n",
      "    Determines Closest Barometer to Each Well using wellinfo DataFrame\n",
      "    '''\n",
      "    barometers = {'barom':['pw03','pw10','pw19'], 'X':[240327.49,271127.67,305088.9], \n",
      "                  'Y':[4314993.95,4356071.98,4389630.71], 'Z':[1623.079737,1605.187759,1412.673738]}\n",
      "    barolocal = pd.DataFrame(barometers)\n",
      "    barolocal = barolocal.reset_index()\n",
      "    barolocal.set_index('barom',inplace=True)\n",
      "\n",
      "    wellinfo['pw03'] = np.sqrt((barolocal.loc['pw03','X']-wellinfo['UTMEasting'])**2 + \n",
      "                                   (barolocal.loc['pw03','Y']-wellinfo['UTMNorthing'])**2 + \n",
      "                                   (barolocal.loc['pw03','Z']-wellinfo['G_Elev_m'])**2)\n",
      "    wellinfo['pw10'] = np.sqrt((barolocal.loc['pw10','X']-wellinfo['UTMEasting'])**2 + \n",
      "                                   (barolocal.loc['pw10','Y']-wellinfo['UTMNorthing'])**2 + \n",
      "                                   (barolocal.loc['pw10','Z']-wellinfo['G_Elev_m'])**2)\n",
      "    wellinfo['pw19'] = np.sqrt((barolocal.loc['pw19','X']-wellinfo['UTMEasting'])**2 + \n",
      "                                   (barolocal.loc['pw19','Y']-wellinfo['UTMNorthing'])**2 + \n",
      "                                   (barolocal.loc['pw19','Z']-wellinfo['G_Elev_m'])**2)\n",
      "    wellinfo['closest_baro'] = wellinfo[['pw03','pw10','pw19']].T.idxmin()\n",
      "    return wellinfo"
     ],
     "language": "python",
     "metadata": {},
     "outputs": [],
     "prompt_number": 63
    },
    {
     "cell_type": "heading",
     "level": 3,
     "metadata": {},
     "source": [
      "New Well Import"
     ]
    },
    {
     "cell_type": "code",
     "collapsed": false,
     "input": [
      "def new_xle_imp(infile):\n",
      "    # open text file\n",
      "    with open(infile) as fd:\n",
      "        # parse xml\n",
      "        obj = xmltodict.parse(fd.read(),encoding=\"ISO-8859-1\")\n",
      "    # navigate through xml to the data\n",
      "    wellrawdata = obj['Body_xle']['Data']['Log']\n",
      "    # convert xml data to pandas dataframe\n",
      "    f = pd.DataFrame(wellrawdata)\n",
      "    # get header names and apply to the pandas dataframe\n",
      "    f[str(obj['Body_xle']['Ch1_data_header']['Identification']).title()] = f['ch1']\n",
      "    f[str(obj['Body_xle']['Ch2_data_header']['Identification']).title()] = f['ch2']\n",
      "    # add extension-free file name to dataframe\n",
      "    f['name'] = getfilename(infile)\n",
      "    # combine Date and Time fields into one field\n",
      "    f['DateTime'] = pd.to_datetime(f.apply(lambda x: x['Date'] + ' ' + x['Time'], 1))\n",
      "    f[str(obj['Body_xle']['Ch1_data_header']['Identification']).title()] = f[str(obj['Body_xle']['Ch1_data_header']['Identification']).title()].convert_objects(convert_numeric=True)\n",
      "    f[str(obj['Body_xle']['Ch2_data_header']['Identification']).title()] = f[str(obj['Body_xle']['Ch2_data_header']['Identification']).title()].convert_objects(convert_numeric=True)\n",
      "    f = f.reset_index()\n",
      "    f = f.set_index('DateTime')\n",
      "    f = f.drop(['Date','Time','@id','ch1','ch2','index','ms'],axis=1)\n",
      "    return f"
     ],
     "language": "python",
     "metadata": {},
     "outputs": [],
     "prompt_number": 64
    },
    {
     "cell_type": "heading",
     "level": 3,
     "metadata": {},
     "source": [
      "Resample"
     ]
    },
    {
     "cell_type": "code",
     "collapsed": false,
     "input": [
      "def hourly_resample(df,bse=0):\n",
      "    df = df.resample('1Min')\n",
      "    df = df.interpolate(method='time')\n",
      "    df = df.resample('60Min', how='first',closed='left',label='left', base=bse)\n",
      "    return df"
     ],
     "language": "python",
     "metadata": {},
     "outputs": [],
     "prompt_number": 117
    },
    {
     "cell_type": "code",
     "collapsed": false,
     "input": [
      "?pd.DataFrame.resample"
     ],
     "language": "python",
     "metadata": {},
     "outputs": [],
     "prompt_number": 66
    },
    {
     "cell_type": "heading",
     "level": 3,
     "metadata": {},
     "source": [
      "Find Closest Date"
     ]
    },
    {
     "cell_type": "code",
     "collapsed": false,
     "input": [
      "def fcl(df, dtObj):\n",
      "    '''\n",
      "    finds closest date index in a dataframe to a date object\n",
      "    \n",
      "    df = dataframe\n",
      "    dtObj = date object\n",
      "    '''\n",
      "    return df.iloc[np.argmin(np.abs(df.index.to_pydatetime() - dtObj))]"
     ],
     "language": "python",
     "metadata": {},
     "outputs": [],
     "prompt_number": 67
    },
    {
     "cell_type": "heading",
     "level": 2,
     "metadata": {},
     "source": [
      "Import Relevant Data"
     ]
    },
    {
     "cell_type": "heading",
     "level": 3,
     "metadata": {},
     "source": [
      "Well Information"
     ]
    },
    {
     "cell_type": "code",
     "collapsed": false,
     "input": [
      "folder = Drive + ':\\\\Snake Valley Water\\\\Transducer Data\\\\Raw_data_archive\\\\2015\\\\2015 q1'\n",
      "wellinfofile = Drive + ':\\\\Snake Valley Water\\\\Transducer Data\\\\Database Archive\\\\well.csv'"
     ],
     "language": "python",
     "metadata": {},
     "outputs": [],
     "prompt_number": 68
    },
    {
     "cell_type": "code",
     "collapsed": false,
     "input": [
      "wellinfo = pd.read_csv(Drive + ':\\\\Snake Valley Water\\\\Transducer Data\\\\Database Archive\\\\well.csv',header=0,index_col=0)\n",
      "wellinfo[\"G_Elev_m\"] = wellinfo[\"GroundElevation\"]/3.2808\n",
      "wellinfo[\"Well\"] = wellinfo['Well'].apply(lambda x: str(x).lower().strip())\n",
      "wellinfo['WellID'] = wellinfo.index.values"
     ],
     "language": "python",
     "metadata": {},
     "outputs": [],
     "prompt_number": 69
    },
    {
     "cell_type": "heading",
     "level": 3,
     "metadata": {},
     "source": [
      "Manual Water Levels"
     ]
    },
    {
     "cell_type": "code",
     "collapsed": false,
     "input": [
      "manualwls = Drive + \":\\\\Snake Valley Water\\\\Transducer Data\\\\Raw_data_archive\\\\All tape measurements.csv\"\n",
      "manual = pd.read_csv(manualwls, skiprows=0, parse_dates=0, \n",
      "                     index_col=\"DateTime\", engine=\"python\")"
     ],
     "language": "python",
     "metadata": {},
     "outputs": [],
     "prompt_number": 70
    },
    {
     "cell_type": "heading",
     "level": 3,
     "metadata": {},
     "source": [
      "Barometric Pressure Data"
     ]
    },
    {
     "cell_type": "heading",
     "level": 4,
     "metadata": {},
     "source": [
      "Compilation of Barometric Pressure Data"
     ]
    },
    {
     "cell_type": "code",
     "collapsed": false,
     "input": [
      "pw03baro_append = Drive + \":\\\\Snake Valley Water\\\\Transducer Data\\\\Raw_data_archive\\\\2015\\\\2015 q1\\\\pw03 baro 2015-03-04.xle\"\n",
      "pw10baro_append = Drive + \":\\\\Snake Valley Water\\\\Transducer Data\\\\Raw_data_archive\\\\2015\\\\2015 q1\\\\pw10 baro 2015-03-04.xle\"\n",
      "pw19baro_append = Drive + \":\\\\Snake Valley Water\\\\Transducer Data\\\\Raw_data_archive\\\\2015\\\\2015 q1\\\\pw19 baro 2015-03-05.xle\""
     ],
     "language": "python",
     "metadata": {},
     "outputs": [],
     "prompt_number": 71
    },
    {
     "cell_type": "code",
     "collapsed": false,
     "input": [
      "pw03baro = Drive + \":\\\\Snake Valley Water\\\\Transducer Data\\\\Raw_data_archive\\\\pw03baro.csv\"\n",
      "pw10baro = Drive + \":\\\\Snake Valley Water\\\\Transducer Data\\\\Raw_data_archive\\\\pw10baro.csv\"\n",
      "pw19baro = Drive + \":\\\\Snake Valley Water\\\\Transducer Data\\\\Raw_data_archive\\\\pw19baro.csv\""
     ],
     "language": "python",
     "metadata": {},
     "outputs": [],
     "prompt_number": 72
    },
    {
     "cell_type": "code",
     "collapsed": false,
     "input": [
      "appendomatic(pw03baro_append,pw03baro)\n",
      "appendomatic(pw10baro_append,pw10baro)\n",
      "appendomatic(pw19baro_append,pw19baro)"
     ],
     "language": "python",
     "metadata": {},
     "outputs": [],
     "prompt_number": 74
    },
    {
     "cell_type": "code",
     "collapsed": false,
     "input": [
      "# duplicated to update changes made by appendomatic\n",
      "pw03baro = pd.read_csv(Drive + \":\\\\Snake Valley Water\\\\Transducer Data\\\\Raw_data_archive\\\\pw03baro.csv\",index_col='DateTime',parse_dates=True)\n",
      "pw10baro = pd.read_csv(Drive + \":\\\\Snake Valley Water\\\\Transducer Data\\\\Raw_data_archive\\\\pw10baro.csv\",index_col='DateTime',parse_dates=True)\n",
      "pw19baro = pd.read_csv(Drive + \":\\\\Snake Valley Water\\\\Transducer Data\\\\Raw_data_archive\\\\pw19baro.csv\",index_col='DateTime',parse_dates=True)"
     ],
     "language": "python",
     "metadata": {},
     "outputs": [],
     "prompt_number": 118
    },
    {
     "cell_type": "code",
     "collapsed": false,
     "input": [
      "pw03baro['pw03'] = pw03baro['Level']\n",
      "pw03baro = hourly_resample(pw03baro['pw03'].to_frame())\n",
      "pw10baro['pw10'] = pw10baro['Level']\n",
      "pw10baro = hourly_resample(pw10baro['pw10'].to_frame())\n",
      "pw19baro['pw19'] = pw19baro['Level']\n",
      "pw19baro = hourly_resample(pw19baro['pw19'].to_frame())"
     ],
     "language": "python",
     "metadata": {},
     "outputs": [],
     "prompt_number": 119
    },
    {
     "cell_type": "code",
     "collapsed": false,
     "input": [
      "baro = pd.merge(pw03baro,pw10baro,how=\"outer\",left_index=True,right_index=True)\n",
      "baro = pd.merge(baro,pw19baro,how=\"outer\",left_index=True,right_index=True)\n",
      "baro.dropna(axis=0,inplace=True)\n",
      "baro['integr'] = 0 #for vented transducers\n",
      "baro[baro.index.to_datetime()==pd.datetime(2015,3,4,10)]"
     ],
     "language": "python",
     "metadata": {},
     "outputs": [
      {
       "html": [
        "<div style=\"max-height:1000px;max-width:1500px;overflow:auto;\">\n",
        "<table border=\"1\" class=\"dataframe\">\n",
        "  <thead>\n",
        "    <tr style=\"text-align: right;\">\n",
        "      <th></th>\n",
        "      <th>pw03</th>\n",
        "      <th>pw10</th>\n",
        "      <th>pw19</th>\n",
        "      <th>integr</th>\n",
        "    </tr>\n",
        "    <tr>\n",
        "      <th>DateTime</th>\n",
        "      <th></th>\n",
        "      <th></th>\n",
        "      <th></th>\n",
        "      <th></th>\n",
        "    </tr>\n",
        "  </thead>\n",
        "  <tbody>\n",
        "    <tr>\n",
        "      <th>2015-03-04 10:00:00</th>\n",
        "      <td> 2.8196</td>\n",
        "      <td> 3.2433</td>\n",
        "      <td> 3.3271</td>\n",
        "      <td> 0</td>\n",
        "    </tr>\n",
        "  </tbody>\n",
        "</table>\n",
        "</div>"
       ],
       "metadata": {},
       "output_type": "pyout",
       "prompt_number": 123,
       "text": [
        "                       pw03    pw10    pw19  integr\n",
        "DateTime                                           \n",
        "2015-03-04 10:00:00  2.8196  3.2433  3.3271       0"
       ]
      }
     ],
     "prompt_number": 123
    },
    {
     "cell_type": "code",
     "collapsed": false,
     "input": [
      "baro[['pw03','pw10','pw19']].plot()\n"
     ],
     "language": "python",
     "metadata": {},
     "outputs": [
      {
       "metadata": {},
       "output_type": "pyout",
       "prompt_number": 124,
       "text": [
        "<matplotlib.axes._subplots.AxesSubplot at 0x1ab54b50>"
       ]
      },
      {
       "metadata": {},
       "output_type": "display_data",
       "png": "[encoded data removed]",
       "text": [
        "<matplotlib.figure.Figure at 0x1ab772f0>"
       ]
      }
     ],
     "prompt_number": 124
    },
    {
     "cell_type": "code",
     "collapsed": false,
     "input": [
      "pathlist = os.path.splitext(infile)[0].split('\\\\')\n",
      "baro.to_csv(pathlist[0] + '\\\\' + pathlist[1] + '\\\\' + pathlist[2] + '\\\\' + pathlist[3] + '\\\\' + pathlist[4] + '\\\\' + 'baro' + '.csv')"
     ],
     "language": "python",
     "metadata": {},
     "outputs": []
    },
    {
     "cell_type": "code",
     "collapsed": false,
     "input": [
      "wellinfo = barodistance(wellinfo)\n",
      "wellinfo = make_files_table(folder, wellinfofile)"
     ],
     "language": "python",
     "metadata": {},
     "outputs": [],
     "prompt_number": 131
    },
    {
     "cell_type": "heading",
     "level": 2,
     "metadata": {},
     "source": [
      "Water Level Tranducer Data"
     ]
    },
    {
     "cell_type": "heading",
     "level": 3,
     "metadata": {},
     "source": [
      "Import Data"
     ]
    },
    {
     "cell_type": "code",
     "collapsed": false,
     "input": [
      "infile = Drive + \":\\\\Snake Valley Water\\\\Transducer Data\\\\Raw_data_archive\\\\2015\\\\2015 q1\\\\pw01b 2015-03-03.xle\"\n",
      "f = new_xle_imp(infile)\n",
      "wellid = wellinfo[wellinfo['Well']==getfilename(infile)[0:5].strip().lower()]['WellID'].values[0]\n",
      "#pathlist = os.path.splitext(infile)[0].split('\\\\')\n",
      "#f.to_csv(pathlist[0] + '\\\\' + pathlist[1] + '\\\\' + pathlist[2] + '\\\\' + pathlist[3] + '\\\\' + pathlist[4] + '\\\\' + 'f' + '.csv')\n"
     ],
     "language": "python",
     "metadata": {},
     "outputs": [
      {
       "output_type": "stream",
       "stream": "stdout",
       "text": [
        "0.0291700666374\n",
        "-0.0398986380659\n",
        "-0.0344\n"
       ]
      }
     ],
     "prompt_number": 152
    },
    {
     "cell_type": "code",
     "collapsed": false,
     "input": [
      "infile = Drive + \":\\\\Snake Valley Water\\\\Transducer Data\\\\Raw_data_archive\\\\2015\\\\2015 q1\\\\pw05b 2015-03-03.csv\"\n",
      "\n",
      "f = pd.read_csv(infile,skiprows=1,parse_dates=[[0,1]])\n",
      "f = f.reset_index()\n",
      "f['DateTime'] = f['Date_ Time']\n",
      "f['Level'] = f[' Feet']\n",
      "f = f.set_index('DateTime')\n",
      "print f.columns\n",
      "\n",
      "f['date'] = f.index.to_julian_date().values\n",
      "f['datediff'] = f['date'].diff()\n",
      "\n",
      "print f.iloc[1670:1680]\n",
      "f = f[f['datediff']>0]\n",
      "f = f[f['datediff']<1]\n",
      "f = f.resample(\"60Min\")\n",
      "f = f.interpolate(method='time')\n",
      "f.drop(['index','Date_ Time',' Volts',' Feet','date','datediff'],inplace=True,axis=1)\n",
      "print f.iloc[1660:1680]\n"
     ],
     "language": "python",
     "metadata": {},
     "outputs": [
      {
       "output_type": "stream",
       "stream": "stdout",
       "text": [
        "Index([u'index', u'Date_ Time', u' Feet', u' Temp C', u' Volts', u'Level'], dtype='object')\n",
        "                      Temp C  Level            date   datediff\n",
        "DateTime                                                      \n",
        "2015-02-17 03:00:00    14.62  23.19  2457070.625000   0.041667\n",
        "2015-01-17 00:00:00    14.65  23.11  2457039.500000 -31.125000\n",
        "2015-02-17 05:00:00    14.65  23.20  2457070.708333  31.208333\n",
        "2015-02-17 06:00:00    14.72  23.20  2457070.750000   0.041667\n",
        "2015-02-17 07:00:00    14.65  23.21  2457070.791667   0.041667\n",
        "2015-02-17 08:00:00    14.65  23.20  2457070.833333   0.041667\n",
        "2015-02-17 09:00:00    14.62  23.18  2457070.875000   0.041667\n",
        "2015-02-17 10:00:00    14.72  23.16  2457070.916667   0.041667\n",
        "2015-02-17 11:00:00    14.65  23.15  2457070.958333   0.041667\n",
        "2015-02-17 12:00:00    14.65  23.13  2457071.000000   0.041667\n",
        "                        Temp C      Level            date  datediff\n",
        "DateTime                                                           \n",
        "2015-02-16 18:00:00  14.650000  23.170000  2457070.250000  0.041667\n",
        "2015-02-16 19:00:00  14.620000  23.160000  2457070.291667  0.041667\n",
        "2015-02-16 20:00:00  14.620000  23.160000  2457070.333333  0.041667\n",
        "2015-02-16 21:00:00  14.600000  23.150000  2457070.375000  0.041667\n",
        "2015-02-16 22:00:00  14.620000  23.150000  2457070.416667  0.041667\n",
        "2015-02-16 23:00:00  14.650000  23.150000  2457070.458333  0.041667\n",
        "2015-02-17 00:00:00  14.720000  23.160000  2457070.500000  0.041667\n",
        "2015-02-17 01:00:00  14.650000  23.160000  2457070.541667  0.041667\n",
        "2015-02-17 02:00:00  14.650000  23.170000  2457070.583333  0.041667\n",
        "2015-02-17 03:00:00  14.620000  23.190000  2457070.625000  0.041667\n",
        "2015-02-17 04:00:00  14.653333  23.193333  2457070.666667  0.041667\n",
        "2015-02-17 05:00:00  14.686667  23.196667  2457070.708333  0.041667\n",
        "2015-02-17 06:00:00  14.720000  23.200000  2457070.750000  0.041667\n",
        "2015-02-17 07:00:00  14.650000  23.210000  2457070.791667  0.041667\n",
        "2015-02-17 08:00:00  14.650000  23.200000  2457070.833333  0.041667\n",
        "2015-02-17 09:00:00  14.620000  23.180000  2457070.875000  0.041667\n",
        "2015-02-17 10:00:00  14.720000  23.160000  2457070.916667  0.041667\n",
        "2015-02-17 11:00:00  14.650000  23.150000  2457070.958333  0.041667\n",
        "2015-02-17 12:00:00  14.650000  23.130000  2457071.000000  0.041667\n",
        "2015-02-17 13:00:00  14.600000  23.140000  2457071.041667  0.041667\n"
       ]
      }
     ],
     "prompt_number": 213
    },
    {
     "cell_type": "markdown",
     "metadata": {},
     "source": [
      "Finding initial and final outliers (transducer out of water)"
     ]
    },
    {
     "cell_type": "code",
     "collapsed": false,
     "input": [
      "#this should be conducted on the MeasuredDTW as opposed to the Raw Level\n",
      "imp_new_well(infile,wellinfo)\n",
      "firstupper = np.mean(g['MeasuredDTW'].diff()[362:393]) + np.std(g['MeasuredDTW'].diff()[362:393])*2.5\n",
      "firstlower = np.mean(g['MeasuredDTW'].diff()[362:393]) - np.std(g['MeasuredDTW'].diff()[362:393])*2.5\n",
      "firstlev = g['MeasuredDTW'].diff()[361:362].values[0]\n",
      "print f[f.index.to_datetime()==pd.datetime(2014,12,24,11)]\n",
      "print f.iloc[360]\n",
      "print upper\n",
      "print lower\n",
      "print firstlev\n"
     ],
     "language": "python",
     "metadata": {},
     "outputs": [
      {
       "output_type": "stream",
       "stream": "stdout",
       "text": [
        "                     Level  Temperature              name\n",
        "DateTime                                                 \n",
        "2014-12-24 11:00:00  8.106       11.846  pw01b 2015-03-03\n",
        "Level                     8.106\n",
        "Temperature              11.846\n",
        "name           pw01b 2015-03-03\n",
        "Name: 2014-12-24 11:00:00, dtype: object\n",
        "0.0291700666374\n",
        "-0.0398986380659\n",
        "-0.00529999999999\n"
       ]
      }
     ],
     "prompt_number": 162
    },
    {
     "cell_type": "code",
     "collapsed": false,
     "input": [
      "def imp_new_well(infile,wellinfo):\n",
      "    wellname = getfilename(infile)[0:5].strip().lower()\n",
      "    wellid = wellinfo[wellinfo['Well']==wellname]['WellID'].values[0]\n",
      "    if wellinfo[wellinfo['Well']==wellname]['LoggerTypeName'].values[0] == 'Solinst':\n",
      "        f = new_xle_imp(infile)\n",
      "        bse = f.index.to_datetime().minute[0]\n",
      "        bp = wellinfo[wellinfo['Well']==wellname]['closest_baro']\n",
      "        b = hourly_resample(baro[bp], bse)\n",
      "        g = pd.merge(f,b,left_index=True,right_index=True,how='inner')\n",
      "        g['wtr_abv'] = g['Level'] - g[wellinfo[wellinfo['Well']==wellname]['closest_baro']]\n",
      "    else\n",
      "        f = pd.read_csv(infile,parse_dates=[0,1],skip_rows=1)\n",
      "        bse = f.index.to_datetime().minute[0]\n",
      "        bp = wellinfo[wellinfo['Well']==wellname]['closest_baro']\n",
      "        b = hourly_resample(baro[bp], bse)\n",
      "        g = pd.merge(f,b,left_index=True,right_index=True,how='inner')\n",
      "        g['wtr_abv'] = g['Level']\n",
      "    be = wellinfo[wellinfo['WellID']==wellid]['BaroEfficiency']\n",
      "    be = be.iloc[0]\n",
      "    g['MeasuredLevel'] = g['wtr_abv']\n",
      "    g['Temp'] = g['Temperature']\n",
      "    g['BaroEfficiencyCorrected'] = g['wtr_abv'] + be*g['wtr_abv']\n",
      "    g['DeltaLevel'] = g['BaroEfficiencyCorrected'] - g['BaroEfficiencyCorrected'][0]\n",
      "    g['MeasuredDTW'] = fcl(manual[manual['WellID']== wellid],min(g.index.to_datetime()))[1]-g['DeltaLevel']\n",
      "    lastdtw = g['MeasuredDTW'][-1]\n",
      "    last = fcl(manual[manual['WellID']== wellid],max(g.index.to_datetime()))[1]\n",
      "    first = fcl(manual[manual['WellID']== wellid],min(g.index.to_datetime()))[1]\n",
      "    lastg = float(g[g.index.to_datetime()==max(g.index.to_datetime())]['MeasuredDTW'].values)\n",
      "    driftlen = len(g.index)\n",
      "    g['last_diff_int'] = (lastg-last)/driftlen\n",
      "    g['WellID'] = wellid\n",
      "    g['DriftCorrection'] = g['last_diff_int'].cumsum()-g['last_diff_int']\n",
      "    g['DTWBelowCasing'] = g['MeasuredDTW'] - g['DriftCorrection']\n",
      "    g['DTWBelowGroundSurface'] = g['DTWBelowCasing'] - wellinfo[wellinfo['WellID']==wellid]['Offset'].values[0]\n",
      "    g['WaterElevation'] = wellinfo[wellinfo['WellID']==wellid]['GroundElevation'].values[0] - g['DTWBelowGroundSurface']\n",
      "    g['Tape'] = 0\n",
      "    g['MeasuredBy'] = ''\n",
      "    pathlist = os.path.splitext(infile)[0].split('\\\\')\n",
      "    outpath = pathlist[0] + '\\\\' + pathlist[1] + '\\\\' + pathlist[2] + '\\\\' + pathlist[3] + '\\\\' + pathlist[4] + '\\\\' + str(wellname) + '.csv'  \n",
      "    g.to_csv(outpath)\n"
     ],
     "language": "python",
     "metadata": {},
     "outputs": [],
     "prompt_number": 159
    },
    {
     "cell_type": "code",
     "collapsed": false,
     "input": [
      "imp_new_well(infile,wellinfo)"
     ],
     "language": "python",
     "metadata": {},
     "outputs": [],
     "prompt_number": 136
    },
    {
     "cell_type": "heading",
     "level": 3,
     "metadata": {},
     "source": [
      "Match Barometric Data"
     ]
    },
    {
     "cell_type": "code",
     "collapsed": false,
     "input": [
      "wellname = getfilename(infile)[0:5].strip().lower()\n",
      "wellid = wellinfo[wellinfo['Well']==wellname]['WellID'].values[0]\n",
      "bse = f.index.to_datetime().minute[0]\n",
      "b = baro['pw03'].to_frame()\n",
      "b = hourly_resample(b, bse)"
     ],
     "language": "python",
     "metadata": {},
     "outputs": [],
     "prompt_number": 125
    },
    {
     "cell_type": "code",
     "collapsed": false,
     "input": [
      "g = pd.merge(f,b,left_index=True,right_index=True,how='inner')\n",
      "g.columns"
     ],
     "language": "python",
     "metadata": {},
     "outputs": [
      {
       "metadata": {},
       "output_type": "pyout",
       "prompt_number": 126,
       "text": [
        "Index([u'Level', u'Temperature', u'name', u'pw03'], dtype='object')"
       ]
      }
     ],
     "prompt_number": 126
    },
    {
     "cell_type": "code",
     "collapsed": false,
     "input": [
      "g['wtr_abv'] = g['Level'] - g[btype]"
     ],
     "language": "python",
     "metadata": {},
     "outputs": []
    },
    {
     "cell_type": "heading",
     "level": 3,
     "metadata": {},
     "source": [
      "Get Barometric Efficiency"
     ]
    },
    {
     "cell_type": "code",
     "collapsed": false,
     "input": [
      "be = wellinfo[wellinfo.index==wellid]['BaroEfficiency']\n",
      "be = be.iloc[0]\n",
      "g['BaroEfficiencyCorrected'] = g['wtr_abv'] + be*g['wtr_abv']"
     ],
     "language": "python",
     "metadata": {},
     "outputs": []
    },
    {
     "cell_type": "code",
     "collapsed": false,
     "input": [
      "g['DeltaLevel'] = g['BaroEfficiencyCorrected'] - g['BaroEfficiencyCorrected'][0]"
     ],
     "language": "python",
     "metadata": {},
     "outputs": []
    },
    {
     "cell_type": "heading",
     "level": 3,
     "metadata": {},
     "source": [
      "Remove Drift"
     ]
    },
    {
     "cell_type": "markdown",
     "metadata": {},
     "source": [
      "http://stackoverflow.com/questions/9877391/how-to-get-the-closest-single-row-after-a-specific-datetime-index-using-python-p\n",
      "http://stackoverflow.com/questions/15115547/find-closest-row-of-dataframe-to-given-time-in-pandas"
     ]
    },
    {
     "cell_type": "code",
     "collapsed": false,
     "input": [
      "print max(f.index.to_datetime())\n",
      "print min(f.index.to_datetime())"
     ],
     "language": "python",
     "metadata": {},
     "outputs": []
    },
    {
     "cell_type": "code",
     "collapsed": false,
     "input": [
      "g['MeasuredDTW'] = fcl(manual[manual['WellID']== wellid],min(g.index.to_datetime()))[1]-g['DeltaLevel']\n",
      "lastdtw = g['MeasuredDTW'][-1]\n",
      "\n",
      "lastdtw"
     ],
     "language": "python",
     "metadata": {},
     "outputs": []
    },
    {
     "cell_type": "code",
     "collapsed": false,
     "input": [
      "wellinfo.columns"
     ],
     "language": "python",
     "metadata": {},
     "outputs": []
    },
    {
     "cell_type": "code",
     "collapsed": false,
     "input": [
      "g['wtr_abv'] = g['Level'] - g['pw03']\n",
      "be = wellinfo[wellinfo['WellID']==wellid]['BaroEfficiency']\n",
      "be = be.iloc[0]\n",
      "g['MeasuredLevel'] = g['wtr_abv']\n",
      "g['Temp'] = g['Temperature']\n",
      "g['BaroEfficiencyCorrected'] = g['wtr_abv'] + be*g['wtr_abv']\n",
      "g['DeltaLevel'] = g['BaroEfficiencyCorrected'] - g['BaroEfficiencyCorrected'][0]\n",
      "g['MeasuredDTW'] = fcl(manual[manual['WellID']== wellid],min(g.index.to_datetime()))[1]-g['DeltaLevel']\n",
      "lastdtw = g['MeasuredDTW'][-1]\n",
      "last = fcl(manual[manual['WellID']== wellid],max(g.index.to_datetime()))[1]\n",
      "first = fcl(manual[manual['WellID']== wellid],min(g.index.to_datetime()))[1]\n",
      "lastg = float(g[g.index.to_datetime()==max(g.index.to_datetime())]['MeasuredDTW'].values)\n",
      "driftlen = len(g.index)\n",
      "g['last_diff_int'] = (lastg-last)/driftlen\n",
      "g['WellID'] = wellid\n",
      "g['DriftCorrection'] = g['last_diff_int'].cumsum()-g['last_diff_int']\n",
      "g['DTWBelowCasing'] = g['MeasuredDTW'] - g['DriftCorrection']\n",
      "g['DTWBelowGroundSurface'] = g['DTWBelowCasing'] - wellinfo[wellinfo['WellID']==wellid]['Offset'].values[0]\n",
      "g['WaterElevation'] = wellinfo[wellinfo['WellID']==wellid]['GroundElevation'].values[0] - g['DTWBelowGroundSurface']\n",
      "g['Tape'] = 0\n",
      "g['MeasuredBy'] = ''\n",
      "print last\n",
      "print lastg\n",
      "print first\n",
      "print last-lastg\n",
      "print driftlen\n",
      "print g['last_diff_int']\n",
      "print g"
     ],
     "language": "python",
     "metadata": {},
     "outputs": [
      {
       "output_type": "stream",
       "stream": "stdout",
       "text": [
        "101.97\n",
        "102.0333\n",
        "102.71\n",
        "-0.0633\n",
        "2017\n",
        "DateTime\n",
        "2014-12-09 11:00:00    0.000031\n",
        "2014-12-09 12:00:00    0.000031\n",
        "2014-12-09 13:00:00    0.000031\n",
        "2014-12-09 14:00:00    0.000031\n",
        "2014-12-09 15:00:00    0.000031\n",
        "2014-12-09 16:00:00    0.000031\n",
        "2014-12-09 17:00:00    0.000031\n",
        "2014-12-09 18:00:00    0.000031\n",
        "2014-12-09 19:00:00    0.000031\n",
        "2014-12-09 20:00:00    0.000031\n",
        "2014-12-09 21:00:00    0.000031\n",
        "2014-12-09 22:00:00    0.000031\n",
        "2014-12-09 23:00:00    0.000031\n",
        "2014-12-10 00:00:00    0.000031\n",
        "2014-12-10 01:00:00    0.000031\n",
        "...\n",
        "2015-03-02 21:00:00    0.000031\n",
        "2015-03-02 22:00:00    0.000031\n",
        "2015-03-02 23:00:00    0.000031\n",
        "2015-03-03 00:00:00    0.000031\n",
        "2015-03-03 01:00:00    0.000031\n",
        "2015-03-03 02:00:00    0.000031\n",
        "2015-03-03 03:00:00    0.000031\n",
        "2015-03-03 04:00:00    0.000031\n",
        "2015-03-03 05:00:00    0.000031\n",
        "2015-03-03 06:00:00    0.000031\n",
        "2015-03-03 07:00:00    0.000031\n",
        "2015-03-03 08:00:00    0.000031\n",
        "2015-03-03 09:00:00    0.000031\n",
        "2015-03-03 10:00:00    0.000031\n",
        "2015-03-03 11:00:00    0.000031\n",
        "Name: last_diff_int, Length: 2017\n",
        "                      Level  Temperature              name    pw03  wtr_abv  \\\n",
        "DateTime                                                                      \n",
        "2014-12-09 11:00:00  8.1392       11.798  pw01b 2015-03-03  2.9661   5.1731   \n",
        "2014-12-09 12:00:00  8.1048       11.860  pw01b 2015-03-03  2.9304   5.1744   \n",
        "2014-12-09 13:00:00  8.0809       11.862  pw01b 2015-03-03  2.8986   5.1823   \n",
        "2014-12-09 14:00:00  8.0619       11.864  pw01b 2015-03-03  2.8766   5.1853   \n",
        "2014-12-09 15:00:00  8.0498       11.863  pw01b 2015-03-03  2.8578   5.1920   \n",
        "2014-12-09 16:00:00  8.0476       11.864  pw01b 2015-03-03  2.8470   5.2006   \n",
        "2014-12-09 17:00:00  8.0510       11.864  pw01b 2015-03-03  2.8490   5.2020   \n",
        "2014-12-09 18:00:00  8.0528       11.865  pw01b 2015-03-03  2.8401   5.2127   \n",
        "2014-12-09 19:00:00  8.0547       11.866  pw01b 2015-03-03  2.8393   5.2154   \n",
        "2014-12-09 20:00:00  8.0541       11.865  pw01b 2015-03-03  2.8492   5.2049   \n",
        "2014-12-09 21:00:00  8.0515       11.865  pw01b 2015-03-03  2.8664   5.1851   \n",
        "2014-12-09 22:00:00  8.0368       11.864  pw01b 2015-03-03  2.8635   5.1733   \n",
        "2014-12-09 23:00:00  8.0198       11.865  pw01b 2015-03-03  2.8583   5.1615   \n",
        "2014-12-10 00:00:00  8.0062       11.865  pw01b 2015-03-03  2.8589   5.1473   \n",
        "2014-12-10 01:00:00  7.9915       11.865  pw01b 2015-03-03  2.8454   5.1461   \n",
        "2014-12-10 02:00:00  7.9934       11.865  pw01b 2015-03-03  2.8482   5.1452   \n",
        "2014-12-10 03:00:00  8.0073       11.865  pw01b 2015-03-03  2.8558   5.1515   \n",
        "2014-12-10 04:00:00  8.0166       11.865  pw01b 2015-03-03  2.8325   5.1841   \n",
        "2014-12-10 05:00:00  8.0343       11.865  pw01b 2015-03-03  2.8289   5.2054   \n",
        "2014-12-10 06:00:00  8.0550       11.865  pw01b 2015-03-03  2.8274   5.2276   \n",
        "2014-12-10 07:00:00  8.0689       11.864  pw01b 2015-03-03  2.8150   5.2539   \n",
        "2014-12-10 08:00:00  8.0774       11.865  pw01b 2015-03-03  2.8049   5.2725   \n",
        "2014-12-10 09:00:00  8.0799       11.865  pw01b 2015-03-03  2.8074   5.2725   \n",
        "2014-12-10 10:00:00  8.0737       11.864  pw01b 2015-03-03  2.8192   5.2545   \n",
        "2014-12-10 11:00:00  8.0564       11.865  pw01b 2015-03-03  2.8227   5.2337   \n",
        "2014-12-10 12:00:00  8.0261       11.864  pw01b 2015-03-03  2.7987   5.2274   \n",
        "2014-12-10 13:00:00  7.9976       11.864  pw01b 2015-03-03  2.7692   5.2284   \n",
        "2014-12-10 14:00:00  7.9732       11.865  pw01b 2015-03-03  2.7509   5.2223   \n",
        "2014-12-10 15:00:00  7.9635       11.864  pw01b 2015-03-03  2.7502   5.2133   \n",
        "2014-12-10 16:00:00  7.9546       11.864  pw01b 2015-03-03  2.7323   5.2223   \n",
        "...                     ...          ...               ...     ...      ...   \n",
        "2015-03-02 06:00:00  8.4201       11.762  pw01b 2015-03-03  2.4037   6.0164   \n",
        "2015-03-02 07:00:00  8.4132       11.763  pw01b 2015-03-03  2.4102   6.0030   \n",
        "2015-03-02 08:00:00  8.3829       11.766  pw01b 2015-03-03  2.3876   5.9953   \n",
        "2015-03-02 09:00:00  8.3618       11.766  pw01b 2015-03-03  2.3928   5.9690   \n",
        "2015-03-02 10:00:00  8.3333       11.764  pw01b 2015-03-03  2.3627   5.9706   \n",
        "2015-03-02 11:00:00  8.3217       11.761  pw01b 2015-03-03  2.3716   5.9501   \n",
        "2015-03-02 12:00:00  8.3139       11.764  pw01b 2015-03-03  2.3693   5.9446   \n",
        "2015-03-02 13:00:00  8.3022       11.764  pw01b 2015-03-03  2.3539   5.9483   \n",
        "2015-03-02 14:00:00  8.2949       11.764  pw01b 2015-03-03  2.3328   5.9621   \n",
        "2015-03-02 15:00:00  8.2952       11.761  pw01b 2015-03-03  2.3181   5.9771   \n",
        "2015-03-02 16:00:00  8.2940       11.766  pw01b 2015-03-03  2.3092   5.9848   \n",
        "2015-03-02 17:00:00  8.2946       11.763  pw01b 2015-03-03  2.3399   5.9547   \n",
        "2015-03-02 18:00:00  8.2961       11.761  pw01b 2015-03-03  2.3485   5.9476   \n",
        "2015-03-02 19:00:00  8.2916       11.762  pw01b 2015-03-03  2.3628   5.9288   \n",
        "2015-03-02 20:00:00  8.2855       11.762  pw01b 2015-03-03  2.3926   5.8929   \n",
        "2015-03-02 21:00:00  8.2810       11.764  pw01b 2015-03-03  2.4166   5.8644   \n",
        "2015-03-02 22:00:00  8.2807       11.766  pw01b 2015-03-03  2.4391   5.8416   \n",
        "2015-03-02 23:00:00  8.2811       11.763  pw01b 2015-03-03  2.4572   5.8239   \n",
        "2015-03-03 00:00:00  8.3017       11.764  pw01b 2015-03-03  2.4717   5.8300   \n",
        "2015-03-03 01:00:00  8.3247       11.760  pw01b 2015-03-03  2.4748   5.8499   \n",
        "2015-03-03 02:00:00  8.3460       11.760  pw01b 2015-03-03  2.4698   5.8762   \n",
        "2015-03-03 03:00:00  8.3735       11.763  pw01b 2015-03-03  2.4651   5.9084   \n",
        "2015-03-03 04:00:00  8.3836       11.761  pw01b 2015-03-03  2.4428   5.9408   \n",
        "2015-03-03 05:00:00  8.3976       11.759  pw01b 2015-03-03  2.4381   5.9595   \n",
        "2015-03-03 06:00:00  8.3963       11.760  pw01b 2015-03-03  2.4327   5.9636   \n",
        "2015-03-03 07:00:00  8.3752       11.762  pw01b 2015-03-03  2.4165   5.9587   \n",
        "2015-03-03 08:00:00  8.3663       11.766  pw01b 2015-03-03  2.4232   5.9431   \n",
        "2015-03-03 09:00:00  8.3625       11.763  pw01b 2015-03-03  2.4604   5.9021   \n",
        "2015-03-03 10:00:00  8.3518       11.766  pw01b 2015-03-03  2.4910   5.8608   \n",
        "2015-03-03 11:00:00  8.3467       11.760  pw01b 2015-03-03  2.4969   5.8498   \n",
        "\n",
        "                     MeasuredLevel    Temp  BaroEfficiencyCorrected  \\\n",
        "DateTime                                                              \n",
        "2014-12-09 11:00:00         5.1731  11.798                   5.1731   \n",
        "2014-12-09 12:00:00         5.1744  11.860                   5.1744   \n",
        "2014-12-09 13:00:00         5.1823  11.862                   5.1823   \n",
        "2014-12-09 14:00:00         5.1853  11.864                   5.1853   \n",
        "2014-12-09 15:00:00         5.1920  11.863                   5.1920   \n",
        "2014-12-09 16:00:00         5.2006  11.864                   5.2006   \n",
        "2014-12-09 17:00:00         5.2020  11.864                   5.2020   \n",
        "2014-12-09 18:00:00         5.2127  11.865                   5.2127   \n",
        "2014-12-09 19:00:00         5.2154  11.866                   5.2154   \n",
        "2014-12-09 20:00:00         5.2049  11.865                   5.2049   \n",
        "2014-12-09 21:00:00         5.1851  11.865                   5.1851   \n",
        "2014-12-09 22:00:00         5.1733  11.864                   5.1733   \n",
        "2014-12-09 23:00:00         5.1615  11.865                   5.1615   \n",
        "2014-12-10 00:00:00         5.1473  11.865                   5.1473   \n",
        "2014-12-10 01:00:00         5.1461  11.865                   5.1461   \n",
        "2014-12-10 02:00:00         5.1452  11.865                   5.1452   \n",
        "2014-12-10 03:00:00         5.1515  11.865                   5.1515   \n",
        "2014-12-10 04:00:00         5.1841  11.865                   5.1841   \n",
        "2014-12-10 05:00:00         5.2054  11.865                   5.2054   \n",
        "2014-12-10 06:00:00         5.2276  11.865                   5.2276   \n",
        "2014-12-10 07:00:00         5.2539  11.864                   5.2539   \n",
        "2014-12-10 08:00:00         5.2725  11.865                   5.2725   \n",
        "2014-12-10 09:00:00         5.2725  11.865                   5.2725   \n",
        "2014-12-10 10:00:00         5.2545  11.864                   5.2545   \n",
        "2014-12-10 11:00:00         5.2337  11.865                   5.2337   \n",
        "2014-12-10 12:00:00         5.2274  11.864                   5.2274   \n",
        "2014-12-10 13:00:00         5.2284  11.864                   5.2284   \n",
        "2014-12-10 14:00:00         5.2223  11.865                   5.2223   \n",
        "2014-12-10 15:00:00         5.2133  11.864                   5.2133   \n",
        "2014-12-10 16:00:00         5.2223  11.864                   5.2223   \n",
        "...                            ...     ...                      ...   \n",
        "2015-03-02 06:00:00         6.0164  11.762                   6.0164   \n",
        "2015-03-02 07:00:00         6.0030  11.763                   6.0030   \n",
        "2015-03-02 08:00:00         5.9953  11.766                   5.9953   \n",
        "2015-03-02 09:00:00         5.9690  11.766                   5.9690   \n",
        "2015-03-02 10:00:00         5.9706  11.764                   5.9706   \n",
        "2015-03-02 11:00:00         5.9501  11.761                   5.9501   \n",
        "2015-03-02 12:00:00         5.9446  11.764                   5.9446   \n",
        "2015-03-02 13:00:00         5.9483  11.764                   5.9483   \n",
        "2015-03-02 14:00:00         5.9621  11.764                   5.9621   \n",
        "2015-03-02 15:00:00         5.9771  11.761                   5.9771   \n",
        "2015-03-02 16:00:00         5.9848  11.766                   5.9848   \n",
        "2015-03-02 17:00:00         5.9547  11.763                   5.9547   \n",
        "2015-03-02 18:00:00         5.9476  11.761                   5.9476   \n",
        "2015-03-02 19:00:00         5.9288  11.762                   5.9288   \n",
        "2015-03-02 20:00:00         5.8929  11.762                   5.8929   \n",
        "2015-03-02 21:00:00         5.8644  11.764                   5.8644   \n",
        "2015-03-02 22:00:00         5.8416  11.766                   5.8416   \n",
        "2015-03-02 23:00:00         5.8239  11.763                   5.8239   \n",
        "2015-03-03 00:00:00         5.8300  11.764                   5.8300   \n",
        "2015-03-03 01:00:00         5.8499  11.760                   5.8499   \n",
        "2015-03-03 02:00:00         5.8762  11.760                   5.8762   \n",
        "2015-03-03 03:00:00         5.9084  11.763                   5.9084   \n",
        "2015-03-03 04:00:00         5.9408  11.761                   5.9408   \n",
        "2015-03-03 05:00:00         5.9595  11.759                   5.9595   \n",
        "2015-03-03 06:00:00         5.9636  11.760                   5.9636   \n",
        "2015-03-03 07:00:00         5.9587  11.762                   5.9587   \n",
        "2015-03-03 08:00:00         5.9431  11.766                   5.9431   \n",
        "2015-03-03 09:00:00         5.9021  11.763                   5.9021   \n",
        "2015-03-03 10:00:00         5.8608  11.766                   5.8608   \n",
        "2015-03-03 11:00:00         5.8498  11.760                   5.8498   \n",
        "\n",
        "                     DeltaLevel  MeasuredDTW  last_diff_int  WellID  \\\n",
        "DateTime                                                              \n",
        "2014-12-09 11:00:00      0.0000     102.7100       0.000031       2   \n",
        "2014-12-09 12:00:00      0.0013     102.7087       0.000031       2   \n",
        "2014-12-09 13:00:00      0.0092     102.7008       0.000031       2   \n",
        "2014-12-09 14:00:00      0.0122     102.6978       0.000031       2   \n",
        "2014-12-09 15:00:00      0.0189     102.6911       0.000031       2   \n",
        "2014-12-09 16:00:00      0.0275     102.6825       0.000031       2   \n",
        "2014-12-09 17:00:00      0.0289     102.6811       0.000031       2   \n",
        "2014-12-09 18:00:00      0.0396     102.6704       0.000031       2   \n",
        "2014-12-09 19:00:00      0.0423     102.6677       0.000031       2   \n",
        "2014-12-09 20:00:00      0.0318     102.6782       0.000031       2   \n",
        "2014-12-09 21:00:00      0.0120     102.6980       0.000031       2   \n",
        "2014-12-09 22:00:00      0.0002     102.7098       0.000031       2   \n",
        "2014-12-09 23:00:00     -0.0116     102.7216       0.000031       2   \n",
        "2014-12-10 00:00:00     -0.0258     102.7358       0.000031       2   \n",
        "2014-12-10 01:00:00     -0.0270     102.7370       0.000031       2   \n",
        "2014-12-10 02:00:00     -0.0279     102.7379       0.000031       2   \n",
        "2014-12-10 03:00:00     -0.0216     102.7316       0.000031       2   \n",
        "2014-12-10 04:00:00      0.0110     102.6990       0.000031       2   \n",
        "2014-12-10 05:00:00      0.0323     102.6777       0.000031       2   \n",
        "2014-12-10 06:00:00      0.0545     102.6555       0.000031       2   \n",
        "2014-12-10 07:00:00      0.0808     102.6292       0.000031       2   \n",
        "2014-12-10 08:00:00      0.0994     102.6106       0.000031       2   \n",
        "2014-12-10 09:00:00      0.0994     102.6106       0.000031       2   \n",
        "2014-12-10 10:00:00      0.0814     102.6286       0.000031       2   \n",
        "2014-12-10 11:00:00      0.0606     102.6494       0.000031       2   \n",
        "2014-12-10 12:00:00      0.0543     102.6557       0.000031       2   \n",
        "2014-12-10 13:00:00      0.0553     102.6547       0.000031       2   \n",
        "2014-12-10 14:00:00      0.0492     102.6608       0.000031       2   \n",
        "2014-12-10 15:00:00      0.0402     102.6698       0.000031       2   \n",
        "2014-12-10 16:00:00      0.0492     102.6608       0.000031       2   \n",
        "...                         ...          ...            ...     ...   \n",
        "2015-03-02 06:00:00      0.8433     101.8667       0.000031       2   \n",
        "2015-03-02 07:00:00      0.8299     101.8801       0.000031       2   \n",
        "2015-03-02 08:00:00      0.8222     101.8878       0.000031       2   \n",
        "2015-03-02 09:00:00      0.7959     101.9141       0.000031       2   \n",
        "2015-03-02 10:00:00      0.7975     101.9125       0.000031       2   \n",
        "2015-03-02 11:00:00      0.7770     101.9330       0.000031       2   \n",
        "2015-03-02 12:00:00      0.7715     101.9385       0.000031       2   \n",
        "2015-03-02 13:00:00      0.7752     101.9348       0.000031       2   \n",
        "2015-03-02 14:00:00      0.7890     101.9210       0.000031       2   \n",
        "2015-03-02 15:00:00      0.8040     101.9060       0.000031       2   \n",
        "2015-03-02 16:00:00      0.8117     101.8983       0.000031       2   \n",
        "2015-03-02 17:00:00      0.7816     101.9284       0.000031       2   \n",
        "2015-03-02 18:00:00      0.7745     101.9355       0.000031       2   \n",
        "2015-03-02 19:00:00      0.7557     101.9543       0.000031       2   \n",
        "2015-03-02 20:00:00      0.7198     101.9902       0.000031       2   \n",
        "2015-03-02 21:00:00      0.6913     102.0187       0.000031       2   \n",
        "2015-03-02 22:00:00      0.6685     102.0415       0.000031       2   \n",
        "2015-03-02 23:00:00      0.6508     102.0592       0.000031       2   \n",
        "2015-03-03 00:00:00      0.6569     102.0531       0.000031       2   \n",
        "2015-03-03 01:00:00      0.6768     102.0332       0.000031       2   \n",
        "2015-03-03 02:00:00      0.7031     102.0069       0.000031       2   \n",
        "2015-03-03 03:00:00      0.7353     101.9747       0.000031       2   \n",
        "2015-03-03 04:00:00      0.7677     101.9423       0.000031       2   \n",
        "2015-03-03 05:00:00      0.7864     101.9236       0.000031       2   \n",
        "2015-03-03 06:00:00      0.7905     101.9195       0.000031       2   \n",
        "2015-03-03 07:00:00      0.7856     101.9244       0.000031       2   \n",
        "2015-03-03 08:00:00      0.7700     101.9400       0.000031       2   \n",
        "2015-03-03 09:00:00      0.7290     101.9810       0.000031       2   \n",
        "2015-03-03 10:00:00      0.6877     102.0223       0.000031       2   \n",
        "2015-03-03 11:00:00      0.6767     102.0333       0.000031       2   \n",
        "\n",
        "                     DriftCorrection  DTWBelowCasing  DTWBelowGroundSurface  \\\n",
        "DateTime                                                                      \n",
        "2014-12-09 11:00:00         0.000000      102.710000             100.430000   \n",
        "2014-12-09 12:00:00         0.000031      102.708669             100.428669   \n",
        "2014-12-09 13:00:00         0.000063      102.700737             100.420737   \n",
        "2014-12-09 14:00:00         0.000094      102.697706             100.417706   \n",
        "2014-12-09 15:00:00         0.000126      102.690974             100.410974   \n",
        "2014-12-09 16:00:00         0.000157      102.682343             100.402343   \n",
        "2014-12-09 17:00:00         0.000188      102.680912             100.400912   \n",
        "2014-12-09 18:00:00         0.000220      102.670180             100.390180   \n",
        "2014-12-09 19:00:00         0.000251      102.667449             100.387449   \n",
        "2014-12-09 20:00:00         0.000282      102.677918             100.397918   \n",
        "2014-12-09 21:00:00         0.000314      102.697686             100.417686   \n",
        "2014-12-09 22:00:00         0.000345      102.709455             100.429455   \n",
        "2014-12-09 23:00:00         0.000377      102.721223             100.441223   \n",
        "2014-12-10 00:00:00         0.000408      102.735392             100.455392   \n",
        "2014-12-10 01:00:00         0.000439      102.736561             100.456561   \n",
        "2014-12-10 02:00:00         0.000471      102.737429             100.457429   \n",
        "2014-12-10 03:00:00         0.000502      102.731098             100.451098   \n",
        "2014-12-10 04:00:00         0.000534      102.698466             100.418466   \n",
        "2014-12-10 05:00:00         0.000565      102.677135             100.397135   \n",
        "2014-12-10 06:00:00         0.000596      102.654904             100.374904   \n",
        "2014-12-10 07:00:00         0.000628      102.628572             100.348572   \n",
        "2014-12-10 08:00:00         0.000659      102.609941             100.329941   \n",
        "2014-12-10 09:00:00         0.000690      102.609910             100.329910   \n",
        "2014-12-10 10:00:00         0.000722      102.627878             100.347878   \n",
        "2014-12-10 11:00:00         0.000753      102.648647             100.368647   \n",
        "2014-12-10 12:00:00         0.000785      102.654915             100.374915   \n",
        "2014-12-10 13:00:00         0.000816      102.653884             100.373884   \n",
        "2014-12-10 14:00:00         0.000847      102.659953             100.379953   \n",
        "2014-12-10 15:00:00         0.000879      102.668921             100.388921   \n",
        "2014-12-10 16:00:00         0.000910      102.659890             100.379890   \n",
        "...                              ...             ...                    ...   \n",
        "2015-03-02 06:00:00         0.062359      101.804341              99.524341   \n",
        "2015-03-02 07:00:00         0.062390      101.817710              99.537710   \n",
        "2015-03-02 08:00:00         0.062421      101.825379              99.545379   \n",
        "2015-03-02 09:00:00         0.062453      101.851647              99.571647   \n",
        "2015-03-02 10:00:00         0.062484      101.850016              99.570016   \n",
        "2015-03-02 11:00:00         0.062515      101.870485              99.590485   \n",
        "2015-03-02 12:00:00         0.062547      101.875953              99.595953   \n",
        "2015-03-02 13:00:00         0.062578      101.872222              99.592222   \n",
        "2015-03-02 14:00:00         0.062610      101.858390              99.578390   \n",
        "2015-03-02 15:00:00         0.062641      101.843359              99.563359   \n",
        "2015-03-02 16:00:00         0.062672      101.835628              99.555628   \n",
        "2015-03-02 17:00:00         0.062704      101.865696              99.585696   \n",
        "2015-03-02 18:00:00         0.062735      101.872765              99.592765   \n",
        "2015-03-02 19:00:00         0.062766      101.891534              99.611534   \n",
        "2015-03-02 20:00:00         0.062798      101.927402              99.647402   \n",
        "2015-03-02 21:00:00         0.062829      101.955871              99.675871   \n",
        "2015-03-02 22:00:00         0.062861      101.978639              99.698639   \n",
        "2015-03-02 23:00:00         0.062892      101.996308              99.716308   \n",
        "2015-03-03 00:00:00         0.062923      101.990177              99.710177   \n",
        "2015-03-03 01:00:00         0.062955      101.970245              99.690245   \n",
        "2015-03-03 02:00:00         0.062986      101.943914              99.663914   \n",
        "2015-03-03 03:00:00         0.063018      101.911682              99.631682   \n",
        "2015-03-03 04:00:00         0.063049      101.879251              99.599251   \n",
        "2015-03-03 05:00:00         0.063080      101.860520              99.580520   \n",
        "2015-03-03 06:00:00         0.063112      101.856388              99.576388   \n",
        "2015-03-03 07:00:00         0.063143      101.861257              99.581257   \n",
        "2015-03-03 08:00:00         0.063174      101.876826              99.596826   \n",
        "2015-03-03 09:00:00         0.063206      101.917794              99.637794   \n",
        "2015-03-03 10:00:00         0.063237      101.959063              99.679063   \n",
        "2015-03-03 11:00:00         0.063269      101.970031              99.690031   \n",
        "\n",
        "                     WaterElevation  Tape MeasuredBy  \n",
        "DateTime                                              \n",
        "2014-12-09 11:00:00     5212.270000     0             \n",
        "2014-12-09 12:00:00     5212.271331     0             \n",
        "2014-12-09 13:00:00     5212.279263     0             \n",
        "2014-12-09 14:00:00     5212.282294     0             \n",
        "2014-12-09 15:00:00     5212.289026     0             \n",
        "2014-12-09 16:00:00     5212.297657     0             \n",
        "2014-12-09 17:00:00     5212.299088     0             \n",
        "2014-12-09 18:00:00     5212.309820     0             \n",
        "2014-12-09 19:00:00     5212.312551     0             \n",
        "2014-12-09 20:00:00     5212.302082     0             \n",
        "2014-12-09 21:00:00     5212.282314     0             \n",
        "2014-12-09 22:00:00     5212.270545     0             \n",
        "2014-12-09 23:00:00     5212.258777     0             \n",
        "2014-12-10 00:00:00     5212.244608     0             \n",
        "2014-12-10 01:00:00     5212.243439     0             \n",
        "2014-12-10 02:00:00     5212.242571     0             \n",
        "2014-12-10 03:00:00     5212.248902     0             \n",
        "2014-12-10 04:00:00     5212.281534     0             \n",
        "2014-12-10 05:00:00     5212.302865     0             \n",
        "2014-12-10 06:00:00     5212.325096     0             \n",
        "2014-12-10 07:00:00     5212.351428     0             \n",
        "2014-12-10 08:00:00     5212.370059     0             \n",
        "2014-12-10 09:00:00     5212.370090     0             \n",
        "2014-12-10 10:00:00     5212.352122     0             \n",
        "2014-12-10 11:00:00     5212.331353     0             \n",
        "2014-12-10 12:00:00     5212.325085     0             \n",
        "2014-12-10 13:00:00     5212.326116     0             \n",
        "2014-12-10 14:00:00     5212.320047     0             \n",
        "2014-12-10 15:00:00     5212.311079     0             \n",
        "2014-12-10 16:00:00     5212.320110     0             \n",
        "...                             ...   ...        ...  \n",
        "2015-03-02 06:00:00     5213.175659     0             \n",
        "2015-03-02 07:00:00     5213.162290     0             \n",
        "2015-03-02 08:00:00     5213.154621     0             \n",
        "2015-03-02 09:00:00     5213.128353     0             \n",
        "2015-03-02 10:00:00     5213.129984     0             \n",
        "2015-03-02 11:00:00     5213.109515     0             \n",
        "2015-03-02 12:00:00     5213.104047     0             \n",
        "2015-03-02 13:00:00     5213.107778     0             \n",
        "2015-03-02 14:00:00     5213.121610     0             \n",
        "2015-03-02 15:00:00     5213.136641     0             \n",
        "2015-03-02 16:00:00     5213.144372     0             \n",
        "2015-03-02 17:00:00     5213.114304     0             \n",
        "2015-03-02 18:00:00     5213.107235     0             \n",
        "2015-03-02 19:00:00     5213.088466     0             \n",
        "2015-03-02 20:00:00     5213.052598     0             \n",
        "2015-03-02 21:00:00     5213.024129     0             \n",
        "2015-03-02 22:00:00     5213.001361     0             \n",
        "2015-03-02 23:00:00     5212.983692     0             \n",
        "2015-03-03 00:00:00     5212.989823     0             \n",
        "2015-03-03 01:00:00     5213.009755     0             \n",
        "2015-03-03 02:00:00     5213.036086     0             \n",
        "2015-03-03 03:00:00     5213.068318     0             \n",
        "2015-03-03 04:00:00     5213.100749     0             \n",
        "2015-03-03 05:00:00     5213.119480     0             \n",
        "2015-03-03 06:00:00     5213.123612     0             \n",
        "2015-03-03 07:00:00     5213.118743     0             \n",
        "2015-03-03 08:00:00     5213.103174     0             \n",
        "2015-03-03 09:00:00     5213.062206     0             \n",
        "2015-03-03 10:00:00     5213.020937     0             \n",
        "2015-03-03 11:00:00     5213.009969     0             \n",
        "\n",
        "[2017 rows x 18 columns]"
       ]
      },
      {
       "output_type": "stream",
       "stream": "stdout",
       "text": [
        "\n"
       ]
      }
     ],
     "prompt_number": 127
    },
    {
     "cell_type": "code",
     "collapsed": false,
     "input": [],
     "language": "python",
     "metadata": {},
     "outputs": []
    }
   ],
   "metadata": {}
  }
 ]
}