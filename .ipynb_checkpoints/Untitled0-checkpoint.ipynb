{
 "metadata": {
  "name": "",
  "signature": "sha256:978b3b6db60bded32867e1d92f2a73cb79bc994b0147398190dbe74871d4502a"
 },
 "nbformat": 3,
 "nbformat_minor": 0,
 "worksheets": []
}