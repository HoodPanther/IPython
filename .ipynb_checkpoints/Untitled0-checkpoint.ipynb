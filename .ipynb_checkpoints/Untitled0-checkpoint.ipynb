{
 "metadata": {
  "name": "",
  "signature": "sha256:c39e11dbc3588c45437cf3d667fe9659d61d647dc85595ff07ac5f90588da355"
 },
 "nbformat": 3,
 "nbformat_minor": 0,
 "worksheets": []
}