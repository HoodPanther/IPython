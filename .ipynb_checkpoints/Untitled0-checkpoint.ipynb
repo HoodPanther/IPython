{
 "metadata": {
  "name": "",
  "signature": "sha256:d8ea2d583a43845cdd3d9e0863cb0cf01543a35ed9cf72b7a84df60167c5555b"
 },
 "nbformat": 3,
 "nbformat_minor": 0,
 "worksheets": []
}