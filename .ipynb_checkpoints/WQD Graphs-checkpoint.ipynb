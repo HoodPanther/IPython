{
 "cells": [
  {
   "cell_type": "code",
   "execution_count": null,
   "metadata": {
    "collapsed": false
   },
   "outputs": [],
   "source": [
    "import pandas as pd\n",
    "import numpy as np\n",
    "import matplotlib.pyplot as plt\n",
    "from pylab import rcParams\n",
    "import urllib2\n",
    "# allow figures to display in this browser\n",
    "%matplotlib inline \n",
    "# adjust default figure size\n",
    "rcParams['figure.figsize'] = 12, 8 "
   ]
  },
  {
   "cell_type": "markdown",
   "metadata": {},
   "source": [
    "Import data using the `urllib2` library.  Put imported data into a Pandas Dataframe structure."
   ]
  },
  {
   "cell_type": "code",
   "execution_count": null,
   "metadata": {
    "collapsed": false
   },
   "outputs": [],
   "source": [
    "import wellapplication as wa"
   ]
  },
  {
   "cell_type": "code",
   "execution_count": null,
   "metadata": {
    "collapsed": false
   },
   "outputs": [],
   "source": [
    "wellapplication.__version__"
   ]
  },
  {
   "cell_type": "code",
   "execution_count": null,
   "metadata": {
    "collapsed": false
   },
   "outputs": [],
   "source": [
    "params = {'Stat':['f243','stis','bioo','poo'],'Ca':[1,2,3,4],'Mg':[2,3,1,4],'Na':[2,4,6,8],'Cl':[2,4,6,8],\n",
    "          'SO4':[1,np.nan,3,4],'type':['SP','SW','SP','WL'],'HCO3':[1,2,1,1],'K':[0,1,2,0]}"
   ]
  },
  {
   "cell_type": "code",
   "execution_count": null,
   "metadata": {
    "collapsed": false
   },
   "outputs": [],
   "source": [
    "df=pd.DataFrame(params)"
   ]
  },
  {
   "cell_type": "code",
   "execution_count": null,
   "metadata": {
    "collapsed": false
   },
   "outputs": [],
   "source": [
    "pp = wa.piper()"
   ]
  },
  {
   "cell_type": "code",
   "execution_count": null,
   "metadata": {
    "collapsed": false
   },
   "outputs": [],
   "source": [
    "df = pp.piperplot(df)"
   ]
  },
  {
   "cell_type": "code",
   "execution_count": null,
   "metadata": {
    "collapsed": false
   },
   "outputs": [],
   "source": [
    "pp.df"
   ]
  },
  {
   "cell_type": "code",
   "execution_count": null,
   "metadata": {
    "collapsed": false
   },
   "outputs": [],
   "source": [
    "wellapplication.piper.piperDraw(piper(),df)"
   ]
  },
  {
   "cell_type": "code",
   "execution_count": null,
   "metadata": {
    "collapsed": false
   },
   "outputs": [],
   "source": [
    "infile = r'https://raw.githubusercontent.com/inkenbrandt/IPython/master/graphexamples.csv'\n",
    "response = urllib2.urlopen(infile)\n",
    "df = pd.read_csv(response, index_col=['SampleDate'], parse_dates=True)"
   ]
  },
  {
   "cell_type": "markdown",
   "metadata": {},
   "source": [
    "View the first 10 rows of the imported data to see the data structure.  This will obviously not be a part of the UI."
   ]
  },
  {
   "cell_type": "code",
   "execution_count": null,
   "metadata": {
    "collapsed": false
   },
   "outputs": [],
   "source": [
    "df.head(10)"
   ]
  },
  {
   "cell_type": "markdown",
   "metadata": {},
   "source": [
    "The main plot I am interested in is a histogram.  Histograms show the number of occurences for ranges of concentrations.  Some libraries, such as the one I am using, can calculate the bin size automatically. I have made two histograms using the same data.  One has more bins than the other.  See the <a href=http://en.wikipedia.org/wiki/Histogram>wikipedia article</a> for more information."
   ]
  },
  {
   "cell_type": "code",
   "execution_count": null,
   "metadata": {
    "collapsed": false
   },
   "outputs": [],
   "source": [
    "y = df.ResultValue.values\n",
    "\n",
    "plt.figure()\n",
    "plt.hist(y)\n",
    "plt.xlabel('Concentration (mg/L)')\n",
    "plt.ylabel('Count')\n",
    "plt.title('Calcium')"
   ]
  },
  {
   "cell_type": "code",
   "execution_count": null,
   "metadata": {
    "collapsed": false
   },
   "outputs": [],
   "source": [
    "y = df.ResultValue.values\n",
    "\n",
    "plt.figure()\n",
    "plt.hist(y, bins=50)\n",
    "plt.xlabel('Concentration (mg/L)')\n",
    "plt.ylabel('Count')\n",
    "plt.title('Calcium')"
   ]
  },
  {
   "cell_type": "markdown",
   "metadata": {},
   "source": [
    "The other plot I want is a time-series scatter plot, showing time on the x-axis and chemical concentration on the y-axis.  This plot should show only one parameter at a time if possible."
   ]
  },
  {
   "cell_type": "code",
   "execution_count": null,
   "metadata": {
    "collapsed": false
   },
   "outputs": [],
   "source": [
    "y = df.ResultValue.values\n",
    "x = df.index.to_datetime().values\n",
    "\n",
    "plt.figure()\n",
    "plt.scatter(x,y)\n",
    "plt.xlim('1/1/1915','1/1/1950')\n",
    "plt.ylim(0,400)\n",
    "plt.xlabel('Date')\n",
    "plt.ylabel('Concentration (mg/L)')\n",
    "plt.title('Calcium')"
   ]
  },
  {
   "cell_type": "code",
   "execution_count": null,
   "metadata": {
    "collapsed": true
   },
   "outputs": [],
   "source": [
    "del df"
   ]
  },
  {
   "cell_type": "code",
   "execution_count": null,
   "metadata": {
    "collapsed": true
   },
   "outputs": [],
   "source": [
    "class dfTest(object):\n",
    "    def dfdo(self,df):\n",
    "        self.CaCheck = df[\"Ca\"]+2\n",
    "        return self\n",
    "    def dfdodo(self,df):\n",
    "        self.Man = self.dfdo(df)\n",
    "        "
   ]
  },
  {
   "cell_type": "code",
   "execution_count": null,
   "metadata": {
    "collapsed": false
   },
   "outputs": [],
   "source": [
    "ts = dfTest()"
   ]
  },
  {
   "cell_type": "code",
   "execution_count": null,
   "metadata": {
    "collapsed": false
   },
   "outputs": [],
   "source": [
    "dts = ts.dfdodo(df)"
   ]
  },
  {
   "cell_type": "code",
   "execution_count": null,
   "metadata": {
    "collapsed": false
   },
   "outputs": [],
   "source": [
    "dts.CaCheck"
   ]
  },
  {
   "cell_type": "code",
   "execution_count": null,
   "metadata": {
    "collapsed": true
   },
   "outputs": [],
   "source": []
  }
 ],
 "metadata": {
  "kernelspec": {
   "display_name": "Python 2",
   "language": "python",
   "name": "python2"
  },
  "language_info": {
   "codemirror_mode": {
    "name": "ipython",
    "version": 2
   },
   "file_extension": ".py",
   "mimetype": "text/x-python",
   "name": "python",
   "nbconvert_exporter": "python",
   "pygments_lexer": "ipython2",
   "version": "2.7.6"
  }
 },
 "nbformat": 4,
 "nbformat_minor": 0
}
