{
 "metadata": {
  "name": "",
  "signature": "sha256:1aa0b1ed393a17cf9f84f8cf7398118b94913854718e808465815beb5497ac71"
 },
 "nbformat": 3,
 "nbformat_minor": 0,
 "worksheets": [
  {
   "cells": [
    {
     "cell_type": "code",
     "collapsed": false,
     "input": [
      "%matplotlib inline\n",
      "import pandas as pd\n",
      "import urllib2\n",
      "import numpy as np\n",
      "import matplotlib.pyplot as plt\n",
      "import matplotlib.dates as dates\n",
      "import matplotlib.ticker as tick\n",
      "import scipy.stats as sp\n",
      "import statsmodels.api as sm\n",
      "from pandas.stats.api import ols\n",
      "from datetime import datetime\n",
      "from bs4 import BeautifulSoup\n",
      "from pylab import rcParams\n",
      "rcParams['figure.figsize'] = 15, 10\n",
      "import re\n",
      "from cStringIO import StringIO"
     ],
     "language": "python",
     "metadata": {},
     "outputs": [],
     "prompt_number": 195
    },
    {
     "cell_type": "code",
     "collapsed": false,
     "input": [
      "# import data via rest query\n",
      "infile= r'http://www.waterrights.utah.gov/cgi-bin/wuseview.exe?Startup'\n",
      "response = urllib2.urlopen(infile)\n",
      "soup = BeautifulSoup(response)\n",
      "num,sites, system = [],[],[]\n",
      "\n",
      "for link in soup.pre.find_all('a'):\n",
      "    sites.append(\"http://www.waterrights.utah.gov/cgi-bin/\"+link.get('href'))\n",
      "    system.append(link.text)\n",
      "for site in sites:\n",
      "    num.append(int(site[site.find(\"SYSTEM_ID=\")+10:]))\n",
      "df = pd.DataFrame({'system':system,'links':sites,'ID':num})\n",
      "df.set_index('ID',inplace=True)\n",
      "\n",
      "tab = []\n",
      "for link in df.links:\n",
      "    res = urllib2.urlopen(link)\n",
      "    soup = BeautifulSoup(res)\n",
      "    st = 'Annual Use'\n",
      "    text = soup.getText()\n",
      "    strt = text.find(st)\n",
      "    fin = text.find('\\r\\n \\r\\n',strt)\n",
      "    if strt == -1:\n",
      "        pass\n",
      "    else:\n",
      "        table = text[strt+27:fin]\n",
      "        table = re.sub('\\r\\n +','\\r\\n',table)\n",
      "        table = re.sub(' +',',',table)\n",
      "        table = re.sub('\\r\\n','\\n',table)\n",
      "        try:\n",
      "            df = pd.read_csv(StringIO(table))\n",
      "            df['system']=int(link[link.find(\"SYSTEM_ID=\")+10:])\n",
      "            tab.append(df)\n",
      "        except:\n",
      "            pass\n",
      "df1 = tab[0]\n",
      "anuse = df1.append(tab[1:])  "
     ],
     "language": "python",
     "metadata": {},
     "outputs": [],
     "prompt_number": 237
    },
    {
     "cell_type": "code",
     "collapsed": false,
     "input": [
      "anuse.drop(['39.10','Records','Source','feet;','Unmetered','Wholesale'],inplace=True)\n",
      "anuse"
     ],
     "language": "python",
     "metadata": {},
     "outputs": [],
     "prompt_number": 239
    },
    {
     "cell_type": "code",
     "collapsed": false,
     "input": [
      "len(sites)"
     ],
     "language": "python",
     "metadata": {},
     "outputs": [
      {
       "metadata": {},
       "output_type": "pyout",
       "prompt_number": 229,
       "text": [
        "1097"
       ]
      }
     ],
     "prompt_number": 229
    },
    {
     "cell_type": "code",
     "collapsed": false,
     "input": [
      "# import data via rest query\n",
      "infile= r'http://www.waterrights.utah.gov/cgi-bin/wuseview.exe?Startup'\n",
      "response = urllib2.urlopen(infile)\n",
      "soup = BeautifulSoup(response)\n",
      "num,sites, system = [],[],[]\n",
      "\n",
      "for link in soup.pre.find_all('a'):\n",
      "    sites.append(\"http://www.waterrights.utah.gov/cgi-bin/\"+link.get('href'))\n",
      "    system.append(link.text)\n",
      "for site in sites:\n",
      "    num.append(int(site[site.find(\"SYSTEM_ID=\")+10:]))\n",
      "df = pd.DataFrame({'system':system,'links':sites,'ID':num})\n",
      "df.set_index('ID',inplace=True)\n",
      "\n",
      "stew, tab = [],[]\n",
      "for link in df.links[0:]:\n",
      "    res = urllib2.urlopen(link)\n",
      "    soup = BeautifulSoup(res)\n",
      "    st = 'Annual Connection'\n",
      "    text = soup.getText()\n",
      "    strt = text.find(st)\n",
      "    fin = text.find('\\r\\n\\r\\n',strt)\n",
      "    if strt == -1:\n",
      "        pass\n",
      "    else:\n",
      "        table = text[strt+26:fin]\n",
      "        table = re.sub('\\r\\n +','\\r\\n',table)\n",
      "        table = re.sub(' +',',',table)\n",
      "        table = re.sub('\\r\\n','\\n',table)\n",
      "        df = pd.read_csv(StringIO(table))\n",
      "        df['system']=int(link[link.find(\"SYSTEM_ID=\")+10:])\n",
      "        tab.append(df)\n",
      "df1 = tab[0]\n",
      "ancon = df1.append(tab[1:])  "
     ],
     "language": "python",
     "metadata": {},
     "outputs": [],
     "prompt_number": 216
    },
    {
     "cell_type": "code",
     "collapsed": false,
     "input": [
      "# import data via rest query\n",
      "infile= r'http://www.waterrights.utah.gov/cgi-bin/wuseview.exe?Startup'\n",
      "response = urllib2.urlopen(infile)\n",
      "soup = BeautifulSoup(response)\n",
      "num,sites, system = [],[],[]\n",
      "\n",
      "for link in soup.pre.find_all('a'):\n",
      "    sites.append(\"http://www.waterrights.utah.gov/cgi-bin/\"+link.get('href'))\n",
      "    system.append(link.text)\n",
      "for site in sites:\n",
      "    num.append(int(site[site.find(\"SYSTEM_ID=\")+10:]))\n",
      "df = pd.DataFrame({'system':system,'links':sites,'ID':num})\n",
      "df.set_index('ID',inplace=True)\n",
      "\n",
      "stew, tab = [],[]\n",
      "for link in df.links[0:12]:\n",
      "    res = urllib2.urlopen(link)\n",
      "    soup = BeautifulSoup(res)\n",
      "    st = 'Source Summary'\n",
      "    text = soup.getText()\n",
      "    strt = [m.start() for m in re.finditer(st, text)]\n",
      "    fin = [m.start() for m in re.finditer()]\n",
      "    #fin = text.find('\\r\\n\\r\\n',strt)\n",
      "    if strt == -1:\n",
      "        pass\n",
      "    else:\n",
      "        print strt\n",
      "        #table = text[strt+26:fin]\n",
      "        #table = re.sub('\\r\\n +','\\r\\n',table)\n",
      "        #table = re.sub(' +',',',table)\n",
      "        #table = re.sub('\\r\\n','\\n',table)\n",
      "        #df = pd.read_csv(StringIO(table))\n",
      "        #df['system']=int(link[link.find(\"SYSTEM_ID=\")+10:])\n",
      "        #tab.append(df)\n",
      "#df1 = tab[0]\n",
      "#ancon = df1.append(tab[1:])  "
     ],
     "language": "python",
     "metadata": {},
     "outputs": [
      {
       "output_type": "stream",
       "stream": "stdout",
       "text": [
        "[147, 194, 736, 902, 955, 1642, 3165]\n",
        "[193, 735, 901, 954, 1366, 2353, 5632, 6388]"
       ]
      },
      {
       "output_type": "stream",
       "stream": "stdout",
       "text": [
        "\n",
        "[193, 295, 735, 901, 954]"
       ]
      },
      {
       "output_type": "stream",
       "stream": "stdout",
       "text": [
        "\n",
        "[190, 736, 902, 955, 1007, 1025, 1279, 2015, 3779, 3799, 3808, 6053, 6073, 6082, 9384, 9525, 9666, 9807, 9948, 10230, 10372, 10512, 10653, 10794, 10935, 12967, 13109, 13249, 13390, 13531, 13672, 16673, 16814, 16955, 17096, 17237, 17377, 17519, 18599, 20293]"
       ]
      },
      {
       "output_type": "stream",
       "stream": "stdout",
       "text": [
        "\n",
        "[190, 736, 902, 955, 1061, 1078, 1531, 1560, 1676, 1705, 2019, 2730, 2750, 2759, 3613, 3633, 3642, 5226, 5367, 6161, 6302, 7165, 7306, 8184, 8325, 9184, 9325]"
       ]
      },
      {
       "output_type": "stream",
       "stream": "stdout",
       "text": [
        "\n",
        "[193, 213, 306, 703, 735, 901, 1153]"
       ]
      },
      {
       "output_type": "stream",
       "stream": "stdout",
       "text": [
        "\n",
        "[147, 194, 306, 704, 736, 902, 955, 1286, 1384, 2196, 2328, 2449, 4379, 6444, 7294, 7434, 7717, 7858, 7999, 8140, 8281, 8422, 8563, 8704, 8910, 10296, 11565]"
       ]
      },
      {
       "output_type": "stream",
       "stream": "stdout",
       "text": [
        "\n",
        "[193, 249, 295, 735, 901, 954, 1117, 1147, 1178, 1279, 1315, 2604, 3439, 3482, 3672, 3690, 4390, 4531]"
       ]
      },
      {
       "output_type": "stream",
       "stream": "stdout",
       "text": [
        "\n",
        "[190, 736, 902, 955, 1019, 1565, 2114, 2134, 2143, 2783, 2803, 2812, 3461, 3937, 3977, 4008, 4091, 4145]"
       ]
      },
      {
       "output_type": "stream",
       "stream": "stdout",
       "text": [
        "\n",
        "[190, 534, 736, 902, 955, 1002, 1056, 1340, 1722, 2825, 2946, 7221, 7241, 7250, 12812, 12832, 12841, 18415, 20079, 20220, 20361, 20502, 20643, 20784, 22335, 22832, 23380, 23447, 24194, 24335, 24476, 24617, 24758, 24899, 25040, 25181, 27155, 28087, 28448, 29013, 29154, 29295, 29436, 29577, 29718, 32513, 32654, 32795, 32936, 33077, 33218, 33359, 33500, 34282, 34428, 34447, 34527, 34546, 34626, 34645, 35996, 36137, 36278, 36419, 36905, 36984, 37405, 37552, 37699, 37766, 38922, 39063, 39204, 39345, 39486, 39627, 39768, 39909, 41883, 44447, 44466, 44544, 44563, 44641, 44660, 46117, 46136, 46211, 46230, 46305, 46324, 48817, 48958, 49099, 49240, 53340, 53622]"
       ]
      },
      {
       "output_type": "stream",
       "stream": "stdout",
       "text": [
        "\n",
        "[190, 235, 736, 902, 955, 1193, 2147, 2167, 2176, 3351, 3371, 3380, 5472, 5613, 5754, 5895, 6948, 7089, 7230, 7371, 8356, 8497, 8638]"
       ]
      },
      {
       "output_type": "stream",
       "stream": "stdout",
       "text": [
        "\n",
        "[190, 223, 736, 902, 955, 2116, 2331, 2580, 2808, 3003, 5415, 5435, 5444, 8545, 8565, 8574, 14124, 14265, 14406, 14547, 14688, 14829, 14970, 15111, 15252, 15393, 16662]"
       ]
      },
      {
       "output_type": "stream",
       "stream": "stdout",
       "text": [
        "\n"
       ]
      }
     ],
     "prompt_number": 218
    },
    {
     "cell_type": "code",
     "collapsed": false,
     "input": [],
     "language": "python",
     "metadata": {},
     "outputs": [
      {
       "output_type": "stream",
       "stream": "stdout",
       "text": [
        "85\n"
       ]
      }
     ],
     "prompt_number": 179
    }
   ],
   "metadata": {}
  }
 ]
}