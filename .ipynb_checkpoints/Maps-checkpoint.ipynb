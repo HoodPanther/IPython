{
 "metadata": {
  "name": "",
  "signature": "sha256:fe524554ca0849a71414d924ab8e56ba6d86a3985b179bfa322b003c2b8aaf6b"
 },
 "nbformat": 3,
 "nbformat_minor": 0,
 "worksheets": [
  {
   "cells": [
    {
     "cell_type": "code",
     "collapsed": false,
     "input": [
      "%matplotlib inline\n",
      "import matplotlib.pyplot as plt\n",
      "from mpl_toolkits.basemap import Basemap\n",
      "import numpy as np"
     ],
     "language": "python",
     "metadata": {},
     "outputs": []
    },
    {
     "cell_type": "code",
     "collapsed": false,
     "input": [
      "# llcrnrlat,llcrnrlon,urcrnrlat,urcrnrlon\n",
      "# are the lat/lon values of the lower left and upper right corners\n",
      "# of the map.\n",
      "# resolution = 'i' means use intermediate resolution coastlines.\n",
      "# lon_0, lat_0 are the central longitude and latitude of the projection.\n",
      "m = Basemap(llcrnrlon=-116,llcrnrlat=36,urcrnrlon=-107,urcrnrlat=44,\n",
      "            resolution='i',projection='tmerc',lon_0=-112,lat_0=40)\n",
      "# can get the identical map this way (by specifying width and\n",
      "# height instead of lat/lon corners)\n",
      "#m = Basemap(width=894887,height=1116766,\\\n",
      "#            resolution='i',projection='tmerc',lon_0=-4.36,lat_0=54.7)\n",
      "m.drawcoastlines()\n",
      "m.drawstates()\n",
      "#m.drawrivers()\n",
      "#m.shadedrelief(scale=0.4)\n",
      "m.fillcontinents(color='tan',lake_color='aqua')\n",
      "# draw parallels and meridians.\n",
      "#m.drawparallels(np.arange(-40,61.,2.))\n",
      "#m.drawmeridians(np.arange(-20.,21.,2.))\n",
      "m.drawmapboundary(fill_color='aqua')\n",
      "plt.title(\"Transverse Mercator Projection\")\n",
      "m.drawmapscale(lon=-114, lat=43.5, length=100, lon0=-114, lat0=39, barstyle='simple', units='km')\n",
      "plt.show()"
     ],
     "language": "python",
     "metadata": {},
     "outputs": []
    },
    {
     "cell_type": "code",
     "collapsed": false,
     "input": [],
     "language": "python",
     "metadata": {},
     "outputs": []
    }
   ],
   "metadata": {}
  }
 ]
}