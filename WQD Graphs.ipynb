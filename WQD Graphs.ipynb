{
 "metadata": {
  "name": "",
  "signature": "sha256:6e53cf28ad693a12975d6a65d960002fe4aeb61a7864bc028e1ec07a8700d2d3"
 },
 "nbformat": 3,
 "nbformat_minor": 0,
 "worksheets": [
  {
   "cells": [
    {
     "cell_type": "code",
     "collapsed": false,
     "input": [
      "import pandas as pd\n",
      "import numpy as np\n",
      "import matplotlib.pyplot as plt\n",
      "from pylab import rcParams\n",
      "import urllib2\n",
      "# allow figures to display in this browser\n",
      "%matplotlib inline \n",
      "# adjust default figure size\n",
      "rcParams['figure.figsize'] = 12, 8 "
     ],
     "language": "python",
     "metadata": {},
     "outputs": []
    },
    {
     "cell_type": "markdown",
     "metadata": {},
     "source": [
      "Import data using the `urllib2` library.  Put imported data into a Pandas Dataframe structure."
     ]
    },
    {
     "cell_type": "code",
     "collapsed": false,
     "input": [
      "infile = r'https://raw.githubusercontent.com/inkenbrandt/IPython/master/graphexamples.csv'\n",
      "response = urllib2.urlopen(infile)\n",
      "df = pd.read_csv(response, index_col=['SampleDate'], parse_dates=True)"
     ],
     "language": "python",
     "metadata": {},
     "outputs": []
    },
    {
     "cell_type": "markdown",
     "metadata": {},
     "source": [
      "View the first 10 rows of the imported data to see the data structure.  This will obviously not be a part of the UI."
     ]
    },
    {
     "cell_type": "code",
     "collapsed": false,
     "input": [
      "df.head(10)"
     ],
     "language": "python",
     "metadata": {},
     "outputs": []
    },
    {
     "cell_type": "markdown",
     "metadata": {},
     "source": [
      "The main plot I am interested in is a histogram.  Histograms show the number of occurences for ranges of concentrations.  Some libraries, such as the one I am using, can calculate the bin size automatically. I have made two histograms using the same data.  One has more bins than the other.  See the <a href=http://en.wikipedia.org/wiki/Histogram>wikipedia article</a> for more information."
     ]
    },
    {
     "cell_type": "code",
     "collapsed": false,
     "input": [
      "y = df.ResultValue.values\n",
      "\n",
      "plt.figure()\n",
      "plt.hist(y)\n",
      "plt.xlabel('Concentration (mg/L)')\n",
      "plt.ylabel('Count')\n",
      "plt.title('Calcium')"
     ],
     "language": "python",
     "metadata": {},
     "outputs": []
    },
    {
     "cell_type": "code",
     "collapsed": false,
     "input": [
      "y = df.ResultValue.values\n",
      "\n",
      "plt.figure()\n",
      "plt.hist(y, bins=50)\n",
      "plt.xlabel('Concentration (mg/L)')\n",
      "plt.ylabel('Count')\n",
      "plt.title('Calcium')"
     ],
     "language": "python",
     "metadata": {},
     "outputs": []
    },
    {
     "cell_type": "markdown",
     "metadata": {},
     "source": [
      "The other plot I want is a time-series scatter plot, showing time on the x-axis and chemical concentration on the y-axis.  This plot should show only one parameter at a time if possible."
     ]
    },
    {
     "cell_type": "code",
     "collapsed": false,
     "input": [
      "y = df.ResultValue.values\n",
      "x = df.index.to_datetime().values\n",
      "\n",
      "plt.figure()\n",
      "plt.scatter(x,y)\n",
      "plt.xlim('1/1/1915','1/1/1950')\n",
      "plt.ylim(0,400)\n",
      "plt.xlabel('Date')\n",
      "plt.ylabel('Concentration (mg/L)')\n",
      "plt.title('Calcium')"
     ],
     "language": "python",
     "metadata": {},
     "outputs": []
    }
   ],
   "metadata": {}
  }
 ]
}