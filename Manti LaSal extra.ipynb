{
 "metadata": {
  "name": "",
  "signature": "sha256:d987a8a726d00650a4f8492d9c67644891d6bcc78dd9d8e6a405388bb6cc0db5"
 },
 "nbformat": 3,
 "nbformat_minor": 0,
 "worksheets": [
  {
   "cells": [
    {
     "cell_type": "markdown",
     "metadata": {},
     "source": [
      "http://earthpy.org/time_series_analysis_with_pandas_part_2.html"
     ]
    },
    {
     "cell_type": "code",
     "collapsed": false,
     "input": [
      "%matplotlib inline\n",
      "import pandas as pd\n",
      "import numpy as np\n",
      "import matplotlib.pyplot as plt\n",
      "import matplotlib.dates as dates\n",
      "import scipy.stats as sp\n",
      "import statsmodels.api as sm\n",
      "import ulmo\n",
      "from pandas.stats.api import ols\n",
      "from datetime import datetime\n",
      "from pylab import rcParams\n",
      "rcParams['figure.figsize'] = 15, 10"
     ],
     "language": "python",
     "metadata": {},
     "outputs": [],
     "prompt_number": 1
    },
    {
     "cell_type": "code",
     "collapsed": false,
     "input": [
      "from IPython.html.widgets import interact"
     ],
     "language": "python",
     "metadata": {},
     "outputs": [],
     "prompt_number": 2
    },
    {
     "cell_type": "code",
     "collapsed": false,
     "input": [
      "def importusgssite(siteno):\n",
      "    sitename = {}\n",
      "    sitename = ulmo.usgs.nwis.get_site_data(siteno, service=\"daily\", period=\"all\")\n",
      "    sitename = pd.DataFrame(sitename['00060:00003']['values'])\n",
      "    sitename['dates'] = pd.to_datetime(pd.Series(sitename['datetime']))\n",
      "    sitename.set_index(['dates'],inplace=True)\n",
      "    sitename = sitename.drop(['datetime'],axis=1)\n",
      "    sitename['value'] = sitename['value'].astype(float)\n",
      "    sitename = sitename.replace('-999999',np.NAN)\n",
      "    sitename['mon']=sitename.index.month\n",
      "    return sitename"
     ],
     "language": "python",
     "metadata": {},
     "outputs": [],
     "prompt_number": 93
    },
    {
     "cell_type": "code",
     "collapsed": false,
     "input": [
      "sites = ['09309500','09309600','09309800','09310000','09310500','09310550','09310575','09310600',\n",
      " '09310700','09311500','09311700','09312600','09312700','09317000','09317500','09317919',\n",
      " '09317920','09317997','09318000','09318500','09319000','09319001','09320000','09320500',\n",
      " '09321000','09321500','09322000','09322500','09323000','09323500','09324000','09324200',\n",
      " '09324500','09325000','09325100','09325500','09326000','09326500','09327500','09327550',\n",
      " '09330500','09331850','09331900','09331950','09332100','10148400','10148500','10205030',\n",
      " '10206000','10206001','10208000','10208500','10210000','10210500','10211000','10215700',\n",
      " '10215900','10216210','10216400','10217000']"
     ],
     "language": "python",
     "metadata": {},
     "outputs": [
      {
       "output_type": "stream",
       "stream": "stderr",
       "text": [
        "INFO:ulmo.usgs.nwis.core:processing data from request: http://waterservices.usgs.gov/nwis/dv/?startDT=1851-01-01&site=09309500&format=waterml\n"
       ]
      },
      {
       "output_type": "stream",
       "stream": "stderr",
       "text": [
        "INFO:ulmo.usgs.nwis.core:processing data from request: http://waterservices.usgs.gov/nwis/dv/?startDT=1851-01-01&site=09309600&format=waterml\n"
       ]
      },
      {
       "output_type": "stream",
       "stream": "stderr",
       "text": [
        "INFO:ulmo.usgs.nwis.core:processing data from request: http://waterservices.usgs.gov/nwis/dv/?startDT=1851-01-01&site=09309800&format=waterml\n"
       ]
      },
      {
       "output_type": "stream",
       "stream": "stderr",
       "text": [
        "INFO:ulmo.usgs.nwis.core:processing data from request: http://waterservices.usgs.gov/nwis/dv/?startDT=1851-01-01&site=09310000&format=waterml\n"
       ]
      },
      {
       "output_type": "stream",
       "stream": "stderr",
       "text": [
        "INFO:ulmo.usgs.nwis.core:processing data from request: http://waterservices.usgs.gov/nwis/dv/?startDT=1851-01-01&site=09310500&format=waterml\n"
       ]
      },
      {
       "output_type": "stream",
       "stream": "stderr",
       "text": [
        "INFO:ulmo.usgs.nwis.core:processing data from request: http://waterservices.usgs.gov/nwis/dv/?startDT=1851-01-01&site=09310550&format=waterml\n"
       ]
      },
      {
       "output_type": "stream",
       "stream": "stderr",
       "text": [
        "INFO:ulmo.usgs.nwis.core:processing data from request: http://waterservices.usgs.gov/nwis/dv/?startDT=1851-01-01&site=09310575&format=waterml\n"
       ]
      },
      {
       "output_type": "stream",
       "stream": "stderr",
       "text": [
        "INFO:ulmo.usgs.nwis.core:processing data from request: http://waterservices.usgs.gov/nwis/dv/?startDT=1851-01-01&site=09310600&format=waterml\n"
       ]
      },
      {
       "output_type": "stream",
       "stream": "stderr",
       "text": [
        "INFO:ulmo.usgs.nwis.core:processing data from request: http://waterservices.usgs.gov/nwis/dv/?startDT=1851-01-01&site=09310700&format=waterml\n"
       ]
      },
      {
       "output_type": "stream",
       "stream": "stderr",
       "text": [
        "INFO:ulmo.usgs.nwis.core:processing data from request: http://waterservices.usgs.gov/nwis/dv/?startDT=1851-01-01&site=09311500&format=waterml\n"
       ]
      },
      {
       "output_type": "stream",
       "stream": "stderr",
       "text": [
        "INFO:ulmo.usgs.nwis.core:processing data from request: http://waterservices.usgs.gov/nwis/dv/?startDT=1851-01-01&site=09311700&format=waterml\n"
       ]
      },
      {
       "output_type": "stream",
       "stream": "stderr",
       "text": [
        "INFO:ulmo.usgs.nwis.core:processing data from request: http://waterservices.usgs.gov/nwis/dv/?startDT=1851-01-01&site=09312600&format=waterml\n"
       ]
      },
      {
       "output_type": "stream",
       "stream": "stderr",
       "text": [
        "INFO:ulmo.usgs.nwis.core:processing data from request: http://waterservices.usgs.gov/nwis/dv/?startDT=1851-01-01&site=09312700&format=waterml\n"
       ]
      },
      {
       "output_type": "stream",
       "stream": "stderr",
       "text": [
        "INFO:ulmo.usgs.nwis.core:processing data from request: http://waterservices.usgs.gov/nwis/dv/?startDT=1851-01-01&site=09317000&format=waterml\n"
       ]
      },
      {
       "output_type": "stream",
       "stream": "stderr",
       "text": [
        "INFO:ulmo.usgs.nwis.core:processing data from request: http://waterservices.usgs.gov/nwis/dv/?startDT=1851-01-01&site=09317500&format=waterml\n"
       ]
      },
      {
       "output_type": "stream",
       "stream": "stderr",
       "text": [
        "INFO:ulmo.usgs.nwis.core:processing data from request: http://waterservices.usgs.gov/nwis/dv/?startDT=1851-01-01&site=09317919&format=waterml\n"
       ]
      },
      {
       "output_type": "stream",
       "stream": "stderr",
       "text": [
        "INFO:ulmo.usgs.nwis.core:processing data from request: http://waterservices.usgs.gov/nwis/dv/?startDT=1851-01-01&site=09317920&format=waterml\n"
       ]
      },
      {
       "output_type": "stream",
       "stream": "stderr",
       "text": [
        "INFO:ulmo.usgs.nwis.core:processing data from request: http://waterservices.usgs.gov/nwis/dv/?startDT=1851-01-01&site=09317997&format=waterml\n"
       ]
      },
      {
       "output_type": "stream",
       "stream": "stderr",
       "text": [
        "INFO:ulmo.usgs.nwis.core:processing data from request: http://waterservices.usgs.gov/nwis/dv/?startDT=1851-01-01&site=09318000&format=waterml\n"
       ]
      },
      {
       "output_type": "stream",
       "stream": "stderr",
       "text": [
        "INFO:ulmo.usgs.nwis.core:processing data from request: http://waterservices.usgs.gov/nwis/dv/?startDT=1851-01-01&site=09318500&format=waterml\n"
       ]
      },
      {
       "output_type": "stream",
       "stream": "stderr",
       "text": [
        "INFO:ulmo.usgs.nwis.core:processing data from request: http://waterservices.usgs.gov/nwis/dv/?startDT=1851-01-01&site=09319000&format=waterml\n"
       ]
      },
      {
       "output_type": "stream",
       "stream": "stderr",
       "text": [
        "INFO:ulmo.usgs.nwis.core:processing data from request: http://waterservices.usgs.gov/nwis/dv/?startDT=1851-01-01&site=09319001&format=waterml\n"
       ]
      },
      {
       "output_type": "stream",
       "stream": "stderr",
       "text": [
        "INFO:ulmo.usgs.nwis.core:processing data from request: http://waterservices.usgs.gov/nwis/dv/?startDT=1851-01-01&site=09320000&format=waterml\n"
       ]
      },
      {
       "output_type": "stream",
       "stream": "stderr",
       "text": [
        "INFO:ulmo.usgs.nwis.core:processing data from request: http://waterservices.usgs.gov/nwis/dv/?startDT=1851-01-01&site=09320500&format=waterml\n"
       ]
      },
      {
       "output_type": "stream",
       "stream": "stderr",
       "text": [
        "INFO:ulmo.usgs.nwis.core:processing data from request: http://waterservices.usgs.gov/nwis/dv/?startDT=1851-01-01&site=09321000&format=waterml\n"
       ]
      },
      {
       "output_type": "stream",
       "stream": "stderr",
       "text": [
        "INFO:ulmo.usgs.nwis.core:processing data from request: http://waterservices.usgs.gov/nwis/dv/?startDT=1851-01-01&site=09321500&format=waterml\n"
       ]
      },
      {
       "output_type": "stream",
       "stream": "stderr",
       "text": [
        "INFO:ulmo.usgs.nwis.core:processing data from request: http://waterservices.usgs.gov/nwis/dv/?startDT=1851-01-01&site=09322000&format=waterml\n"
       ]
      },
      {
       "output_type": "stream",
       "stream": "stderr",
       "text": [
        "INFO:ulmo.usgs.nwis.core:processing data from request: http://waterservices.usgs.gov/nwis/dv/?startDT=1851-01-01&site=09322500&format=waterml\n"
       ]
      },
      {
       "output_type": "stream",
       "stream": "stderr",
       "text": [
        "INFO:ulmo.usgs.nwis.core:processing data from request: http://waterservices.usgs.gov/nwis/dv/?startDT=1851-01-01&site=09323000&format=waterml\n"
       ]
      },
      {
       "output_type": "stream",
       "stream": "stderr",
       "text": [
        "INFO:ulmo.usgs.nwis.core:processing data from request: http://waterservices.usgs.gov/nwis/dv/?startDT=1851-01-01&site=09323500&format=waterml\n"
       ]
      },
      {
       "output_type": "stream",
       "stream": "stderr",
       "text": [
        "INFO:ulmo.usgs.nwis.core:processing data from request: http://waterservices.usgs.gov/nwis/dv/?startDT=1851-01-01&site=09324000&format=waterml\n"
       ]
      },
      {
       "output_type": "stream",
       "stream": "stderr",
       "text": [
        "INFO:ulmo.usgs.nwis.core:processing data from request: http://waterservices.usgs.gov/nwis/dv/?startDT=1851-01-01&site=09324200&format=waterml\n"
       ]
      },
      {
       "output_type": "stream",
       "stream": "stderr",
       "text": [
        "INFO:ulmo.usgs.nwis.core:processing data from request: http://waterservices.usgs.gov/nwis/dv/?startDT=1851-01-01&site=09324500&format=waterml\n"
       ]
      },
      {
       "output_type": "stream",
       "stream": "stderr",
       "text": [
        "INFO:ulmo.usgs.nwis.core:processing data from request: http://waterservices.usgs.gov/nwis/dv/?startDT=1851-01-01&site=09325000&format=waterml\n"
       ]
      },
      {
       "output_type": "stream",
       "stream": "stderr",
       "text": [
        "INFO:ulmo.usgs.nwis.core:processing data from request: http://waterservices.usgs.gov/nwis/dv/?startDT=1851-01-01&site=09325100&format=waterml\n"
       ]
      },
      {
       "output_type": "stream",
       "stream": "stderr",
       "text": [
        "INFO:ulmo.usgs.nwis.core:processing data from request: http://waterservices.usgs.gov/nwis/dv/?startDT=1851-01-01&site=09325500&format=waterml\n"
       ]
      },
      {
       "output_type": "stream",
       "stream": "stderr",
       "text": [
        "INFO:ulmo.usgs.nwis.core:processing data from request: http://waterservices.usgs.gov/nwis/dv/?startDT=1851-01-01&site=09326000&format=waterml\n"
       ]
      },
      {
       "output_type": "stream",
       "stream": "stderr",
       "text": [
        "INFO:ulmo.usgs.nwis.core:processing data from request: http://waterservices.usgs.gov/nwis/dv/?startDT=1851-01-01&site=09326500&format=waterml\n"
       ]
      },
      {
       "output_type": "stream",
       "stream": "stderr",
       "text": [
        "INFO:ulmo.usgs.nwis.core:processing data from request: http://waterservices.usgs.gov/nwis/dv/?startDT=1851-01-01&site=09327500&format=waterml\n"
       ]
      },
      {
       "output_type": "stream",
       "stream": "stderr",
       "text": [
        "INFO:ulmo.usgs.nwis.core:processing data from request: http://waterservices.usgs.gov/nwis/dv/?startDT=1851-01-01&site=09327550&format=waterml\n"
       ]
      },
      {
       "output_type": "stream",
       "stream": "stderr",
       "text": [
        "INFO:ulmo.usgs.nwis.core:processing data from request: http://waterservices.usgs.gov/nwis/dv/?startDT=1851-01-01&site=09330500&format=waterml\n"
       ]
      },
      {
       "output_type": "stream",
       "stream": "stderr",
       "text": [
        "INFO:ulmo.usgs.nwis.core:processing data from request: http://waterservices.usgs.gov/nwis/dv/?startDT=1851-01-01&site=09331850&format=waterml\n"
       ]
      },
      {
       "output_type": "stream",
       "stream": "stderr",
       "text": [
        "INFO:ulmo.usgs.nwis.core:processing data from request: http://waterservices.usgs.gov/nwis/dv/?startDT=1851-01-01&site=09331900&format=waterml\n"
       ]
      },
      {
       "output_type": "stream",
       "stream": "stderr",
       "text": [
        "INFO:ulmo.usgs.nwis.core:processing data from request: http://waterservices.usgs.gov/nwis/dv/?startDT=1851-01-01&site=09331950&format=waterml\n"
       ]
      },
      {
       "output_type": "stream",
       "stream": "stderr",
       "text": [
        "INFO:ulmo.usgs.nwis.core:processing data from request: http://waterservices.usgs.gov/nwis/dv/?startDT=1851-01-01&site=09332100&format=waterml\n"
       ]
      },
      {
       "output_type": "stream",
       "stream": "stderr",
       "text": [
        "INFO:ulmo.usgs.nwis.core:processing data from request: http://waterservices.usgs.gov/nwis/dv/?startDT=1851-01-01&site=10148400&format=waterml\n"
       ]
      },
      {
       "output_type": "stream",
       "stream": "stderr",
       "text": [
        "INFO:ulmo.usgs.nwis.core:processing data from request: http://waterservices.usgs.gov/nwis/dv/?startDT=1851-01-01&site=10148500&format=waterml\n"
       ]
      },
      {
       "output_type": "stream",
       "stream": "stderr",
       "text": [
        "INFO:ulmo.usgs.nwis.core:processing data from request: http://waterservices.usgs.gov/nwis/dv/?startDT=1851-01-01&site=10205030&format=waterml\n"
       ]
      },
      {
       "output_type": "stream",
       "stream": "stderr",
       "text": [
        "INFO:ulmo.usgs.nwis.core:processing data from request: http://waterservices.usgs.gov/nwis/dv/?startDT=1851-01-01&site=10206000&format=waterml\n"
       ]
      },
      {
       "output_type": "stream",
       "stream": "stderr",
       "text": [
        "INFO:ulmo.usgs.nwis.core:processing data from request: http://waterservices.usgs.gov/nwis/dv/?startDT=1851-01-01&site=10206001&format=waterml\n"
       ]
      },
      {
       "output_type": "stream",
       "stream": "stderr",
       "text": [
        "INFO:ulmo.usgs.nwis.core:processing data from request: http://waterservices.usgs.gov/nwis/dv/?startDT=1851-01-01&site=10208000&format=waterml\n"
       ]
      },
      {
       "output_type": "stream",
       "stream": "stderr",
       "text": [
        "INFO:ulmo.usgs.nwis.core:processing data from request: http://waterservices.usgs.gov/nwis/dv/?startDT=1851-01-01&site=10208500&format=waterml\n"
       ]
      },
      {
       "output_type": "stream",
       "stream": "stderr",
       "text": [
        "INFO:ulmo.usgs.nwis.core:processing data from request: http://waterservices.usgs.gov/nwis/dv/?startDT=1851-01-01&site=10210000&format=waterml\n"
       ]
      },
      {
       "output_type": "stream",
       "stream": "stderr",
       "text": [
        "INFO:ulmo.usgs.nwis.core:processing data from request: http://waterservices.usgs.gov/nwis/dv/?startDT=1851-01-01&site=10210500&format=waterml\n"
       ]
      },
      {
       "output_type": "stream",
       "stream": "stderr",
       "text": [
        "INFO:ulmo.usgs.nwis.core:processing data from request: http://waterservices.usgs.gov/nwis/dv/?startDT=1851-01-01&site=10211000&format=waterml\n"
       ]
      },
      {
       "output_type": "stream",
       "stream": "stderr",
       "text": [
        "INFO:ulmo.usgs.nwis.core:processing data from request: http://waterservices.usgs.gov/nwis/dv/?startDT=1851-01-01&site=10215700&format=waterml\n"
       ]
      },
      {
       "output_type": "stream",
       "stream": "stderr",
       "text": [
        "INFO:ulmo.usgs.nwis.core:processing data from request: http://waterservices.usgs.gov/nwis/dv/?startDT=1851-01-01&site=10215900&format=waterml\n"
       ]
      },
      {
       "output_type": "stream",
       "stream": "stderr",
       "text": [
        "INFO:ulmo.usgs.nwis.core:processing data from request: http://waterservices.usgs.gov/nwis/dv/?startDT=1851-01-01&site=10216210&format=waterml\n"
       ]
      },
      {
       "output_type": "stream",
       "stream": "stderr",
       "text": [
        "INFO:ulmo.usgs.nwis.core:processing data from request: http://waterservices.usgs.gov/nwis/dv/?startDT=1851-01-01&site=10216400&format=waterml\n"
       ]
      },
      {
       "output_type": "stream",
       "stream": "stderr",
       "text": [
        "INFO:ulmo.usgs.nwis.core:processing data from request: http://waterservices.usgs.gov/nwis/dv/?startDT=1851-01-01&site=10217000&format=waterml\n"
       ]
      }
     ],
     "prompt_number": 112
    },
    {
     "cell_type": "code",
     "collapsed": false,
     "input": [
      "#d = {site: importusgssite(site) for site in sites}\n",
      "d={}\n",
      "for site in sites:\n",
      "    try:\n",
      "        d[site] = importusgssite(site)\n",
      "    except(KeyError):\n",
      "        pass\n"
     ],
     "language": "python",
     "metadata": {},
     "outputs": [
      {
       "output_type": "stream",
       "stream": "stderr",
       "text": [
        "INFO:ulmo.usgs.nwis.core:processing data from request: http://waterservices.usgs.gov/nwis/dv/?startDT=1851-01-01&site=09309500&format=waterml\n"
       ]
      },
      {
       "output_type": "stream",
       "stream": "stderr",
       "text": [
        "INFO:ulmo.usgs.nwis.core:processing data from request: http://waterservices.usgs.gov/nwis/dv/?startDT=1851-01-01&site=09309600&format=waterml\n"
       ]
      },
      {
       "output_type": "stream",
       "stream": "stderr",
       "text": [
        "INFO:ulmo.usgs.nwis.core:processing data from request: http://waterservices.usgs.gov/nwis/dv/?startDT=1851-01-01&site=09309800&format=waterml\n"
       ]
      },
      {
       "output_type": "stream",
       "stream": "stderr",
       "text": [
        "INFO:ulmo.usgs.nwis.core:processing data from request: http://waterservices.usgs.gov/nwis/dv/?startDT=1851-01-01&site=09310000&format=waterml\n"
       ]
      },
      {
       "output_type": "stream",
       "stream": "stderr",
       "text": [
        "INFO:ulmo.usgs.nwis.core:processing data from request: http://waterservices.usgs.gov/nwis/dv/?startDT=1851-01-01&site=09310500&format=waterml\n"
       ]
      },
      {
       "output_type": "stream",
       "stream": "stderr",
       "text": [
        "INFO:ulmo.usgs.nwis.core:processing data from request: http://waterservices.usgs.gov/nwis/dv/?startDT=1851-01-01&site=09310550&format=waterml\n"
       ]
      },
      {
       "output_type": "stream",
       "stream": "stderr",
       "text": [
        "INFO:ulmo.usgs.nwis.core:processing data from request: http://waterservices.usgs.gov/nwis/dv/?startDT=1851-01-01&site=09310575&format=waterml\n"
       ]
      },
      {
       "output_type": "stream",
       "stream": "stderr",
       "text": [
        "INFO:ulmo.usgs.nwis.core:processing data from request: http://waterservices.usgs.gov/nwis/dv/?startDT=1851-01-01&site=09310600&format=waterml\n"
       ]
      },
      {
       "output_type": "stream",
       "stream": "stderr",
       "text": [
        "INFO:ulmo.usgs.nwis.core:processing data from request: http://waterservices.usgs.gov/nwis/dv/?startDT=1851-01-01&site=09310700&format=waterml\n"
       ]
      },
      {
       "output_type": "stream",
       "stream": "stderr",
       "text": [
        "INFO:ulmo.usgs.nwis.core:processing data from request: http://waterservices.usgs.gov/nwis/dv/?startDT=1851-01-01&site=09311500&format=waterml\n"
       ]
      },
      {
       "output_type": "stream",
       "stream": "stderr",
       "text": [
        "INFO:ulmo.usgs.nwis.core:processing data from request: http://waterservices.usgs.gov/nwis/dv/?startDT=1851-01-01&site=09311700&format=waterml\n"
       ]
      },
      {
       "output_type": "stream",
       "stream": "stderr",
       "text": [
        "INFO:ulmo.usgs.nwis.core:processing data from request: http://waterservices.usgs.gov/nwis/dv/?startDT=1851-01-01&site=09312600&format=waterml\n"
       ]
      },
      {
       "output_type": "stream",
       "stream": "stderr",
       "text": [
        "INFO:ulmo.usgs.nwis.core:processing data from request: http://waterservices.usgs.gov/nwis/dv/?startDT=1851-01-01&site=09312700&format=waterml\n"
       ]
      },
      {
       "output_type": "stream",
       "stream": "stderr",
       "text": [
        "INFO:ulmo.usgs.nwis.core:processing data from request: http://waterservices.usgs.gov/nwis/dv/?startDT=1851-01-01&site=09317000&format=waterml\n"
       ]
      },
      {
       "output_type": "stream",
       "stream": "stderr",
       "text": [
        "INFO:ulmo.usgs.nwis.core:processing data from request: http://waterservices.usgs.gov/nwis/dv/?startDT=1851-01-01&site=09317500&format=waterml\n"
       ]
      },
      {
       "output_type": "stream",
       "stream": "stderr",
       "text": [
        "INFO:ulmo.usgs.nwis.core:processing data from request: http://waterservices.usgs.gov/nwis/dv/?startDT=1851-01-01&site=09317919&format=waterml\n"
       ]
      },
      {
       "output_type": "stream",
       "stream": "stderr",
       "text": [
        "INFO:ulmo.usgs.nwis.core:processing data from request: http://waterservices.usgs.gov/nwis/dv/?startDT=1851-01-01&site=09317920&format=waterml\n"
       ]
      },
      {
       "output_type": "stream",
       "stream": "stderr",
       "text": [
        "INFO:ulmo.usgs.nwis.core:processing data from request: http://waterservices.usgs.gov/nwis/dv/?startDT=1851-01-01&site=09317997&format=waterml\n"
       ]
      },
      {
       "output_type": "stream",
       "stream": "stderr",
       "text": [
        "INFO:ulmo.usgs.nwis.core:processing data from request: http://waterservices.usgs.gov/nwis/dv/?startDT=1851-01-01&site=09318000&format=waterml\n"
       ]
      },
      {
       "output_type": "stream",
       "stream": "stderr",
       "text": [
        "INFO:ulmo.usgs.nwis.core:processing data from request: http://waterservices.usgs.gov/nwis/dv/?startDT=1851-01-01&site=09318500&format=waterml\n"
       ]
      },
      {
       "output_type": "stream",
       "stream": "stderr",
       "text": [
        "INFO:ulmo.usgs.nwis.core:processing data from request: http://waterservices.usgs.gov/nwis/dv/?startDT=1851-01-01&site=09319000&format=waterml\n"
       ]
      },
      {
       "output_type": "stream",
       "stream": "stderr",
       "text": [
        "INFO:ulmo.usgs.nwis.core:processing data from request: http://waterservices.usgs.gov/nwis/dv/?startDT=1851-01-01&site=09319001&format=waterml\n"
       ]
      },
      {
       "output_type": "stream",
       "stream": "stderr",
       "text": [
        "INFO:ulmo.usgs.nwis.core:processing data from request: http://waterservices.usgs.gov/nwis/dv/?startDT=1851-01-01&site=09320000&format=waterml\n"
       ]
      },
      {
       "output_type": "stream",
       "stream": "stderr",
       "text": [
        "INFO:ulmo.usgs.nwis.core:processing data from request: http://waterservices.usgs.gov/nwis/dv/?startDT=1851-01-01&site=09320500&format=waterml\n"
       ]
      },
      {
       "output_type": "stream",
       "stream": "stderr",
       "text": [
        "INFO:ulmo.usgs.nwis.core:processing data from request: http://waterservices.usgs.gov/nwis/dv/?startDT=1851-01-01&site=09321000&format=waterml\n"
       ]
      },
      {
       "output_type": "stream",
       "stream": "stderr",
       "text": [
        "INFO:ulmo.usgs.nwis.core:processing data from request: http://waterservices.usgs.gov/nwis/dv/?startDT=1851-01-01&site=09321500&format=waterml\n"
       ]
      },
      {
       "output_type": "stream",
       "stream": "stderr",
       "text": [
        "INFO:ulmo.usgs.nwis.core:processing data from request: http://waterservices.usgs.gov/nwis/dv/?startDT=1851-01-01&site=09322000&format=waterml\n"
       ]
      },
      {
       "output_type": "stream",
       "stream": "stderr",
       "text": [
        "INFO:ulmo.usgs.nwis.core:processing data from request: http://waterservices.usgs.gov/nwis/dv/?startDT=1851-01-01&site=09322500&format=waterml\n"
       ]
      },
      {
       "output_type": "stream",
       "stream": "stderr",
       "text": [
        "INFO:ulmo.usgs.nwis.core:processing data from request: http://waterservices.usgs.gov/nwis/dv/?startDT=1851-01-01&site=09323000&format=waterml\n"
       ]
      },
      {
       "output_type": "stream",
       "stream": "stderr",
       "text": [
        "INFO:ulmo.usgs.nwis.core:processing data from request: http://waterservices.usgs.gov/nwis/dv/?startDT=1851-01-01&site=09323500&format=waterml\n"
       ]
      },
      {
       "output_type": "stream",
       "stream": "stderr",
       "text": [
        "INFO:ulmo.usgs.nwis.core:processing data from request: http://waterservices.usgs.gov/nwis/dv/?startDT=1851-01-01&site=09324000&format=waterml\n"
       ]
      },
      {
       "output_type": "stream",
       "stream": "stderr",
       "text": [
        "INFO:ulmo.usgs.nwis.core:processing data from request: http://waterservices.usgs.gov/nwis/dv/?startDT=1851-01-01&site=09324200&format=waterml\n"
       ]
      },
      {
       "output_type": "stream",
       "stream": "stderr",
       "text": [
        "INFO:ulmo.usgs.nwis.core:processing data from request: http://waterservices.usgs.gov/nwis/dv/?startDT=1851-01-01&site=09324500&format=waterml\n"
       ]
      },
      {
       "output_type": "stream",
       "stream": "stderr",
       "text": [
        "INFO:ulmo.usgs.nwis.core:processing data from request: http://waterservices.usgs.gov/nwis/dv/?startDT=1851-01-01&site=09325000&format=waterml\n"
       ]
      },
      {
       "output_type": "stream",
       "stream": "stderr",
       "text": [
        "INFO:ulmo.usgs.nwis.core:processing data from request: http://waterservices.usgs.gov/nwis/dv/?startDT=1851-01-01&site=09325100&format=waterml\n"
       ]
      },
      {
       "output_type": "stream",
       "stream": "stderr",
       "text": [
        "INFO:ulmo.usgs.nwis.core:processing data from request: http://waterservices.usgs.gov/nwis/dv/?startDT=1851-01-01&site=09325500&format=waterml\n"
       ]
      },
      {
       "output_type": "stream",
       "stream": "stderr",
       "text": [
        "INFO:ulmo.usgs.nwis.core:processing data from request: http://waterservices.usgs.gov/nwis/dv/?startDT=1851-01-01&site=09326000&format=waterml\n"
       ]
      },
      {
       "output_type": "stream",
       "stream": "stderr",
       "text": [
        "INFO:ulmo.usgs.nwis.core:processing data from request: http://waterservices.usgs.gov/nwis/dv/?startDT=1851-01-01&site=09326500&format=waterml\n"
       ]
      },
      {
       "output_type": "stream",
       "stream": "stderr",
       "text": [
        "INFO:ulmo.usgs.nwis.core:processing data from request: http://waterservices.usgs.gov/nwis/dv/?startDT=1851-01-01&site=09327500&format=waterml\n"
       ]
      },
      {
       "output_type": "stream",
       "stream": "stderr",
       "text": [
        "INFO:ulmo.usgs.nwis.core:processing data from request: http://waterservices.usgs.gov/nwis/dv/?startDT=1851-01-01&site=09327550&format=waterml\n"
       ]
      },
      {
       "output_type": "stream",
       "stream": "stderr",
       "text": [
        "INFO:ulmo.usgs.nwis.core:processing data from request: http://waterservices.usgs.gov/nwis/dv/?startDT=1851-01-01&site=09330500&format=waterml\n"
       ]
      },
      {
       "output_type": "stream",
       "stream": "stderr",
       "text": [
        "INFO:ulmo.usgs.nwis.core:processing data from request: http://waterservices.usgs.gov/nwis/dv/?startDT=1851-01-01&site=09331850&format=waterml\n"
       ]
      },
      {
       "output_type": "stream",
       "stream": "stderr",
       "text": [
        "INFO:ulmo.usgs.nwis.core:processing data from request: http://waterservices.usgs.gov/nwis/dv/?startDT=1851-01-01&site=09331900&format=waterml\n"
       ]
      },
      {
       "output_type": "stream",
       "stream": "stderr",
       "text": [
        "INFO:ulmo.usgs.nwis.core:processing data from request: http://waterservices.usgs.gov/nwis/dv/?startDT=1851-01-01&site=09331950&format=waterml\n"
       ]
      },
      {
       "output_type": "stream",
       "stream": "stderr",
       "text": [
        "INFO:ulmo.usgs.nwis.core:processing data from request: http://waterservices.usgs.gov/nwis/dv/?startDT=1851-01-01&site=09332100&format=waterml\n"
       ]
      },
      {
       "output_type": "stream",
       "stream": "stderr",
       "text": [
        "INFO:ulmo.usgs.nwis.core:processing data from request: http://waterservices.usgs.gov/nwis/dv/?startDT=1851-01-01&site=10148400&format=waterml\n"
       ]
      },
      {
       "output_type": "stream",
       "stream": "stderr",
       "text": [
        "INFO:ulmo.usgs.nwis.core:processing data from request: http://waterservices.usgs.gov/nwis/dv/?startDT=1851-01-01&site=10148500&format=waterml\n"
       ]
      },
      {
       "output_type": "stream",
       "stream": "stderr",
       "text": [
        "INFO:ulmo.usgs.nwis.core:processing data from request: http://waterservices.usgs.gov/nwis/dv/?startDT=1851-01-01&site=10205030&format=waterml\n"
       ]
      },
      {
       "output_type": "stream",
       "stream": "stderr",
       "text": [
        "INFO:ulmo.usgs.nwis.core:processing data from request: http://waterservices.usgs.gov/nwis/dv/?startDT=1851-01-01&site=10206000&format=waterml\n"
       ]
      },
      {
       "output_type": "stream",
       "stream": "stderr",
       "text": [
        "INFO:ulmo.usgs.nwis.core:processing data from request: http://waterservices.usgs.gov/nwis/dv/?startDT=1851-01-01&site=10206001&format=waterml\n"
       ]
      },
      {
       "output_type": "stream",
       "stream": "stderr",
       "text": [
        "INFO:ulmo.usgs.nwis.core:processing data from request: http://waterservices.usgs.gov/nwis/dv/?startDT=1851-01-01&site=10208000&format=waterml\n"
       ]
      },
      {
       "output_type": "stream",
       "stream": "stderr",
       "text": [
        "INFO:ulmo.usgs.nwis.core:processing data from request: http://waterservices.usgs.gov/nwis/dv/?startDT=1851-01-01&site=10208500&format=waterml\n"
       ]
      },
      {
       "output_type": "stream",
       "stream": "stderr",
       "text": [
        "INFO:ulmo.usgs.nwis.core:processing data from request: http://waterservices.usgs.gov/nwis/dv/?startDT=1851-01-01&site=10210000&format=waterml\n"
       ]
      },
      {
       "output_type": "stream",
       "stream": "stderr",
       "text": [
        "INFO:ulmo.usgs.nwis.core:processing data from request: http://waterservices.usgs.gov/nwis/dv/?startDT=1851-01-01&site=10210500&format=waterml\n"
       ]
      },
      {
       "output_type": "stream",
       "stream": "stderr",
       "text": [
        "INFO:ulmo.usgs.nwis.core:processing data from request: http://waterservices.usgs.gov/nwis/dv/?startDT=1851-01-01&site=10211000&format=waterml\n"
       ]
      },
      {
       "output_type": "stream",
       "stream": "stderr",
       "text": [
        "INFO:ulmo.usgs.nwis.core:processing data from request: http://waterservices.usgs.gov/nwis/dv/?startDT=1851-01-01&site=10215700&format=waterml\n"
       ]
      },
      {
       "output_type": "stream",
       "stream": "stderr",
       "text": [
        "INFO:ulmo.usgs.nwis.core:processing data from request: http://waterservices.usgs.gov/nwis/dv/?startDT=1851-01-01&site=10215900&format=waterml\n"
       ]
      },
      {
       "output_type": "stream",
       "stream": "stderr",
       "text": [
        "INFO:ulmo.usgs.nwis.core:processing data from request: http://waterservices.usgs.gov/nwis/dv/?startDT=1851-01-01&site=10216210&format=waterml\n"
       ]
      },
      {
       "output_type": "stream",
       "stream": "stderr",
       "text": [
        "INFO:ulmo.usgs.nwis.core:processing data from request: http://waterservices.usgs.gov/nwis/dv/?startDT=1851-01-01&site=10216400&format=waterml\n"
       ]
      },
      {
       "output_type": "stream",
       "stream": "stderr",
       "text": [
        "INFO:ulmo.usgs.nwis.core:processing data from request: http://waterservices.usgs.gov/nwis/dv/?startDT=1851-01-01&site=10217000&format=waterml\n"
       ]
      }
     ],
     "prompt_number": 117
    },
    {
     "cell_type": "code",
     "collapsed": false,
     "input": [
      "sitelab = ['Q'+site for site in sites]\n",
      "d['09309500']"
     ],
     "language": "python",
     "metadata": {},
     "outputs": [
      {
       "html": [
        "<div style=\"max-height:1000px;max-width:1500px;overflow:auto;\">\n",
        "<table border=\"1\" class=\"dataframe\">\n",
        "  <thead>\n",
        "    <tr style=\"text-align: right;\">\n",
        "      <th></th>\n",
        "      <th>qualifiers</th>\n",
        "      <th>value</th>\n",
        "      <th>mon</th>\n",
        "    </tr>\n",
        "    <tr>\n",
        "      <th>dates</th>\n",
        "      <th></th>\n",
        "      <th></th>\n",
        "      <th></th>\n",
        "    </tr>\n",
        "  </thead>\n",
        "  <tbody>\n",
        "    <tr>\n",
        "      <th>1949-08-18</th>\n",
        "      <td> A</td>\n",
        "      <td> 10.0</td>\n",
        "      <td> 8</td>\n",
        "    </tr>\n",
        "    <tr>\n",
        "      <th>1949-08-19</th>\n",
        "      <td> A</td>\n",
        "      <td> 10.0</td>\n",
        "      <td> 8</td>\n",
        "    </tr>\n",
        "    <tr>\n",
        "      <th>1949-08-20</th>\n",
        "      <td> A</td>\n",
        "      <td>  9.8</td>\n",
        "      <td> 8</td>\n",
        "    </tr>\n",
        "    <tr>\n",
        "      <th>1949-08-21</th>\n",
        "      <td> A</td>\n",
        "      <td> 10.0</td>\n",
        "      <td> 8</td>\n",
        "    </tr>\n",
        "    <tr>\n",
        "      <th>1949-08-22</th>\n",
        "      <td> A</td>\n",
        "      <td> 10.0</td>\n",
        "      <td> 8</td>\n",
        "    </tr>\n",
        "    <tr>\n",
        "      <th>1949-08-23</th>\n",
        "      <td> A</td>\n",
        "      <td> 11.0</td>\n",
        "      <td> 8</td>\n",
        "    </tr>\n",
        "    <tr>\n",
        "      <th>1949-08-24</th>\n",
        "      <td> A</td>\n",
        "      <td> 11.0</td>\n",
        "      <td> 8</td>\n",
        "    </tr>\n",
        "    <tr>\n",
        "      <th>1949-08-25</th>\n",
        "      <td> A</td>\n",
        "      <td> 11.0</td>\n",
        "      <td> 8</td>\n",
        "    </tr>\n",
        "    <tr>\n",
        "      <th>1949-08-26</th>\n",
        "      <td> A</td>\n",
        "      <td> 11.0</td>\n",
        "      <td> 8</td>\n",
        "    </tr>\n",
        "    <tr>\n",
        "      <th>1949-08-27</th>\n",
        "      <td> A</td>\n",
        "      <td> 11.0</td>\n",
        "      <td> 8</td>\n",
        "    </tr>\n",
        "    <tr>\n",
        "      <th>1949-08-28</th>\n",
        "      <td> A</td>\n",
        "      <td> 11.0</td>\n",
        "      <td> 8</td>\n",
        "    </tr>\n",
        "    <tr>\n",
        "      <th>1949-08-29</th>\n",
        "      <td> A</td>\n",
        "      <td> 11.0</td>\n",
        "      <td> 8</td>\n",
        "    </tr>\n",
        "    <tr>\n",
        "      <th>1949-08-30</th>\n",
        "      <td> A</td>\n",
        "      <td> 11.0</td>\n",
        "      <td> 8</td>\n",
        "    </tr>\n",
        "    <tr>\n",
        "      <th>1949-08-31</th>\n",
        "      <td> A</td>\n",
        "      <td> 11.0</td>\n",
        "      <td> 8</td>\n",
        "    </tr>\n",
        "    <tr>\n",
        "      <th>1949-09-01</th>\n",
        "      <td> A</td>\n",
        "      <td> 11.0</td>\n",
        "      <td> 9</td>\n",
        "    </tr>\n",
        "    <tr>\n",
        "      <th>1949-09-02</th>\n",
        "      <td> A</td>\n",
        "      <td>  9.1</td>\n",
        "      <td> 9</td>\n",
        "    </tr>\n",
        "    <tr>\n",
        "      <th>1949-09-03</th>\n",
        "      <td> A</td>\n",
        "      <td> 10.0</td>\n",
        "      <td> 9</td>\n",
        "    </tr>\n",
        "    <tr>\n",
        "      <th>1949-09-04</th>\n",
        "      <td> A</td>\n",
        "      <td> 12.0</td>\n",
        "      <td> 9</td>\n",
        "    </tr>\n",
        "    <tr>\n",
        "      <th>1949-09-05</th>\n",
        "      <td> A</td>\n",
        "      <td> 12.0</td>\n",
        "      <td> 9</td>\n",
        "    </tr>\n",
        "    <tr>\n",
        "      <th>1949-09-06</th>\n",
        "      <td> A</td>\n",
        "      <td> 12.0</td>\n",
        "      <td> 9</td>\n",
        "    </tr>\n",
        "    <tr>\n",
        "      <th>1949-09-07</th>\n",
        "      <td> A</td>\n",
        "      <td> 12.0</td>\n",
        "      <td> 9</td>\n",
        "    </tr>\n",
        "    <tr>\n",
        "      <th>1949-09-08</th>\n",
        "      <td> A</td>\n",
        "      <td> 13.0</td>\n",
        "      <td> 9</td>\n",
        "    </tr>\n",
        "    <tr>\n",
        "      <th>1949-09-09</th>\n",
        "      <td> A</td>\n",
        "      <td> 13.0</td>\n",
        "      <td> 9</td>\n",
        "    </tr>\n",
        "    <tr>\n",
        "      <th>1949-09-10</th>\n",
        "      <td> A</td>\n",
        "      <td> 13.0</td>\n",
        "      <td> 9</td>\n",
        "    </tr>\n",
        "    <tr>\n",
        "      <th>1949-09-11</th>\n",
        "      <td> A</td>\n",
        "      <td> 13.0</td>\n",
        "      <td> 9</td>\n",
        "    </tr>\n",
        "    <tr>\n",
        "      <th>1949-09-12</th>\n",
        "      <td> A</td>\n",
        "      <td> 13.0</td>\n",
        "      <td> 9</td>\n",
        "    </tr>\n",
        "    <tr>\n",
        "      <th>1949-09-13</th>\n",
        "      <td> A</td>\n",
        "      <td> 14.0</td>\n",
        "      <td> 9</td>\n",
        "    </tr>\n",
        "    <tr>\n",
        "      <th>1949-09-14</th>\n",
        "      <td> A</td>\n",
        "      <td> 14.0</td>\n",
        "      <td> 9</td>\n",
        "    </tr>\n",
        "    <tr>\n",
        "      <th>1949-09-15</th>\n",
        "      <td> A</td>\n",
        "      <td> 14.0</td>\n",
        "      <td> 9</td>\n",
        "    </tr>\n",
        "    <tr>\n",
        "      <th>1949-09-16</th>\n",
        "      <td> A</td>\n",
        "      <td> 14.0</td>\n",
        "      <td> 9</td>\n",
        "    </tr>\n",
        "    <tr>\n",
        "      <th>...</th>\n",
        "      <td>...</td>\n",
        "      <td>...</td>\n",
        "      <td>...</td>\n",
        "    </tr>\n",
        "    <tr>\n",
        "      <th>1965-09-01</th>\n",
        "      <td> A</td>\n",
        "      <td>  4.0</td>\n",
        "      <td> 9</td>\n",
        "    </tr>\n",
        "    <tr>\n",
        "      <th>1965-09-02</th>\n",
        "      <td> A</td>\n",
        "      <td>  4.0</td>\n",
        "      <td> 9</td>\n",
        "    </tr>\n",
        "    <tr>\n",
        "      <th>1965-09-03</th>\n",
        "      <td> A</td>\n",
        "      <td>  3.5</td>\n",
        "      <td> 9</td>\n",
        "    </tr>\n",
        "    <tr>\n",
        "      <th>1965-09-04</th>\n",
        "      <td> A</td>\n",
        "      <td>  3.2</td>\n",
        "      <td> 9</td>\n",
        "    </tr>\n",
        "    <tr>\n",
        "      <th>1965-09-05</th>\n",
        "      <td> A</td>\n",
        "      <td>  3.4</td>\n",
        "      <td> 9</td>\n",
        "    </tr>\n",
        "    <tr>\n",
        "      <th>1965-09-06</th>\n",
        "      <td> A</td>\n",
        "      <td>  3.4</td>\n",
        "      <td> 9</td>\n",
        "    </tr>\n",
        "    <tr>\n",
        "      <th>1965-09-07</th>\n",
        "      <td> A</td>\n",
        "      <td>  2.8</td>\n",
        "      <td> 9</td>\n",
        "    </tr>\n",
        "    <tr>\n",
        "      <th>1965-09-08</th>\n",
        "      <td> A</td>\n",
        "      <td>  2.6</td>\n",
        "      <td> 9</td>\n",
        "    </tr>\n",
        "    <tr>\n",
        "      <th>1965-09-09</th>\n",
        "      <td> A</td>\n",
        "      <td>  2.4</td>\n",
        "      <td> 9</td>\n",
        "    </tr>\n",
        "    <tr>\n",
        "      <th>1965-09-10</th>\n",
        "      <td> A</td>\n",
        "      <td>  2.0</td>\n",
        "      <td> 9</td>\n",
        "    </tr>\n",
        "    <tr>\n",
        "      <th>1965-09-11</th>\n",
        "      <td> A</td>\n",
        "      <td>  2.6</td>\n",
        "      <td> 9</td>\n",
        "    </tr>\n",
        "    <tr>\n",
        "      <th>1965-09-12</th>\n",
        "      <td> A</td>\n",
        "      <td>  2.9</td>\n",
        "      <td> 9</td>\n",
        "    </tr>\n",
        "    <tr>\n",
        "      <th>1965-09-13</th>\n",
        "      <td> A</td>\n",
        "      <td>  2.7</td>\n",
        "      <td> 9</td>\n",
        "    </tr>\n",
        "    <tr>\n",
        "      <th>1965-09-14</th>\n",
        "      <td> A</td>\n",
        "      <td>  2.6</td>\n",
        "      <td> 9</td>\n",
        "    </tr>\n",
        "    <tr>\n",
        "      <th>1965-09-15</th>\n",
        "      <td> A</td>\n",
        "      <td>  2.4</td>\n",
        "      <td> 9</td>\n",
        "    </tr>\n",
        "    <tr>\n",
        "      <th>1965-09-16</th>\n",
        "      <td> A</td>\n",
        "      <td>  2.4</td>\n",
        "      <td> 9</td>\n",
        "    </tr>\n",
        "    <tr>\n",
        "      <th>1965-09-17</th>\n",
        "      <td> A</td>\n",
        "      <td>  2.2</td>\n",
        "      <td> 9</td>\n",
        "    </tr>\n",
        "    <tr>\n",
        "      <th>1965-09-18</th>\n",
        "      <td> A</td>\n",
        "      <td>  1.9</td>\n",
        "      <td> 9</td>\n",
        "    </tr>\n",
        "    <tr>\n",
        "      <th>1965-09-19</th>\n",
        "      <td> A</td>\n",
        "      <td>  1.9</td>\n",
        "      <td> 9</td>\n",
        "    </tr>\n",
        "    <tr>\n",
        "      <th>1965-09-20</th>\n",
        "      <td> A</td>\n",
        "      <td>  1.9</td>\n",
        "      <td> 9</td>\n",
        "    </tr>\n",
        "    <tr>\n",
        "      <th>1965-09-21</th>\n",
        "      <td> A</td>\n",
        "      <td>  1.8</td>\n",
        "      <td> 9</td>\n",
        "    </tr>\n",
        "    <tr>\n",
        "      <th>1965-09-22</th>\n",
        "      <td> A</td>\n",
        "      <td>  1.8</td>\n",
        "      <td> 9</td>\n",
        "    </tr>\n",
        "    <tr>\n",
        "      <th>1965-09-23</th>\n",
        "      <td> A</td>\n",
        "      <td>  1.7</td>\n",
        "      <td> 9</td>\n",
        "    </tr>\n",
        "    <tr>\n",
        "      <th>1965-09-24</th>\n",
        "      <td> A</td>\n",
        "      <td>  1.7</td>\n",
        "      <td> 9</td>\n",
        "    </tr>\n",
        "    <tr>\n",
        "      <th>1965-09-25</th>\n",
        "      <td> A</td>\n",
        "      <td>  1.8</td>\n",
        "      <td> 9</td>\n",
        "    </tr>\n",
        "    <tr>\n",
        "      <th>1965-09-26</th>\n",
        "      <td> A</td>\n",
        "      <td>  1.9</td>\n",
        "      <td> 9</td>\n",
        "    </tr>\n",
        "    <tr>\n",
        "      <th>1965-09-27</th>\n",
        "      <td> A</td>\n",
        "      <td>  2.4</td>\n",
        "      <td> 9</td>\n",
        "    </tr>\n",
        "    <tr>\n",
        "      <th>1965-09-28</th>\n",
        "      <td> A</td>\n",
        "      <td>  3.1</td>\n",
        "      <td> 9</td>\n",
        "    </tr>\n",
        "    <tr>\n",
        "      <th>1965-09-29</th>\n",
        "      <td> A</td>\n",
        "      <td>  3.4</td>\n",
        "      <td> 9</td>\n",
        "    </tr>\n",
        "    <tr>\n",
        "      <th>1965-09-30</th>\n",
        "      <td> A</td>\n",
        "      <td>  3.2</td>\n",
        "      <td> 9</td>\n",
        "    </tr>\n",
        "  </tbody>\n",
        "</table>\n",
        "<p>3201 rows \u00d7 3 columns</p>\n",
        "</div>"
       ],
       "metadata": {},
       "output_type": "pyout",
       "prompt_number": 120,
       "text": [
        "           qualifiers  value  mon\n",
        "dates                            \n",
        "1949-08-18          A   10.0    8\n",
        "1949-08-19          A   10.0    8\n",
        "1949-08-20          A    9.8    8\n",
        "1949-08-21          A   10.0    8\n",
        "1949-08-22          A   10.0    8\n",
        "1949-08-23          A   11.0    8\n",
        "1949-08-24          A   11.0    8\n",
        "1949-08-25          A   11.0    8\n",
        "1949-08-26          A   11.0    8\n",
        "1949-08-27          A   11.0    8\n",
        "1949-08-28          A   11.0    8\n",
        "1949-08-29          A   11.0    8\n",
        "1949-08-30          A   11.0    8\n",
        "1949-08-31          A   11.0    8\n",
        "1949-09-01          A   11.0    9\n",
        "1949-09-02          A    9.1    9\n",
        "1949-09-03          A   10.0    9\n",
        "1949-09-04          A   12.0    9\n",
        "1949-09-05          A   12.0    9\n",
        "1949-09-06          A   12.0    9\n",
        "1949-09-07          A   12.0    9\n",
        "1949-09-08          A   13.0    9\n",
        "1949-09-09          A   13.0    9\n",
        "1949-09-10          A   13.0    9\n",
        "1949-09-11          A   13.0    9\n",
        "1949-09-12          A   13.0    9\n",
        "1949-09-13          A   14.0    9\n",
        "1949-09-14          A   14.0    9\n",
        "1949-09-15          A   14.0    9\n",
        "1949-09-16          A   14.0    9\n",
        "...               ...    ...  ...\n",
        "1965-09-01          A    4.0    9\n",
        "1965-09-02          A    4.0    9\n",
        "1965-09-03          A    3.5    9\n",
        "1965-09-04          A    3.2    9\n",
        "1965-09-05          A    3.4    9\n",
        "1965-09-06          A    3.4    9\n",
        "1965-09-07          A    2.8    9\n",
        "1965-09-08          A    2.6    9\n",
        "1965-09-09          A    2.4    9\n",
        "1965-09-10          A    2.0    9\n",
        "1965-09-11          A    2.6    9\n",
        "1965-09-12          A    2.9    9\n",
        "1965-09-13          A    2.7    9\n",
        "1965-09-14          A    2.6    9\n",
        "1965-09-15          A    2.4    9\n",
        "1965-09-16          A    2.4    9\n",
        "1965-09-17          A    2.2    9\n",
        "1965-09-18          A    1.9    9\n",
        "1965-09-19          A    1.9    9\n",
        "1965-09-20          A    1.9    9\n",
        "1965-09-21          A    1.8    9\n",
        "1965-09-22          A    1.8    9\n",
        "1965-09-23          A    1.7    9\n",
        "1965-09-24          A    1.7    9\n",
        "1965-09-25          A    1.8    9\n",
        "1965-09-26          A    1.9    9\n",
        "1965-09-27          A    2.4    9\n",
        "1965-09-28          A    3.1    9\n",
        "1965-09-29          A    3.4    9\n",
        "1965-09-30          A    3.2    9\n",
        "\n",
        "[3201 rows x 3 columns]"
       ]
      }
     ],
     "prompt_number": 120
    },
    {
     "cell_type": "code",
     "collapsed": false,
     "input": [
      "def boxandscatter(station, yr=1930):\n",
      "    for i in range(len(sitelab)):\n",
      "        if eval(station) == sitelab[i]:\n",
      "            station = stielab[i]\n",
      "            station.boxplot(column=['value'], by='mon')\n",
      "            dfmon = station.resample('M',how='mean')\n",
      "            plt.scatter(dfmon['mon'][dfmon.index.year==yr], dfmon['value'][dfmon.index.year==yr], c='purple')\n",
      "            plt.ylim(0.01,10000)\n",
      "            plt.ylabel('discharge (cfs)')\n",
      "            plt.xlabel('month')\n",
      "            plt.yscale('log')\n"
     ],
     "language": "python",
     "metadata": {},
     "outputs": [],
     "prompt_number": 143
    },
    {
     "cell_type": "code",
     "collapsed": false,
     "input": [
      "stations = ['Muddy_Creek','Salina_Creek','Ferron_Creek','Manti_Creek']"
     ],
     "language": "python",
     "metadata": {},
     "outputs": [],
     "prompt_number": 145
    },
    {
     "cell_type": "code",
     "collapsed": false,
     "input": [
      "cd = interact(boxandscatter, station=stations, yr=(1990, 2015, 1))"
     ],
     "language": "python",
     "metadata": {},
     "outputs": [
      {
       "ename": "NameError",
       "evalue": "name 'Q10208000' is not defined",
       "output_type": "pyerr",
       "traceback": [
        "\u001b[1;31m---------------------------------------------------------------------------\u001b[0m\n\u001b[1;31mNameError\u001b[0m                                 Traceback (most recent call last)",
        "\u001b[1;32m<ipython-input-143-4148b42d99fb>\u001b[0m in \u001b[0;36mboxandscatter\u001b[1;34m(station, yr)\u001b[0m\n\u001b[0;32m      1\u001b[0m \u001b[1;32mdef\u001b[0m \u001b[0mboxandscatter\u001b[0m\u001b[1;33m(\u001b[0m\u001b[0mstation\u001b[0m\u001b[1;33m,\u001b[0m \u001b[0myr\u001b[0m\u001b[1;33m=\u001b[0m\u001b[1;36m1930\u001b[0m\u001b[1;33m)\u001b[0m\u001b[1;33m:\u001b[0m\u001b[1;33m\u001b[0m\u001b[0m\n\u001b[0;32m      2\u001b[0m     \u001b[1;32mfor\u001b[0m \u001b[0mi\u001b[0m \u001b[1;32min\u001b[0m \u001b[0mrange\u001b[0m\u001b[1;33m(\u001b[0m\u001b[0mlen\u001b[0m\u001b[1;33m(\u001b[0m\u001b[0msitelab\u001b[0m\u001b[1;33m)\u001b[0m\u001b[1;33m)\u001b[0m\u001b[1;33m:\u001b[0m\u001b[1;33m\u001b[0m\u001b[0m\n\u001b[1;32m----> 3\u001b[1;33m         \u001b[1;32mif\u001b[0m \u001b[0meval\u001b[0m\u001b[1;33m(\u001b[0m\u001b[0mstation\u001b[0m\u001b[1;33m)\u001b[0m \u001b[1;33m==\u001b[0m \u001b[0msitelab\u001b[0m\u001b[1;33m[\u001b[0m\u001b[0mi\u001b[0m\u001b[1;33m]\u001b[0m\u001b[1;33m:\u001b[0m\u001b[1;33m\u001b[0m\u001b[0m\n\u001b[0m\u001b[0;32m      4\u001b[0m             \u001b[0mstation\u001b[0m \u001b[1;33m=\u001b[0m \u001b[0mstielab\u001b[0m\u001b[1;33m[\u001b[0m\u001b[0mi\u001b[0m\u001b[1;33m]\u001b[0m\u001b[1;33m\u001b[0m\u001b[0m\n\u001b[0;32m      5\u001b[0m             \u001b[0mstation\u001b[0m\u001b[1;33m.\u001b[0m\u001b[0mboxplot\u001b[0m\u001b[1;33m(\u001b[0m\u001b[0mcolumn\u001b[0m\u001b[1;33m=\u001b[0m\u001b[1;33m[\u001b[0m\u001b[1;34m'value'\u001b[0m\u001b[1;33m]\u001b[0m\u001b[1;33m,\u001b[0m \u001b[0mby\u001b[0m\u001b[1;33m=\u001b[0m\u001b[1;34m'mon'\u001b[0m\u001b[1;33m)\u001b[0m\u001b[1;33m\u001b[0m\u001b[0m\n",
        "\u001b[1;32m<string>\u001b[0m in \u001b[0;36m<module>\u001b[1;34m()\u001b[0m\n",
        "\u001b[1;31mNameError\u001b[0m: name 'Q10208000' is not defined"
       ]
      }
     ],
     "prompt_number": 144
    },
    {
     "cell_type": "code",
     "collapsed": false,
     "input": [
      "def kp(station, wind=1):\n",
      "    station = eval(station)\n",
      "    pd.rolling_mean(station['value'], window=wind, center=True).plot(ylim=(0.01,1000),xlim=('1/1/1905','1/1/1965'))\n",
      "    plt.yscale('log')"
     ],
     "language": "python",
     "metadata": {},
     "outputs": [],
     "prompt_number": 12
    },
    {
     "cell_type": "code",
     "collapsed": false,
     "input": [
      "cc = interact(kp, station=stations, wind=(1,1000,100))"
     ],
     "language": "python",
     "metadata": {},
     "outputs": [
      {
       "metadata": {},
       "output_type": "display_data",
       "png": "[encoded data removed]",
       "text": [
        "<matplotlib.figure.Figure at 0xa448630>"
       ]
      }
     ],
     "prompt_number": 13
    },
    {
     "cell_type": "code",
     "collapsed": false,
     "input": [
      "Muddy_Creek_monthly = Muddy_Creek.resample('M', how='mean')\n",
      "Muddy_Creek_monthly['baseflow'] = pd.rolling_min(Muddy_Creek_monthly['value'],window=11,center=True)"
     ],
     "language": "python",
     "metadata": {},
     "outputs": [],
     "prompt_number": 11
    },
    {
     "cell_type": "code",
     "collapsed": false,
     "input": [
      "Salina_Creek['baseflow'] = pd.rolling_min(Salina_Creek['value'],window=250,center=True)"
     ],
     "language": "python",
     "metadata": {},
     "outputs": [],
     "prompt_number": 12
    },
    {
     "cell_type": "code",
     "collapsed": false,
     "input": [
      "data = Muddy_Creek['value'][np.isfinite(Muddy_Creek['value'])]\n",
      "data = data[(data.index.to_datetime() > pd.datetime(1950,1,1))&(data.index.to_datetime() < pd.datetime(1975,1,1))].values\n",
      "data = np.sort(data)\n",
      "ranks = sp.rankdata(data,method='average')\n",
      "ranks = ranks[::-1]\n",
      "\n",
      "prob = [100*(ranks[i]/(len(data)+1)) for i in range(len(data)) ]\n",
      "\n",
      "plt.figure()\n",
      "plt.plot(prob,data)\n",
      "plt.yscale('log')\n",
      "plt.grid(which = 'both')\n",
      "plt.xlabel('% of time that indicated discharge was exceeded or equaled')\n",
      "plt.ylabel('discharge (cfs)')\n",
      "plt.xticks(range(0,100,5))\n",
      "plt.title('Flow duration curve for ' + 'Muddy Creek')"
     ],
     "language": "python",
     "metadata": {},
     "outputs": [
      {
       "metadata": {},
       "output_type": "pyout",
       "prompt_number": 65,
       "text": [
        "<matplotlib.text.Text at 0x10c629d0>"
       ]
      },
      {
       "metadata": {},
       "output_type": "display_data",
       "png": "[encoded data removed]",
       "text": [
        "<matplotlib.figure.Figure at 0x10c41f30>"
       ]
      }
     ],
     "prompt_number": 65
    },
    {
     "cell_type": "code",
     "collapsed": false,
     "input": [
      "def fdc(df,name,begyear,endyear):\n",
      "    data = df['value'][np.isfinite(df['value'])]\n",
      "    data = data[(data.index.to_datetime() > pd.datetime(begyear,1,1))&(data.index.to_datetime() < pd.datetime(endyear,1,1))].values\n",
      "    data = np.sort(data)\n",
      "    data = [data[i]/np.mean(data) for i in range(len(data))]\n",
      "    ranks = sp.rankdata(data,method='ordinal')\n",
      "    ranks = ranks[::-1]\n",
      "\n",
      "    prob = [100*(ranks[i]/(len(data)+1)) for i in range(len(data)) ]\n",
      "\n",
      "\n",
      "    plt.plot(prob,data,label=name)\n",
      "    plt.yscale('log')\n",
      "    \n",
      "    plt.xlabel('% of time that indicated discharge was exceeded or equaled')\n",
      "    plt.ylabel('discharge (cfs)')\n",
      "    plt.xticks(range(0,100,5))\n",
      "    plt.xscale()\n",
      "    plt.title('Flow duration curve')\n",
      "    plt.grid(which = 'both')"
     ],
     "language": "python",
     "metadata": {},
     "outputs": [],
     "prompt_number": 82
    },
    {
     "cell_type": "markdown",
     "metadata": {},
     "source": [
      "http://stackoverflow.com/questions/15408371/cumulative-distribution-plots-python <br>\n",
      "http://hydroclimpy.sourceforge.net/installation.html"
     ]
    },
    {
     "cell_type": "code",
     "collapsed": false,
     "input": [
      "fdc(Muddy_Creek,'Muddy Creek 1951-1976',1951,1976)\n",
      "fdc(Muddy_Creek,'Muddy Creek 1976-2000',1976,2000)\n",
      "fdc(Muddy_Creek,'Muddy Creek 1910-1915',1910,1915)\n",
      "fdc(Salina_Creek,'Salina Creek',1951,1976)\n",
      "fdc(Ferron_Creek,'Ferron Creek',1951,1976)\n",
      "plt.legend()\n",
      "plt.grid()"
     ],
     "language": "python",
     "metadata": {},
     "outputs": [
      {
       "metadata": {},
       "output_type": "display_data",
       "png": "[encoded data removed]",
       "text": [
        "<matplotlib.figure.Figure at 0x11c60a70>"
       ]
      }
     ],
     "prompt_number": 84
    },
    {
     "cell_type": "code",
     "collapsed": false,
     "input": [],
     "language": "python",
     "metadata": {},
     "outputs": []
    }
   ],
   "metadata": {}
  }
 ]
}