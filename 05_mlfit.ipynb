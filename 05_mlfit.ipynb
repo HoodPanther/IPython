{
 "metadata": {
  "name": "",
  "signature": "sha256:e77a911f0bc239b72c5c1a2ec591f90bdaa61a9aa809adbe292c78f67453552f"
 },
 "nbformat": 3,
 "nbformat_minor": 0,
 "worksheets": [
  {
   "cells": [
    {
     "cell_type": "markdown",
     "metadata": [],
     "source": [
      "> This is one of the 100 recipes of the [IPython Cookbook](http://ipython-books.github.io/), the definitive guide to high-performance scientific computing and data science in Python.\n"
     ]
    },
    {
     "cell_type": "markdown",
     "metadata": {
      "word_id": "4818_07_mlfit"
     },
     "source": [
      "# 7.5. Fitting a probability distribution to data with the maximum likelihood method"
     ]
    },
    {
     "cell_type": "markdown",
     "metadata": {},
     "source": [
      "You need the statsmodels package to retrieve the test dataset. (http://statsmodels.sourceforge.net)"
     ]
    },
    {
     "cell_type": "markdown",
     "metadata": {},
     "source": [
      "1. Statsmodels is a Python package for conducting statistical data analyses. It also contains real-world datasets that one can use when experimenting new methods. Here, we load the *heart* dataset."
     ]
    },
    {
     "cell_type": "code",
     "collapsed": false,
     "input": [
      "import numpy as np\n",
      "import scipy.stats as st\n",
      "import statsmodels.datasets\n",
      "import matplotlib.pyplot as plt\n",
      "%matplotlib inline"
     ],
     "language": "python",
     "metadata": {},
     "outputs": [],
     "prompt_number": 1
    },
    {
     "cell_type": "code",
     "collapsed": false,
     "input": [
      "data = statsmodels.datasets.heart.load_pandas().data"
     ],
     "language": "python",
     "metadata": {},
     "outputs": [],
     "prompt_number": 2
    },
    {
     "cell_type": "markdown",
     "metadata": {},
     "source": [
      "2. Let's take a look at this DataFrame."
     ]
    },
    {
     "cell_type": "code",
     "collapsed": false,
     "input": [
      "data.tail()"
     ],
     "language": "python",
     "metadata": {},
     "outputs": [
      {
       "html": [
        "<div style=\"max-height:1000px;max-width:1500px;overflow:auto;\">\n",
        "<table border=\"1\" class=\"dataframe\">\n",
        "  <thead>\n",
        "    <tr style=\"text-align: right;\">\n",
        "      <th></th>\n",
        "      <th>survival</th>\n",
        "      <th>censors</th>\n",
        "      <th>age</th>\n",
        "    </tr>\n",
        "  </thead>\n",
        "  <tbody>\n",
        "    <tr>\n",
        "      <th>64</th>\n",
        "      <td>14</td>\n",
        "      <td>1</td>\n",
        "      <td>40.3</td>\n",
        "    </tr>\n",
        "    <tr>\n",
        "      <th>65</th>\n",
        "      <td>167</td>\n",
        "      <td>0</td>\n",
        "      <td>26.7</td>\n",
        "    </tr>\n",
        "    <tr>\n",
        "      <th>66</th>\n",
        "      <td>110</td>\n",
        "      <td>0</td>\n",
        "      <td>23.7</td>\n",
        "    </tr>\n",
        "    <tr>\n",
        "      <th>67</th>\n",
        "      <td>13</td>\n",
        "      <td>0</td>\n",
        "      <td>28.9</td>\n",
        "    </tr>\n",
        "    <tr>\n",
        "      <th>68</th>\n",
        "      <td>1</td>\n",
        "      <td>0</td>\n",
        "      <td>35.2</td>\n",
        "    </tr>\n",
        "  </tbody>\n",
        "</table>\n",
        "</div>"
       ],
       "metadata": {},
       "output_type": "pyout",
       "prompt_number": 3,
       "text": [
        "    survival  censors   age\n",
        "64        14        1  40.3\n",
        "65       167        0  26.7\n",
        "66       110        0  23.7\n",
        "67        13        0  28.9\n",
        "68         1        0  35.2"
       ]
      }
     ],
     "prompt_number": 3
    },
    {
     "cell_type": "markdown",
     "metadata": {},
     "source": [
      "This dataset contains censored and uncensored data: a censor of 0 means that the patient was alive at the end of the study, so that we don't know the exact survival. We only know that the patient survived *at least* the indicated number of days. For simplicity here, we only keep uncensored data (we thereby create a bias toward patients that did not survive very long after their transplant...)."
     ]
    },
    {
     "cell_type": "code",
     "collapsed": false,
     "input": [
      "data = data[data.censors==1]\n",
      "survival = data.survival"
     ],
     "language": "python",
     "metadata": {},
     "outputs": [],
     "prompt_number": 4
    },
    {
     "cell_type": "markdown",
     "metadata": {},
     "source": [
      "3. Let's take a look at the data graphically, by plotting the raw survival data and the histogram."
     ]
    },
    {
     "cell_type": "code",
     "collapsed": false,
     "input": [
      "plt.figure(figsize=(10,4));\n",
      "plt.subplot(121);\n",
      "plt.plot(sorted(survival)[::-1], 'o');\n",
      "plt.xlabel('Patient');\n",
      "plt.ylabel('Survival time (days)');\n",
      "plt.subplot(122);\n",
      "plt.hist(survival, bins=15);\n",
      "plt.xlabel('Survival time (days)');\n",
      "plt.ylabel('Number of patients');"
     ],
     "language": "python",
     "metadata": {},
     "outputs": [
      {
       "metadata": {},
       "output_type": "display_data",
       "png": "[encoded data removed]",
       "text": [
        "<matplotlib.figure.Figure at 0xdc03970>"
       ]
      }
     ],
     "prompt_number": 5
    },
    {
     "cell_type": "markdown",
     "metadata": {},
     "source": [
      "4. We observe that the histogram is decreasing very rapidly. Fortunately, the survival rates are today much higher (~70% after 5 years). Let's try to fit an [exponential distribution](http://en.wikipedia.org/wiki/Exponential_distribution) to the data. According to this model, $S$ (number of days of survival) is an exponential random variable with parameter $\\lambda$, and the observations $s_i$ are sampled from this distribution. Let:\n",
      "\n",
      "$$\\overline s = \\frac 1 n \\sum s_i$$ \n",
      "\n",
      "be the sample mean. The likelihood function of an exponential distribution is, by definition (see proof in the next section):\n",
      "\n",
      "$$\\mathcal L(\\lambda, \\{s_i\\}) = P(\\{s_i\\} | \\lambda) = \\lambda^n \\exp\\left(-\\lambda n \\overline s\\right)$$\n",
      "\n",
      "The **maximum likelihood estimate** for the rate parameter is, by definition, the $\\lambda$ that maximizes the likelihood function. In other words, it is the parameter that maximizes the probability of observing the data, assuming that the observations are sampled from an exponential distribution.\n",
      "\n",
      "Here, it can be shown that the likelihood function has a maximum when $\\lambda = 1/\\overline s$, which is the *maximum likelihood estimate for the rate parameter*. Let's compute this parameter numerically."
     ]
    },
    {
     "cell_type": "code",
     "collapsed": false,
     "input": [
      "smean = survival.mean()\n",
      "rate = 1./smean"
     ],
     "language": "python",
     "metadata": {},
     "outputs": [],
     "prompt_number": 6
    },
    {
     "cell_type": "markdown",
     "metadata": {},
     "source": [
      "5. To compare the fitted exponential distribution to the data, we first need to generate linearly spaced values for the x axis (days)."
     ]
    },
    {
     "cell_type": "code",
     "collapsed": false,
     "input": [
      "smax = survival.max()\n",
      "days = np.linspace(0., smax, 1000)\n",
      "dt = smax / 999.  # bin size: interval between two\n",
      "                  # consecutive values in `days`"
     ],
     "language": "python",
     "metadata": {},
     "outputs": [],
     "prompt_number": 7
    },
    {
     "cell_type": "markdown",
     "metadata": {},
     "source": [
      "We can obtain the probability density function of the exponential distribution with SciPy. The parameter is the scale, the inverse of the estimated rate."
     ]
    },
    {
     "cell_type": "code",
     "collapsed": false,
     "input": [
      "dist_exp = st.expon.pdf(days, scale=1./rate)"
     ],
     "language": "python",
     "metadata": {},
     "outputs": [],
     "prompt_number": 8
    },
    {
     "cell_type": "markdown",
     "metadata": {},
     "source": [
      "6. Now, let's plot the histogram and the obtained distribution. We need to rescale the theoretical distribution to the histogram (depending on the bin size and the total number of data points)."
     ]
    },
    {
     "cell_type": "code",
     "collapsed": false,
     "input": [
      "nbins = 30\n",
      "plt.figure(figsize=(5,3));\n",
      "plt.hist(survival, nbins);\n",
      "plt.plot(days, dist_exp*len(survival)*smax/nbins,\n",
      "         '-r', lw=3);"
     ],
     "language": "python",
     "metadata": {},
     "outputs": [
      {
       "metadata": {},
       "output_type": "display_data",
       "png": "[encoded data removed]",
       "text": [
        "<matplotlib.figure.Figure at 0xdc03df0>"
       ]
      }
     ],
     "prompt_number": 9
    },
    {
     "cell_type": "markdown",
     "metadata": {},
     "source": [
      "The fit is far from perfect... We were able to find an analytical formula for the maximum likelihood estimate here. In more complex situations, this is not always possible, so that one needs to resort to numerical methods. SciPy actually integrates numerical maximum likelihood routines for a large number of distributions. Here, we use this other method to estimate the parameter of the exponential distribution."
     ]
    },
    {
     "cell_type": "code",
     "collapsed": false,
     "input": [
      "dist = st.expon\n",
      "args = dist.fit(survival); args"
     ],
     "language": "python",
     "metadata": {},
     "outputs": [
      {
       "metadata": {},
       "output_type": "pyout",
       "prompt_number": 10,
       "text": [
        "(0.99999999994836486, 222.28880590143666)"
       ]
      }
     ],
     "prompt_number": 10
    },
    {
     "cell_type": "markdown",
     "metadata": {},
     "source": [
      "7. We can use these parameters to perform a **Kolmogorov-Smirnov test**, which assesses the goodness of fit of the distribution with respect to the data. This test is based on a distance between the **empirical distribution function** of the data and the **cumulative distribution function** (CDF) of the reference distribution."
     ]
    },
    {
     "cell_type": "code",
     "collapsed": false,
     "input": [
      "st.kstest(survival, dist.cdf, args)"
     ],
     "language": "python",
     "metadata": {},
     "outputs": [
      {
       "metadata": {},
       "output_type": "pyout",
       "prompt_number": 11,
       "text": [
        "(0.36199685486406347, 8.6470960143358866e-06)"
       ]
      }
     ],
     "prompt_number": 11
    },
    {
     "cell_type": "markdown",
     "metadata": {},
     "source": [
      "The second output value is the p-value. Here, it is very low: the null hypothesis (stating that the observed data stems from an exponential distribution with a maximum likelihood rate parameter) can be rejected with high confidence. Let's try another distribution, the *Birnbaum-Sanders distribution*, which is typically used to model failure times. (http://en.wikipedia.org/wiki/Birnbaum-Saunders_distribution)"
     ]
    },
    {
     "cell_type": "code",
     "collapsed": false,
     "input": [
      "dist = st.fatiguelife\n",
      "args = dist.fit(survival)\n",
      "st.kstest(survival, dist.cdf, args)"
     ],
     "language": "python",
     "metadata": {},
     "outputs": [
      {
       "metadata": {},
       "output_type": "pyout",
       "prompt_number": 12,
       "text": [
        "(0.18773446101946889, 0.073211497000863268)"
       ]
      }
     ],
     "prompt_number": 12
    },
    {
     "cell_type": "markdown",
     "metadata": {},
     "source": [
      "This time, the p-value is 0.07, so that we would not reject the null hypothesis with a 5% confidence level. When plotting the resulting distribution, we observe a better fit than with the exponential distribution."
     ]
    },
    {
     "cell_type": "code",
     "collapsed": false,
     "input": [
      "dist_fl = dist.pdf(days, *args)\n",
      "nbins = 30\n",
      "plt.figure(figsize=(5,3));\n",
      "plt.hist(survival, nbins);\n",
      "plt.plot(days, dist_exp*len(survival)*smax/nbins,\n",
      "         '-r', lw=3, label='exp');\n",
      "plt.plot(days, dist_fl*len(survival)*smax/nbins,\n",
      "         '--g', lw=3, label='BS');\n",
      "plt.xlabel(\"Survival time (days)\");\n",
      "plt.ylabel(\"Number of patients\");\n",
      "plt.legend();"
     ],
     "language": "python",
     "metadata": {},
     "outputs": [
      {
       "metadata": {},
       "output_type": "display_data",
       "png": "[encoded data removed]",
       "text": [
        "<matplotlib.figure.Figure at 0xe445a30>"
       ]
      }
     ],
     "prompt_number": 13
    },
    {
     "cell_type": "markdown",
     "metadata": {},
     "source": [
      "> You'll find all the explanations, figures, references, and much more in the book (to be released later this summer).\n",
      "\n",
      "> [IPython Cookbook](http://ipython-books.github.io/), by [Cyrille Rossant](http://cyrille.rossant.net), Packt Publishing, 2014 (400 pages). [Get a 50% discount by pre-ordering now](http://www.packtpub.com/ipython-interactive-computing-and-visualization-cookbook/book) with the code `mK00gPxQM` (time-limited offer)!\n"
     ]
    }
   ],
   "metadata": {}
  }
 ]
}