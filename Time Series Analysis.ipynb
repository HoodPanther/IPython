{
 "metadata": {
  "name": "",
  "signature": "sha256:f2eacd0afac2cf4631ccee304239ac4f1226883f6c7221a4604e12cdc14ceb96"
 },
 "nbformat": 3,
 "nbformat_minor": 0,
 "worksheets": [
  {
   "cells": [
    {
     "cell_type": "code",
     "collapsed": false,
     "input": [
      "import pandas as pd\n",
      "import numpy as np\n",
      "import scipy\n",
      "from scipy import stats\n",
      "from scipy.stats import norm\n",
      "import statsmodels\n",
      "import os\n",
      "import glob\n",
      "import re\n",
      "import xmltodict\n",
      "import matplotlib.pyplot as plt\n",
      "import matplotlib.dates as dates\n",
      "import matplotlib.ticker as tick\n",
      "from matplotlib.backends.backend_pdf import PdfPages\n",
      "from datetime import datetime\n",
      "from pylab import rcParams\n",
      "rcParams['figure.figsize'] = 15, 10\n",
      "import urllib2"
     ],
     "language": "python",
     "metadata": {},
     "outputs": [],
     "prompt_number": 325
    },
    {
     "cell_type": "code",
     "collapsed": false,
     "input": [
      "import rpy2\n",
      "%load_ext rmagic "
     ],
     "language": "python",
     "metadata": {},
     "outputs": [],
     "prompt_number": 2
    },
    {
     "cell_type": "code",
     "collapsed": false,
     "input": [
      "%matplotlib inline\n",
      "from lifelines.estimation import KaplanMeierFitter\n",
      "kmf = KaplanMeierFitter()"
     ],
     "language": "python",
     "metadata": {},
     "outputs": [],
     "prompt_number": 3
    },
    {
     "cell_type": "code",
     "collapsed": false,
     "input": [
      "infile = r'https://raw.githubusercontent.com/inkenbrandt/IPython/master/Sample_Na.csv'\n",
      "response = urllib2.urlopen(infile)\n",
      "df = pd.read_csv(response, index_col=['SampleDate'], parse_dates=True)"
     ],
     "language": "python",
     "metadata": {},
     "outputs": [],
     "prompt_number": 61
    },
    {
     "cell_type": "markdown",
     "metadata": {},
     "source": [
      "http://stackoverflow.com/questions/10458493/pandas-how-to-plot-yearly-data-on-top-of-each-other <br>\n",
      "\n",
      "http://stackoverflow.com/questions/29834873/use-python-pandas-to-match-sample-pairs-yearly-data\n",
      "\n",
      "* drop duplicates\n",
      "* aggregate data to monthly via median\n"
     ]
    },
    {
     "cell_type": "code",
     "collapsed": false,
     "input": [
      "df = df.drop_duplicates()"
     ],
     "language": "python",
     "metadata": {},
     "outputs": [],
     "prompt_number": 62
    },
    {
     "cell_type": "code",
     "collapsed": false,
     "input": [
      "y1 = 1960\n",
      "y2 = 1980\n",
      "span = str(int((y2-y1)*12))+'M'\n",
      "print span"
     ],
     "language": "python",
     "metadata": {},
     "outputs": [
      {
       "output_type": "stream",
       "stream": "stdout",
       "text": [
        "240M\n"
       ]
      }
     ],
     "prompt_number": 63
    },
    {
     "cell_type": "code",
     "collapsed": false,
     "input": [
      "df['year'] = df.index.to_datetime().year.astype(int)\n",
      "df['month'] = df.index.to_datetime().month.astype(int)\n",
      "df['day'] = df.index.to_datetime().day.astype(int)\n",
      "df3 = df.loc[(df['month'] < 13) & (df['month'] > 0)]\n",
      "df4 = df3.loc[(df3['year'] <= y2) & (df3['year'] >= y1)]"
     ],
     "language": "python",
     "metadata": {},
     "outputs": [],
     "prompt_number": 64
    },
    {
     "cell_type": "code",
     "collapsed": false,
     "input": [
      "df4.reset_index(inplace=True)"
     ],
     "language": "python",
     "metadata": {},
     "outputs": [],
     "prompt_number": 65
    },
    {
     "cell_type": "code",
     "collapsed": false,
     "input": [
      "df4['SampleDate'].max()"
     ],
     "language": "python",
     "metadata": {},
     "outputs": [
      {
       "metadata": {},
       "output_type": "pyout",
       "prompt_number": 66,
       "text": [
        "Timestamp('1980-12-31 00:00:00')"
       ]
      }
     ],
     "prompt_number": 66
    },
    {
     "cell_type": "code",
     "collapsed": false,
     "input": [
      "try:\n",
      "    df2 = df4.pivot_table(values='ResultValue', \n",
      "                         index= 'SampleDate', \n",
      "                         columns='StationId').resample(span, how='median',closed='left',  convention='s')\n",
      "except(MemoryError):\n",
      "    print(\"Sample Too Large!\")\n",
      "    pass\n",
      "    #df2.interpolate(method='time',inplace=True)"
     ],
     "language": "python",
     "metadata": {},
     "outputs": [],
     "prompt_number": 67
    },
    {
     "cell_type": "code",
     "collapsed": false,
     "input": [
      "df2.dropna(inplace=True,axis=1)"
     ],
     "language": "python",
     "metadata": {},
     "outputs": [],
     "prompt_number": 68
    },
    {
     "cell_type": "code",
     "collapsed": false,
     "input": [
      "wilco = df2.stack().unstack([0])\n",
      "cols = list(wilco.columns)\n",
      "wilco.columns = str(y1),str(y2)\n",
      "wilcodiff = (wilco[str(y2)] - wilco[str(y1)]).median()"
     ],
     "language": "python",
     "metadata": {},
     "outputs": [],
     "prompt_number": 195
    },
    {
     "cell_type": "code",
     "collapsed": false,
     "input": [
      "T, p = scipy.stats.wilcoxon(wilco[str(y1)],wilco[str(y2)])\n",
      "n = len(wilco[str(y1)])\n",
      "print n , T, p, wilcodiff\n",
      "if n<23:\n",
      "    print('Warning: Sample Too Small')"
     ],
     "language": "python",
     "metadata": {},
     "outputs": [
      {
       "output_type": "stream",
       "stream": "stdout",
       "text": [
        "887 129308.5 2.30291427281e-10 -1.0\n"
       ]
      }
     ],
     "prompt_number": 71
    },
    {
     "cell_type": "heading",
     "level": 1,
     "metadata": {},
     "source": [
      "USGS Data"
     ]
    },
    {
     "cell_type": "heading",
     "level": 2,
     "metadata": {},
     "source": [
      "Decadal Data: Wilcoxan-Pratt Signed-Rank Analysis"
     ]
    },
    {
     "cell_type": "code",
     "collapsed": false,
     "input": [
      "infile2 = r'http://pubs.usgs.gov/sir/2012/5049/support/SIR2012_5049_Appendix_1_04022012.xlsx'\n",
      "response2 = urllib2.urlopen(infile2)\n",
      "cols = ['site','unit','network','use','aquifer','rock','depth','date','time','Nrem','N','Clrem','Cl','TDSrem', 'TDS', 'date1','time1','Nrem1','N1','Clrem1','Cl1','TDSrem1','TDS1']\n",
      "\n",
      "usgs = pd.read_excel(response2, skiprows=1, skip_footer=5, na_values=('-','','No Data','No data'))#, parse_cols=cols)\n",
      "\n",
      "usgs.columns = cols"
     ],
     "language": "python",
     "metadata": {},
     "outputs": [],
     "prompt_number": 190
    },
    {
     "cell_type": "code",
     "collapsed": false,
     "input": [
      "def USGSchemTab(df,chem,group):\n",
      "    def func(y,x):\n",
      "        if np.isnan(x)==True:\n",
      "            return np.nan\n",
      "        elif y=='<':\n",
      "            return 0\n",
      "        else:\n",
      "            return 1\n",
      "    \n",
      "    df[chem+'cond'] = usgs.apply(lambda df: func(df[chem+'rem'],df[chem]),axis=1)\n",
      "    df[chem+'cond1'] = usgs.apply(lambda df: func(df[chem+'rem1'],df[chem]),axis=1)\n",
      "    \n",
      "    df.set_index([group],inplace=True)\n",
      "    unit = df.index.get_level_values(0).unique()\n",
      "    \n",
      "    network,n,T1,p1,chng = [],[],[],[],[]\n",
      "    for i in unit:\n",
      "        network.append(i)\n",
      "        n.append(len(df.loc[i,chem]))\n",
      "        T1.append(scipy.stats.wilcoxon(df.loc[i,chem].values,df.loc[i,chem+'1'].values, zero_method='zsplit')[0])\n",
      "        p1.append(scipy.stats.wilcoxon(df.loc[i,chem].values,df.loc[i,chem+'1'].values, zero_method='zsplit')[1])\n",
      "        chng.append(round((df.loc[i,chem+'1'] - df.loc[i,chem]).median(),2))\n",
      "    refdict = {'ntwrk':network,'n':n,'T':T1,'p':p1,'chng':chng}\n",
      "    df.reset_index(inplace=True)\n",
      "    Nresframe = pd.DataFrame(refdict)\n",
      "    Nresframe['signif'] = Nresframe['p'].apply(lambda x: np.nan if x >= 0.1 else '(+)')\n",
      "    \n",
      "    return Nresframe"
     ],
     "language": "python",
     "metadata": {},
     "outputs": [],
     "prompt_number": 191
    },
    {
     "cell_type": "code",
     "collapsed": false,
     "input": [
      "NitrateTable = USGSchemTab(usgs,'N','network')\n",
      "ClTable = USGSchemTab(usgs,'Cl','network')\n",
      "TDSTable = USGSchemTab(usgs,'TDS','network')"
     ],
     "language": "python",
     "metadata": {},
     "outputs": [],
     "prompt_number": 192
    },
    {
     "cell_type": "heading",
     "level": 3,
     "metadata": {},
     "source": [
      "Fit a Distribution for Trumbull"
     ]
    },
    {
     "cell_type": "markdown",
     "metadata": {},
     "source": [
      "http://www.sph.umich.edu/dioxin/PDF/Beijing%202009/Gillespie%20Dioxin2009_Turnbull_slides_v2.pdf"
     ]
    },
    {
     "cell_type": "markdown",
     "metadata": {},
     "source": [
      "http://stackoverflow.com/questions/6620471/fitting-empirical-distribution-to-theoretical-ones-with-scipy-python"
     ]
    },
    {
     "cell_type": "code",
     "collapsed": false,
     "input": [
      "def dropMDL(x,MDL):\n",
      "    data = []\n",
      "    for i in x:\n",
      "        if i <= MDL or i :\n",
      "            pass\n",
      "        else:\n",
      "            data.append(i)\n",
      "    return np.array(data)"
     ],
     "language": "python",
     "metadata": {},
     "outputs": [],
     "prompt_number": 388
    },
    {
     "cell_type": "code",
     "collapsed": false,
     "input": [
      "usgsacf = usgs[usgs['network']=='acfbluscr3']\n",
      "\n",
      "\n",
      "g = np.array(usgs['N'].dropna().values)\n",
      "h = np.array(usgs['N1'].dropna().values)\n",
      "\n",
      "g = dropMDL(g,0.05)\n",
      "h = dropMDL(h,0.05)\n",
      "\n",
      "\n",
      "b = statsmodels.distributions.ECDF(g, side='right')\n",
      "c = statsmodels.distributions.ECDF(h, side='right')\n",
      "\n",
      "x = np.arange(0,round(g.max(),2),0.01)\n",
      "plt.plot(x,b(x),label='N')\n",
      "plt.plot(x,c(x),label='N1')\n",
      "plt.hist(g,bins=30,normed=True, cumulative=True,histtype=u'step')\n",
      "plt.xlim(-0.1,0.2)\n",
      "#plt.xlim(-1,g.max())\n",
      "plt.ylim(0,1.5)\n",
      "plt.legend()\n",
      "diff = round(np.median(np.subtract(b(x),c(x))),4)\n",
      "print diff"
     ],
     "language": "python",
     "metadata": {},
     "outputs": [
      {
       "output_type": "stream",
       "stream": "stdout",
       "text": [
        "0.0025\n"
       ]
      },
      {
       "metadata": {},
       "output_type": "display_data",
       "png": "[encoded data removed]",
       "text": [
        "<matplotlib.figure.Figure at 0x14f07f10>"
       ]
      }
     ],
     "prompt_number": 341
    },
    {
     "cell_type": "code",
     "collapsed": false,
     "input": [
      "plt.hist(y,bins=30)"
     ],
     "language": "python",
     "metadata": {},
     "outputs": [
      {
       "metadata": {},
       "output_type": "pyout",
       "prompt_number": 377,
       "text": [
        "(array([ 394.,  180.,  115.,   63.,   56.,   44.,   17.,   22.,   14.,\n",
        "          19.,   11.,    4.,    6.,    4.,    5.,    5.,    3.,    5.,\n",
        "           1.,    2.,    3.,    1.,    0.,    0.,    0.,    1.,    0.,\n",
        "           0.,    0.,    1.]),\n",
        " array([  5.20000000e-02,   1.88360000e+00,   3.71520000e+00,\n",
        "          5.54680000e+00,   7.37840000e+00,   9.21000000e+00,\n",
        "          1.10416000e+01,   1.28732000e+01,   1.47048000e+01,\n",
        "          1.65364000e+01,   1.83680000e+01,   2.01996000e+01,\n",
        "          2.20312000e+01,   2.38628000e+01,   2.56944000e+01,\n",
        "          2.75260000e+01,   2.93576000e+01,   3.11892000e+01,\n",
        "          3.30208000e+01,   3.48524000e+01,   3.66840000e+01,\n",
        "          3.85156000e+01,   4.03472000e+01,   4.21788000e+01,\n",
        "          4.40104000e+01,   4.58420000e+01,   4.76736000e+01,\n",
        "          4.95052000e+01,   5.13368000e+01,   5.31684000e+01,\n",
        "          5.50000000e+01]),\n",
        " <a list of 30 Patch objects>)"
       ]
      },
      {
       "metadata": {},
       "output_type": "display_data",
       "png": "[encoded data removed]",
       "text": [
        "<matplotlib.figure.Figure at 0x17ac9dd0>"
       ]
      }
     ],
     "prompt_number": 377
    },
    {
     "cell_type": "code",
     "collapsed": false,
     "input": [
      "\n",
      "g = np.array(usgs['N'].dropna().values)\n",
      "h = np.array(usgs['N1'].dropna().values)\n",
      "\n",
      "g = np.log(np.add(dropMDL(g,0.05),2))\n",
      "h = dropMDL(h,0.05)\n",
      "\n",
      "size = len(g)\n",
      "\n",
      "y = g\n",
      "h = plt.hist(y, bins=30, color='w')\n",
      "\n",
      "dist_names = ['gamma', 'beta', 'lognorm','dweibull', 'exponweib','loggamma','rayleigh', 'norm', 'pareto']\n",
      "#dist_names = ['weibull_min','lognorm']\n",
      "\n",
      "\n",
      "for dist_name in dist_names:\n",
      "    dist = getattr(scipy.stats, dist_name)\n",
      "    param = dist.fit(y)\n",
      "    pdf_fitted = dist.pdf(x, *param[:-2], loc=param[-2], scale=param[-1]) * size\n",
      "    plt.plot(pdf_fitted, label=dist_name)\n",
      "    plt.ylim(0,200)\n",
      "    plt.xlim(0,g.max())\n",
      "plt.legend(loc='upper right')\n",
      "plt.show()"
     ],
     "language": "python",
     "metadata": {},
     "outputs": [
      {
       "metadata": {},
       "output_type": "display_data",
       "png": "[encoded data removed]",
       "text": [
        "<matplotlib.figure.Figure at 0x14ef9f70>"
       ]
      }
     ],
     "prompt_number": 387
    },
    {
     "cell_type": "heading",
     "level": 3,
     "metadata": {},
     "source": [
      "Bootstrapping"
     ]
    },
    {
     "cell_type": "code",
     "collapsed": false,
     "input": [
      "def bootstrap_resample(X, n=None):\n",
      "    \"\"\" Bootstrap resample an array_like\n",
      "    Parameters\n",
      "    ----------\n",
      "    X : array_like\n",
      "      data to resample\n",
      "    n : int, optional\n",
      "      length of resampled array, equal to len(X) if n==None\n",
      "    Results\n",
      "    -------\n",
      "    returns X_resamples\n",
      "    \n",
      "    From http://nbviewer.ipython.org/gist/aflaxman/6871948\n",
      "    \"\"\"\n",
      "\n",
      "    if isinstance(X, pd.Series):\n",
      "        X = X.copy()\n",
      "        X.index = range(len(X.index))\n",
      "    if n == None:\n",
      "        n = len(X)\n",
      "        \n",
      "    resample_i = np.floor(np.random.rand(n)*len(X)).astype(int)\n",
      "    X_resample = np.array(X[resample_i])  \n",
      "    return X_resample"
     ],
     "language": "python",
     "metadata": {},
     "outputs": [],
     "prompt_number": 173
    },
    {
     "cell_type": "code",
     "collapsed": false,
     "input": [],
     "language": "python",
     "metadata": {},
     "outputs": []
    },
    {
     "cell_type": "heading",
     "level": 2,
     "metadata": {},
     "source": [
      "Decadal Data: Time Series Analysis"
     ]
    },
    {
     "cell_type": "code",
     "collapsed": false,
     "input": [
      "def mk_test(x, alpha = 0.05):\n",
      "    \"\"\"\n",
      "    this perform the MK (Mann-Kendall) test to check if there is any trend present in \n",
      "    data or not\n",
      "    \n",
      "    Input:\n",
      "        x:   a vector of data\n",
      "        alpha: significance level\n",
      "    \n",
      "    Output:\n",
      "        trend: tells the trend (increasing, decreasing or no trend)\n",
      "        h: True (if trend is present) or False (if trend is absence)\n",
      "        p: p value of the sifnificance test\n",
      "        z: normalized test statistics \n",
      "        \n",
      "    Examples\n",
      "    --------\n",
      "      >>> x = np.random.rand(100)\n",
      "      >>> trend,h,p,z = mk_test(x,0.05) \n",
      "      \n",
      "    Credit: http://pydoc.net/Python/ambhas/0.4.0/ambhas.stats/\n",
      "    \"\"\"\n",
      "    n = len(x)\n",
      "    \n",
      "    # calculate S \n",
      "    s = 0\n",
      "    for k in xrange(n-1):\n",
      "        for j in xrange(k+1,n):\n",
      "            s += np.sign(x[j] - x[k])\n",
      "    \n",
      "    # calculate the unique data\n",
      "    unique_x = np.unique(x)\n",
      "    g = len(unique_x)\n",
      "    \n",
      "    # calculate the var(s)\n",
      "    if n == g: # there is no tie\n",
      "        var_s = (n*(n-1)*(2*n+5))/18\n",
      "    else: # there are some ties in data\n",
      "        tp = np.zeros(unique_x.shape)\n",
      "        for i in xrange(len(unique_x)):\n",
      "            tp[i] = sum(unique_x[i] == x)\n",
      "        var_s = (n*(n-1)*(2*n+5) + np.sum(tp*(tp-1)*(2*tp+5)))/18\n",
      "    \n",
      "    if s>0:\n",
      "        z = (s - 1)/np.sqrt(var_s)\n",
      "    elif s == 0:\n",
      "            z = 0\n",
      "    elif s<0:\n",
      "        z = (s + 1)/np.sqrt(var_s)\n",
      "    \n",
      "    # calculate the p_value\n",
      "    p = 2*(1-norm.cdf(abs(z))) # two tail test\n",
      "    h = abs(z) > norm.ppf(1-alpha/2) \n",
      "    \n",
      "    if (z<0) and h:\n",
      "        trend = 'decreasing'\n",
      "    elif (z>0) and h:\n",
      "        trend = 'increasing'\n",
      "    else:\n",
      "        trend = 'no trend'\n",
      "        \n",
      "    return trend, h, p, z\n"
     ],
     "language": "python",
     "metadata": {},
     "outputs": [],
     "prompt_number": 156
    },
    {
     "cell_type": "code",
     "collapsed": false,
     "input": [],
     "language": "python",
     "metadata": {},
     "outputs": []
    },
    {
     "cell_type": "heading",
     "level": 1,
     "metadata": {},
     "source": [
      "R Analysis"
     ]
    },
    {
     "cell_type": "markdown",
     "metadata": {},
     "source": [
      "Dealing with censored (below detection limit) data using the R package \"NADA\""
     ]
    },
    {
     "cell_type": "code",
     "collapsed": false,
     "input": [
      "usgs.sort(columns=['N'],inplace=True)\n",
      "nitrate = usgs['N'].dropna().values.tolist()\n",
      "nitrateCen = usgs['Ncond'].dropna().values.tolist()\n",
      "nitrCen, grp = [], []\n",
      "nit = []\n",
      "for i in nitrate:\n",
      "    nit.append(np.log(i))\n",
      "\n",
      "for i in nitrateCen:\n",
      "    grp.append(1)\n",
      "    if i > 0.0:\n",
      "        nitrCen.append(False)\n",
      "    else:\n",
      "        nitrCen.append(True)\n",
      "#nitrate = nit\n",
      "#nitrate"
     ],
     "language": "python",
     "metadata": {},
     "outputs": [],
     "prompt_number": 83
    },
    {
     "cell_type": "code",
     "collapsed": false,
     "input": [
      "from rpy2.robjects.packages import importr\n",
      "nada = importr('NADA')"
     ],
     "language": "python",
     "metadata": {},
     "outputs": [],
     "prompt_number": 155
    },
    {
     "cell_type": "code",
     "collapsed": false,
     "input": [
      "class cenfit(RS4):\n",
      "  __metaclass__ = RS4Auto_Type\n",
      "  __rname__ = 'cenfit'\n",
      "  __rpackagename__ = 'NADA'"
     ],
     "language": "python",
     "metadata": {},
     "outputs": [],
     "prompt_number": 147
    },
    {
     "cell_type": "code",
     "collapsed": false,
     "input": [
      "nitrate = rpy2.robjects.vectors.FloatVector(nitrate)\n",
      "nitrCen = rpy2.robjects.vectors.BoolVector(nitrCen)\n",
      "nitrateCen = nada.Cen(nitrate,nitrCen, type = 'left')\n",
      "km = nada.cenfit(nitrate,nitrCen)\n",
      "print km\n"
     ],
     "language": "python",
     "metadata": {},
     "outputs": [
      {
       "ename": "SyntaxError",
       "evalue": "invalid syntax (<ipython-input-154-629a6d68b288>, line 5)",
       "output_type": "pyerr",
       "traceback": [
        "\u001b[1;36m  File \u001b[1;32m\"<ipython-input-154-629a6d68b288>\"\u001b[1;36m, line \u001b[1;32m5\u001b[0m\n\u001b[1;33m    print km@mean\u001b[0m\n\u001b[1;37m            ^\u001b[0m\n\u001b[1;31mSyntaxError\u001b[0m\u001b[1;31m:\u001b[0m invalid syntax\n"
       ]
      }
     ],
     "prompt_number": 154
    },
    {
     "cell_type": "code",
     "collapsed": false,
     "input": [
      "%%R  -i nitrate,nitrCen,grp -o s,km,ros,pykm_mean,stats\n",
      "library(NADA)\n",
      "data(ShePyrene)\n",
      "attach(ShePyrene)\n",
      "#PyreneCen\n",
      "grp <- c(grp)\n",
      "nitrate <- c(nitrate)\n",
      "nitrCen <- c(nitrCen)\n",
      "ShePyrene$Pyrene\n",
      "s <- capture.output({censummary(nitrate,nitrCen, groups=grp)})\n",
      "pykm = cenfit(nitrate,nitrCen)\n",
      "km <- capture.output({cenfit(nitrate,nitrCen)})\n",
      "pyros = cenros(nitrate,nitrCen) \n",
      "ros <- capture.output({cenros(nitrate,nitrCen)})\n",
      "pymle <- cenmle(nitrate,nitrCen,dist='lognormal')\n",
      "mle <- capture.output({cenmle(nitrate,nitrCen)})\n",
      "plot(pykm)\n",
      "plot(pyros)\n",
      "plot(pymle)\n",
      "cenboxplot(nitrate,nitrCen)\n",
      "stats <- capture.output({censtats(nitrate,nitrCen)})\n",
      "pykm_mean <- capture.output({mean(pykm)})"
     ],
     "language": "python",
     "metadata": {},
     "outputs": [
      {
       "metadata": {},
       "output_type": "display_data",
       "png": "[encoded data removed]"
      },
      {
       "metadata": {},
       "output_type": "display_data",
       "png": "[encoded data removed]"
      },
      {
       "metadata": {},
       "output_type": "display_data",
       "png": "[encoded data removed]"
      },
      {
       "metadata": {},
       "output_type": "display_data",
       "png": "[encoded data removed]"
      }
     ],
     "prompt_number": 125
    },
    {
     "cell_type": "code",
     "collapsed": false,
     "input": [
      "def rPrint(x):\n",
      "    for line in x:\n",
      "        print(line)"
     ],
     "language": "python",
     "metadata": {},
     "outputs": [],
     "prompt_number": 95
    },
    {
     "cell_type": "code",
     "collapsed": false,
     "input": [
      "rPrint(s)\n"
     ],
     "language": "python",
     "metadata": {},
     "outputs": [
      {
       "output_type": "stream",
       "stream": "stdout",
       "text": [
        "1 \n",
        "all:\n",
        "         n      n.cen    pct.cen        min        max \n",
        "1232.00000  266.00000   21.59091    0.05000   55.00000 \n",
        "\n",
        "limits:\n",
        "  limit   n uncen   pexceed\n",
        "1  0.05 253    62 0.7861678\n",
        "2  0.10  13   904 0.7337662\n",
        "\n",
        "\n"
       ]
      }
     ],
     "prompt_number": 96
    },
    {
     "cell_type": "code",
     "collapsed": false,
     "input": [
      "rPrint(stats)"
     ],
     "language": "python",
     "metadata": {},
     "outputs": [
      {
       "output_type": "stream",
       "stream": "stdout",
       "text": [
        "         n      n.cen    pct.cen \n",
        "1232.00000  266.00000   21.59091 \n",
        "       median      mean         sd\n",
        "K-M 1.6000000  4.131901   6.489090\n",
        "ROS 1.6110000  4.143822   6.480966\n",
        "MLE 0.7358198 18.783114 479.104435\n"
       ]
      }
     ],
     "prompt_number": 97
    },
    {
     "cell_type": "code",
     "collapsed": false,
     "input": [
      "rPrint(pykm_mean)\n",
      "labs = pykm_mean[0].strip().split(None)\n",
      "stats= [float(i) for i in pykm_mean[1].split(' ')[:-1]]\n",
      "statsdic = dict(zip(labs,stats))\n",
      "statsdic['mean']\n",
      "usgs[usgs['N']>0.050].mean()"
     ],
     "language": "python",
     "metadata": {},
     "outputs": [
      {
       "output_type": "stream",
       "stream": "stdout",
       "text": [
        "     mean        se   0.95LCL   0.95UCL \n",
        "4.1319005 0.1848751 3.7695520 4.4942491 \n"
       ]
      },
      {
       "metadata": {},
       "output_type": "pyout",
       "prompt_number": 120,
       "text": [
        "depth        132.195847\n",
        "time        1207.332992\n",
        "N              5.203176\n",
        "Cl            40.240957\n",
        "TDSrem              NaN\n",
        "TDS          396.970021\n",
        "time1       1227.508197\n",
        "N1             5.731590\n",
        "Cl1           46.846267\n",
        "TDS1         412.954253\n",
        "Ncond          0.986680\n",
        "N1cond         0.935052\n",
        "TDScond        1.000000\n",
        "TDS1cond       0.998970\n",
        "Clcond         0.998974\n",
        "Cl1cond        1.000000\n",
        "dtype: float64"
       ]
      }
     ],
     "prompt_number": 120
    },
    {
     "cell_type": "heading",
     "level": 1,
     "metadata": {},
     "source": [
      "Other Stuff"
     ]
    },
    {
     "cell_type": "code",
     "collapsed": false,
     "input": [
      "print(df.groupby(['StationId']).resample('M', how='mean').head(n=20))"
     ],
     "language": "python",
     "metadata": {},
     "outputs": [
      {
       "output_type": "stream",
       "stream": "stdout",
       "text": [
        "Empty DataFrame\n",
        "Columns: []\n",
        "Index: []\n"
       ]
      }
     ],
     "prompt_number": 105
    },
    {
     "cell_type": "code",
     "collapsed": false,
     "input": [
      "#months = df.index.get_level_values(2).unique()\n",
      "stations = df.index.get_level_values(0).unique()\n",
      "#dates = df.index.get_level_values(3).unique()\n",
      "for i in stations:\n",
      "    df.loc[i,:].resample('M',how='mean')"
     ],
     "language": "python",
     "metadata": {},
     "outputs": []
    },
    {
     "cell_type": "code",
     "collapsed": false,
     "input": [
      "months = df.index.get_level_values(2).unique()\n",
      "stations = df.index.get_level_values(1).unique()\n",
      "dates = df.index.get_level_values(3).unique()\n",
      "for i in stations:\n",
      "    for j in  months:\n",
      "        for h in df1.loc[(i,j),'nextyeardate']:\n",
      "            print df1.ix[df1.loc[(i,j),'SampleDate'].searchsorted(h)].values\n",
      "            #print df1.loc[np.argmin(np.abs(df1.loc[(i,j),'SampleDate'] - h))]\n",
      "            #print h"
     ],
     "language": "python",
     "metadata": {},
     "outputs": []
    },
    {
     "cell_type": "code",
     "collapsed": false,
     "input": [
      "df.groupby(index.resample('M', how='mean')"
     ],
     "language": "python",
     "metadata": {},
     "outputs": []
    },
    {
     "cell_type": "code",
     "collapsed": false,
     "input": [
      "df1 = df.groupby(['StationId']).resample('M', how='mean')\n",
      "print(df1.head(n=5))"
     ],
     "language": "python",
     "metadata": {},
     "outputs": [
      {
       "output_type": "stream",
       "stream": "stdout",
       "text": [
        "Empty DataFrame\n",
        "Columns: []\n",
        "Index: []\n"
       ]
      }
     ],
     "prompt_number": 47
    },
    {
     "cell_type": "code",
     "collapsed": false,
     "input": [
      "df = pd.read_csv(testfile, index_col='SampleDate',parse_dates=True)"
     ],
     "language": "python",
     "metadata": {},
     "outputs": [],
     "prompt_number": 4
    },
    {
     "cell_type": "code",
     "collapsed": false,
     "input": [
      "df['year'] = df.index.to_datetime().year.astype(int)\n",
      "df['month'] = df.index.to_datetime().month.astype(int)\n",
      "df['day'] = df.index.to_datetime().day.astype(int)\n",
      "df = df.loc[(df['month'] < 13) & (df['month'] > 0)]\n",
      "df = df.loc[(df['year'] < 2100) & (df['year'] > 1850)]"
     ],
     "language": "python",
     "metadata": {},
     "outputs": [],
     "prompt_number": 5
    },
    {
     "cell_type": "code",
     "collapsed": false,
     "input": [
      "df['nextyear'] = np.sum((df['year'],1)).astype(int)\n",
      "df['nextyeardate'] = df[['nextyear','month','day']].apply(lambda x: pd.datetime(x[0],x[1],x[2]-1) if x[2]>28 else pd.datetime(x[0],x[1],x[2]),1)"
     ],
     "language": "python",
     "metadata": {},
     "outputs": [],
     "prompt_number": 6
    },
    {
     "cell_type": "code",
     "collapsed": false,
     "input": [
      "df.reset_index(inplace=True)\n",
      "df.set_index(['Param','StationId','month'],inplace=True)"
     ],
     "language": "python",
     "metadata": {},
     "outputs": [],
     "prompt_number": 23
    },
    {
     "cell_type": "code",
     "collapsed": false,
     "input": [
      "df1 = df.loc['Calcium']\n",
      "df1.loc[(stations[0],months[0],dates[0]),'ResultValue']"
     ],
     "language": "python",
     "metadata": {},
     "outputs": [
      {
       "metadata": {},
       "output_type": "pyout",
       "prompt_number": 21,
       "text": [
        "StationId      month  SampleDate\n",
        "USGS-09380000  1      1926-01-11    108\n",
        "Name: ResultValue, dtype: float64"
       ]
      }
     ],
     "prompt_number": 21
    },
    {
     "cell_type": "code",
     "collapsed": false,
     "input": [
      "#df1.loc[(stations[2],months[4]),'nextyeardate'].values.astype(datetime)\n",
      "#df1.loc[(stations[2],months[4]),'SampleDate'].astype(datetime)[1]\n",
      "df1.loc[(stations[0],months[0]),'SampleDate'].searchsorted(pd.datetime(1926,1,1))"
     ],
     "language": "python",
     "metadata": {},
     "outputs": [
      {
       "metadata": {},
       "output_type": "pyout",
       "prompt_number": 16,
       "text": [
        "array([0])"
       ]
      }
     ],
     "prompt_number": 16
    },
    {
     "cell_type": "code",
     "collapsed": false,
     "input": [
      "df1 = df[df.Param=='Calcium' & df.index.month==1.0]\n",
      "a = df1.groupby(['StationId','Param',df.index.day]).mean()\n",
      "print len(a)\n",
      "station = []\n",
      "months = []\n",
      "for i in range(len(a)):\n",
      "    if a[i]>10:\n",
      "        station.append((a.index[i][0]))\n",
      "        months.append((a.index[i][2]))\n",
      "        \n"
     ],
     "language": "python",
     "metadata": {},
     "outputs": []
    },
    {
     "cell_type": "code",
     "collapsed": false,
     "input": [
      "a = df1.groupby(['StationId','Param',df.index.day]).mean()\n"
     ],
     "language": "python",
     "metadata": {},
     "outputs": []
    },
    {
     "cell_type": "code",
     "collapsed": false,
     "input": [
      "months[1]\n",
      "df1['month']=df1.index.to_datetime().month\n",
      "df1['year']=df1.index.to_datetime().year\n",
      "df1['day']=df1.index.to_datetime().day"
     ],
     "language": "python",
     "metadata": {},
     "outputs": [
      {
       "output_type": "stream",
       "stream": "stderr",
       "text": [
        "-c:4: SettingWithCopyWarning: \n",
        "A value is trying to be set on a copy of a slice from a DataFrame.\n",
        "Try using .loc[row_indexer,col_indexer] = value instead\n",
        "\n",
        "See the the caveats in the documentation: http://pandas.pydata.org/pandas-docs/stable/indexing.html#indexing-view-versus-copy\n"
       ]
      }
     ],
     "prompt_number": 78
    },
    {
     "cell_type": "code",
     "collapsed": false,
     "input": [
      "df2 = df1[df1['StationId'].isin(station) & df1['month'].isin(months)]"
     ],
     "language": "python",
     "metadata": {},
     "outputs": [],
     "prompt_number": 57
    },
    {
     "cell_type": "code",
     "collapsed": false,
     "input": [
      "df3 = df1.drop_duplicates(subset=['StationId','year','month'])"
     ],
     "language": "python",
     "metadata": {},
     "outputs": [],
     "prompt_number": 60
    },
    {
     "cell_type": "code",
     "collapsed": false,
     "input": [
      "df4 = df3.groupby(['StationId'])\n",
      "df4"
     ],
     "language": "python",
     "metadata": {},
     "outputs": [
      {
       "metadata": {},
       "output_type": "pyout",
       "prompt_number": 77,
       "text": [
        "<pandas.core.groupby.DataFrameGroupBy object at 0x087E40D0>"
       ]
      }
     ],
     "prompt_number": 77
    },
    {
     "cell_type": "code",
     "collapsed": false,
     "input": [],
     "language": "python",
     "metadata": {},
     "outputs": []
    }
   ],
   "metadata": {}
  }
 ]
}