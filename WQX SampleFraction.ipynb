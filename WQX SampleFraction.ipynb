{
 "cells": [
  {
   "cell_type": "code",
   "execution_count": null,
   "metadata": {
    "collapsed": true
   },
   "outputs": [],
   "source": [
    "infileAddress = \"https://raw.githubusercontent.com/inkenbrandt/ParamGroup/master/Results.xml\"\n",
    "response = urllib2.urlopen(infileAddress)\n",
    "infile = response.read()\n",
    "\n",
    "obj = xmltodict.parse(infile, encoding=\"UTF-8\", xml_attribs=True)\n",
    "\n",
    "rows = int(obj[\"WQXDomainValueList\"][\"WQXElement\"]['WQXElementName']['@rowCount'])\n",
    "cols = len(obj[\"WQXDomainValueList\"][\"WQXElement\"][\"WQXElementRow\"][0]['WQXElementRowColumn'])\n",
    "\n",
    "head = []\n",
    "f = {}\n",
    "for j in range(cols):\n",
    "    head.append(obj[\"WQXDomainValueList\"][\"WQXElement\"][\"WQXElementRow\"][0]['WQXElementRowColumn'][j]['@colname'])\n",
    "    rowlist= []\n",
    "    for i in range(rows):\n",
    "        rowlist.append(obj[\"WQXDomainValueList\"][\"WQXElement\"][\"WQXElementRow\"][i]['WQXElementRowColumn'][j]['@value'])\n",
    "        f[head[j]] = rowlist\n",
    "pd.DataFrame(f)"
   ]
  },
  {
   "cell_type": "code",
   "execution_count": null,
   "metadata": {
    "collapsed": true
   },
   "outputs": [],
   "source": []
  }
 ],
 "metadata": {
  "kernelspec": {
   "display_name": "Python 2",
   "language": "python",
   "name": "python2"
  },
  "language_info": {
   "codemirror_mode": {
    "name": "ipython",
    "version": 2
   },
   "file_extension": ".py",
   "mimetype": "text/x-python",
   "name": "python",
   "nbconvert_exporter": "python",
   "pygments_lexer": "ipython2",
   "version": "2.7.8"
  }
 },
 "nbformat": 4,
 "nbformat_minor": 0
}
