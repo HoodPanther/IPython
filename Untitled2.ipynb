{
 "cells": [
  {
   "cell_type": "code",
   "execution_count": 1,
   "metadata": {
    "collapsed": false
   },
   "outputs": [
    {
     "data": {
      "text/plain": [
       "0"
      ]
     },
     "execution_count": 1,
     "metadata": {},
     "output_type": "execute_result"
    }
   ],
   "source": [
    "import pandas\n",
    "import numpy\n",
    "import sys\n",
    "from pandasqt.excepthook import excepthook\n",
    "sys.excepthook = excepthook\n",
    "\n",
    "# use QtGui from the compat module to take care if correct sip version, etc.\n",
    "from pandasqt.compat import QtGui\n",
    "from pandasqt.models.DataFrameModel import DataFrameModel\n",
    "from pandasqt.views.DataTableView import DataTableWidget\n",
    "from pandasqt.views._ui import icons_rc\n",
    "\n",
    "\"\"\"setup a new empty model\"\"\"\n",
    "model = DataFrameModel()\n",
    "\n",
    "\"\"\"setup an application and create a table view widget\"\"\"\n",
    "app = QtGui.QApplication([])\n",
    "widget = DataTableWidget()\n",
    "widget.resize(800, 600)\n",
    "widget.show()\n",
    "\"\"\"asign the created model\"\"\"\n",
    "widget.setViewModel(model)\n",
    "\n",
    "\"\"\"create some test data\"\"\"\n",
    "data = {\n",
    "    'A': [10, 11, 12], \n",
    "    'B': [20, 21, 22], \n",
    "    'C': ['Peter Pan', 'Cpt. Hook', 'Tinkerbell']\n",
    "}\n",
    "df = pandas.DataFrame(data)\n",
    "\"\"\"convert the column to the numpy.int8 datatype to test the delegates in the table\n",
    "int8 is limited to -128-127\n",
    "\"\"\"\n",
    "df['A'] = df['A'].astype(numpy.int8)\n",
    "df['B'] = df['B'].astype(numpy.float16)\n",
    "\n",
    "\"\"\"fill the model with data\"\"\"\n",
    "model.setDataFrame(df)\n",
    "\n",
    "\"\"\"start the app\"\"\"\n",
    "app.exec_()"
   ]
  },
  {
   "cell_type": "code",
   "execution_count": 2,
   "metadata": {
    "collapsed": false
   },
   "outputs": [
    {
     "data": {
      "text/html": [
       "<div>\n",
       "<table border=\"1\" class=\"dataframe\">\n",
       "  <thead>\n",
       "    <tr style=\"text-align: right;\">\n",
       "      <th></th>\n",
       "      <th>A</th>\n",
       "      <th>B</th>\n",
       "      <th>C</th>\n",
       "    </tr>\n",
       "  </thead>\n",
       "  <tbody>\n",
       "    <tr>\n",
       "      <th>0</th>\n",
       "      <td>10</td>\n",
       "      <td>20</td>\n",
       "      <td>Peter Pan</td>\n",
       "    </tr>\n",
       "    <tr>\n",
       "      <th>1</th>\n",
       "      <td>11</td>\n",
       "      <td>21</td>\n",
       "      <td>Cpt. Hook</td>\n",
       "    </tr>\n",
       "    <tr>\n",
       "      <th>2</th>\n",
       "      <td>12</td>\n",
       "      <td>22</td>\n",
       "      <td>Tinkerbell</td>\n",
       "    </tr>\n",
       "    <tr>\n",
       "      <th>3</th>\n",
       "      <td>33</td>\n",
       "      <td>33</td>\n",
       "      <td>F</td>\n",
       "    </tr>\n",
       "  </tbody>\n",
       "</table>\n",
       "</div>"
      ],
      "text/plain": [
       "    A   B           C\n",
       "0  10  20   Peter Pan\n",
       "1  11  21   Cpt. Hook\n",
       "2  12  22  Tinkerbell\n",
       "3  33  33           F"
      ]
     },
     "execution_count": 2,
     "metadata": {},
     "output_type": "execute_result"
    }
   ],
   "source": [
    "df"
   ]
  }
 ],
 "metadata": {
  "kernelspec": {
   "display_name": "Python 2",
   "language": "python",
   "name": "python2"
  },
  "language_info": {
   "codemirror_mode": {
    "name": "ipython",
    "version": 2
   },
   "file_extension": ".py",
   "mimetype": "text/x-python",
   "name": "python",
   "nbconvert_exporter": "python",
   "pygments_lexer": "ipython2",
   "version": "2.7.10"
  }
 },
 "nbformat": 4,
 "nbformat_minor": 0
}
