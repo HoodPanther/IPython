{
 "cells": [
  {
   "cell_type": "code",
   "execution_count": 1,
   "metadata": {
    "collapsed": true
   },
   "outputs": [],
   "source": [
    "%matplotlib inline\n",
    "import pandas as pd\n",
    "import numpy as np\n",
    "import matplotlib.pyplot as plt\n",
    "import matplotlib.dates as dates\n",
    "import scipy.stats as sp\n",
    "#import statsmodels.api as sm\n",
    "from pandas.stats.api import ols\n",
    "from datetime import datetime\n",
    "from pylab import rcParams\n",
    "from scipy.signal import argrelextrema\n",
    "import sys\n",
    "import platform\n",
    "import scipy\n",
    "rcParams['figure.figsize'] = 15, 10\n",
    "plt.rc('svg', fonttype = 'svgfont')"
   ]
  },
  {
   "cell_type": "code",
   "execution_count": 2,
   "metadata": {
    "collapsed": true
   },
   "outputs": [],
   "source": [
    "useTable = \"http://water.usgs.gov/watuse/data/2010/USGSCircular1405-tables1-14.xlsx\""
   ]
  },
  {
   "cell_type": "code",
   "execution_count": 3,
   "metadata": {
    "collapsed": false
   },
   "outputs": [
    {
     "name": "stdout",
     "output_type": "stream",
     "text": [
      "[u'1-TO', u'2-TW', u'2b-TW', u'3-TS', u'3b-TS', u'4-TG', u'4b-TG', u'5-PS', u'6-DO', u'7-IT', u'8-LI', u'9-AQ', u'10-IN', u'11-MI', u'12-PT', u'13-PO,PC', u'14-Trends']\n"
     ]
    }
   ],
   "source": [
    "useBook = pd.ExcelFile(useTable)\n",
    "\n",
    "names = list(useBook.sheet_names)\n",
    "print(names)"
   ]
  },
  {
   "cell_type": "code",
   "execution_count": 4,
   "metadata": {
    "collapsed": false
   },
   "outputs": [],
   "source": [
    "\n",
    "totalWithByCat = pd.read_excel(useTable,'2-TW')\n",
    "SurfaceWith = pd.read_excel(useTable,'3-TS')\n",
    "GroundWith = pd.read_excel(useTable,'4-TG')\n",
    "PublicSupply = pd.read_excel(useTable,'5-PS')"
   ]
  },
  {
   "cell_type": "code",
   "execution_count": 5,
   "metadata": {
    "collapsed": false
   },
   "outputs": [],
   "source": [
    "totalWithdrawals = pd.read_excel(useTable, '1-TO',skiprows=3)\n",
    "totalWithdrawals.drop(['Unnamed: 5','Unnamed: 9','Unnamed: 13','Total.1',\n",
    "                       'Unnamed: 15','Unnamed: 16'],inplace=True,axis=1)\n",
    "totalWithdrawals\n",
    "columns=[('Descriptors','State'),('Descriptors','Population (thousands)'),('Groundwater','Fresh'),\n",
    "         ('Groundwater','Saline'),('Groundwater','Total'),('Surface Water','Fresh'),\n",
    "         ('Surface Water','Saline'),('Surface Water','Total'),('All','Fresh'),\n",
    "         ('All','Saline'),('All','Total')]\n",
    "\n",
    "totalWithdrawals.columns=pd.MultiIndex.from_tuples(columns)\n",
    "totalWithdrawals.drop([0],inplace=True,axis=0)"
   ]
  },
  {
   "cell_type": "code",
   "execution_count": 6,
   "metadata": {
    "collapsed": false
   },
   "outputs": [],
   "source": [
    "totalWithdrawals['stats','GW percent tot'] = pd.to_numeric(totalWithdrawals['Groundwater','Total'])/pd.to_numeric(totalWithdrawals.ix[54,('Groundwater','Total')])*100 \n",
    "totalWithdrawals['stats','SW percent tot'] = pd.to_numeric(totalWithdrawals['Surface Water','Total'])/pd.to_numeric(totalWithdrawals.ix[54,('Surface Water','Total')])*100\n",
    "totalWithdrawals['stats','SW percent'] = pd.to_numeric(totalWithdrawals['Surface Water','Total'])/pd.to_numeric(totalWithdrawals['All','Total'])*100\n",
    "totalWithdrawals['stats','GW percent'] = pd.to_numeric(totalWithdrawals['Groundwater','Total'])/pd.to_numeric(totalWithdrawals['All','Total'])*100"
   ]
  },
  {
   "cell_type": "code",
   "execution_count": 7,
   "metadata": {
    "collapsed": false
   },
   "outputs": [],
   "source": [
    "totalWithdrawals['stats','GW fresh percent tot'] = pd.to_numeric(totalWithdrawals['Groundwater','Fresh'])/pd.to_numeric(totalWithdrawals.ix[54,('Groundwater','Fresh')])*100 \n",
    "totalWithdrawals['stats','SW fresh percent tot'] = pd.to_numeric(totalWithdrawals['Surface Water','Fresh'])/pd.to_numeric(totalWithdrawals.ix[54,('Surface Water','Fresh')])*100\n",
    "totalWithdrawals['stats','SW fresh percent'] = pd.to_numeric(totalWithdrawals['Surface Water','Fresh'])/pd.to_numeric(totalWithdrawals['All','Fresh'])*100\n",
    "totalWithdrawals['stats','GW fresh percent'] = pd.to_numeric(totalWithdrawals['Groundwater','Fresh'])/pd.to_numeric(totalWithdrawals['All','Fresh'])*100"
   ]
  },
  {
   "cell_type": "code",
   "execution_count": 8,
   "metadata": {
    "collapsed": false
   },
   "outputs": [],
   "source": [
    "totalWithdrawalsWest = totalWithdrawals[totalWithdrawals['Descriptors','State'].isin(('California','Nevada','Arizona',\n",
    "                                                                                    'Utah','Oregon','Washington',\n",
    "                                                                                    'Colorado','New Mexico','Oklahoma',\n",
    "                                                                                     'Nebraska','Kansas','Texas',\n",
    "                                                                                     'South Dakota','North Dakota',\n",
    "                                                                                     'Wyoming','Montana'))] "
   ]
  },
  {
   "cell_type": "code",
   "execution_count": 9,
   "metadata": {
    "collapsed": false
   },
   "outputs": [
    {
     "name": "stderr",
     "output_type": "stream",
     "text": [
      "c:\\winpython-64bit-2.7.10.3\\python-2.7.10.amd64\\lib\\site-packages\\pandas\\core\\indexing.py:476: SettingWithCopyWarning: \n",
      "A value is trying to be set on a copy of a slice from a DataFrame.\n",
      "Try using .loc[row_indexer,col_indexer] = value instead\n",
      "\n",
      "See the caveats in the documentation: http://pandas.pydata.org/pandas-docs/stable/indexing.html#indexing-view-versus-copy\n",
      "  self.obj[item] = s\n"
     ]
    }
   ],
   "source": [
    "totalWithdrawalsWest.ix[:,('stats','GW percent tot')] = totalWithdrawalsWest['Groundwater','Total']/totalWithdrawalsWest['Groundwater','Total'].sum()\n",
    "totalWithdrawalsWest.ix[:,('stats','SW percent tot')] = totalWithdrawalsWest['Surface Water','Total']/totalWithdrawalsWest['Surface Water','Total'].sum()\n",
    "totalWithdrawalsWest.ix[:,('stats','GW percent')] = totalWithdrawalsWest['Groundwater','Total']/totalWithdrawalsWest['All','Total']\n",
    "totalWithdrawalsWest.ix[:,('stats','SW percent')] = totalWithdrawalsWest['Surface Water','Total']/totalWithdrawalsWest['All','Total']"
   ]
  },
  {
   "cell_type": "code",
   "execution_count": 11,
   "metadata": {
    "collapsed": false
   },
   "outputs": [],
   "source": [
    "totalWithdrawalsWest.to_clipboard()"
   ]
  },
  {
   "cell_type": "code",
   "execution_count": null,
   "metadata": {
    "collapsed": true
   },
   "outputs": [],
   "source": []
  }
 ],
 "metadata": {
  "kernelspec": {
   "display_name": "Python 2",
   "language": "python",
   "name": "python2"
  },
  "language_info": {
   "codemirror_mode": {
    "name": "ipython",
    "version": 2
   },
   "file_extension": ".py",
   "mimetype": "text/x-python",
   "name": "python",
   "nbconvert_exporter": "python",
   "pygments_lexer": "ipython2",
   "version": "2.7.10"
  }
 },
 "nbformat": 4,
 "nbformat_minor": 1
}
